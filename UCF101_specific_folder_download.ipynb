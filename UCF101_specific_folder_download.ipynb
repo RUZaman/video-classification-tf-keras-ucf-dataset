{
  "nbformat": 4,
  "nbformat_minor": 0,
  "metadata": {
    "colab": {
      "name": "UCF101_specific_folder_download.ipynb",
      "provenance": [],
      "include_colab_link": true
    },
    "kernelspec": {
      "name": "python3",
      "display_name": "Python 3"
    },
    "language_info": {
      "name": "python"
    }
  },
  "cells": [
    {
      "cell_type": "markdown",
      "metadata": {
        "id": "view-in-github",
        "colab_type": "text"
      },
      "source": [
        "<a href=\"https://colab.research.google.com/github/Soumi7/TFNotebooks/blob/master/UCF101_specific_folder_download.ipynb\" target=\"_parent\"><img src=\"https://colab.research.google.com/assets/colab-badge.svg\" alt=\"Open In Colab\"/></a>"
      ]
    },
    {
      "cell_type": "code",
      "metadata": {
        "id": "XQPyRlWvoqmN"
      },
      "source": [
        "import tensorflow as tf\n",
        "import tensorflow_hub as hub\n",
        "import random\n",
        "import os\n",
        "import ssl\n",
        "import cv2\n",
        "import numpy as np\n",
        "import imageio\n",
        "from IPython import display\n",
        "from urllib import request\n",
        "import re\n",
        "import tempfile"
      ],
      "execution_count": 2,
      "outputs": []
    },
    {
      "cell_type": "code",
      "metadata": {
        "id": "WE-1Zfyxo7Uf"
      },
      "source": [
        "UCF_ROOT = \"https://www.crcv.ucf.edu/THUMOS14/UCF101/UCF101/\"\n",
        "_VIDEO_LIST = None\n",
        "Videos ={}\n",
        "_CACHE_DIR = tempfile.mkdtemp()\n",
        "# default Colab environment anymore.\n",
        "unverified_context = ssl._create_unverified_context()\n",
        "def list_ucf_videos():\n",
        "  global _VIDEO_LIST\n",
        "  if not _VIDEO_LIST:\n",
        "    index = request.urlopen(UCF_ROOT, context=unverified_context).read().decode(\"utf-8\")\n",
        "    v = ['HandstandPushups','HandstandWalking','PullUps','Punch','PushUps']\n",
        "    for i in v:\n",
        "      s = \"(v_\"+str(i)+\"[\\w_]+\\.avi)\"\n",
        "      videos = re.findall(s, index)\n",
        "      Videos[i]=sorted(set(videos))\n",
        "  return Videos"
      ],
      "execution_count": 3,
      "outputs": []
    },
    {
      "cell_type": "code",
      "metadata": {
        "colab": {
          "base_uri": "https://localhost:8080/"
        },
        "id": "DHDv0TxIQ-4d",
        "outputId": "524b6588-7b66-47dd-c1ae-22c0be716c42"
      },
      "source": [
        "V={}\n",
        "V = list_ucf_videos()\n",
        "for key,value in V.items():\n",
        "  print(key,value)"
      ],
      "execution_count": 4,
      "outputs": [
        {
          "output_type": "stream",
          "text": [
            "HandstandPushups ['v_HandstandPushups_g01_c01.avi', 'v_HandstandPushups_g01_c02.avi', 'v_HandstandPushups_g01_c03.avi', 'v_HandstandPushups_g01_c04.avi', 'v_HandstandPushups_g02_c01.avi', 'v_HandstandPushups_g02_c02.avi', 'v_HandstandPushups_g02_c03.avi', 'v_HandstandPushups_g02_c04.avi', 'v_HandstandPushups_g03_c01.avi', 'v_HandstandPushups_g03_c02.avi', 'v_HandstandPushups_g03_c03.avi', 'v_HandstandPushups_g03_c04.avi', 'v_HandstandPushups_g04_c01.avi', 'v_HandstandPushups_g04_c02.avi', 'v_HandstandPushups_g04_c03.avi', 'v_HandstandPushups_g04_c04.avi', 'v_HandstandPushups_g05_c01.avi', 'v_HandstandPushups_g05_c02.avi', 'v_HandstandPushups_g05_c03.avi', 'v_HandstandPushups_g05_c04.avi', 'v_HandstandPushups_g06_c01.avi', 'v_HandstandPushups_g06_c02.avi', 'v_HandstandPushups_g06_c03.avi', 'v_HandstandPushups_g06_c04.avi', 'v_HandstandPushups_g07_c01.avi', 'v_HandstandPushups_g07_c02.avi', 'v_HandstandPushups_g07_c03.avi', 'v_HandstandPushups_g07_c04.avi', 'v_HandstandPushups_g08_c01.avi', 'v_HandstandPushups_g08_c02.avi', 'v_HandstandPushups_g08_c03.avi', 'v_HandstandPushups_g08_c04.avi', 'v_HandstandPushups_g08_c05.avi', 'v_HandstandPushups_g09_c01.avi', 'v_HandstandPushups_g09_c02.avi', 'v_HandstandPushups_g09_c03.avi', 'v_HandstandPushups_g09_c04.avi', 'v_HandstandPushups_g10_c01.avi', 'v_HandstandPushups_g10_c02.avi', 'v_HandstandPushups_g10_c03.avi', 'v_HandstandPushups_g10_c04.avi', 'v_HandstandPushups_g11_c01.avi', 'v_HandstandPushups_g11_c02.avi', 'v_HandstandPushups_g11_c03.avi', 'v_HandstandPushups_g11_c04.avi', 'v_HandstandPushups_g11_c05.avi', 'v_HandstandPushups_g11_c06.avi', 'v_HandstandPushups_g12_c01.avi', 'v_HandstandPushups_g12_c02.avi', 'v_HandstandPushups_g12_c03.avi', 'v_HandstandPushups_g12_c04.avi', 'v_HandstandPushups_g12_c05.avi', 'v_HandstandPushups_g12_c06.avi', 'v_HandstandPushups_g12_c07.avi', 'v_HandstandPushups_g13_c01.avi', 'v_HandstandPushups_g13_c02.avi', 'v_HandstandPushups_g13_c03.avi', 'v_HandstandPushups_g13_c04.avi', 'v_HandstandPushups_g13_c05.avi', 'v_HandstandPushups_g13_c06.avi', 'v_HandstandPushups_g13_c07.avi', 'v_HandstandPushups_g14_c01.avi', 'v_HandstandPushups_g14_c02.avi', 'v_HandstandPushups_g14_c03.avi', 'v_HandstandPushups_g14_c04.avi', 'v_HandstandPushups_g15_c01.avi', 'v_HandstandPushups_g15_c02.avi', 'v_HandstandPushups_g15_c03.avi', 'v_HandstandPushups_g15_c04.avi', 'v_HandstandPushups_g15_c05.avi', 'v_HandstandPushups_g15_c06.avi', 'v_HandstandPushups_g16_c01.avi', 'v_HandstandPushups_g16_c02.avi', 'v_HandstandPushups_g16_c03.avi', 'v_HandstandPushups_g16_c04.avi', 'v_HandstandPushups_g16_c05.avi', 'v_HandstandPushups_g16_c06.avi', 'v_HandstandPushups_g16_c07.avi', 'v_HandstandPushups_g17_c01.avi', 'v_HandstandPushups_g17_c02.avi', 'v_HandstandPushups_g17_c03.avi', 'v_HandstandPushups_g17_c04.avi', 'v_HandstandPushups_g17_c05.avi', 'v_HandstandPushups_g18_c01.avi', 'v_HandstandPushups_g18_c02.avi', 'v_HandstandPushups_g18_c03.avi', 'v_HandstandPushups_g18_c04.avi', 'v_HandstandPushups_g18_c05.avi', 'v_HandstandPushups_g18_c06.avi', 'v_HandstandPushups_g18_c07.avi', 'v_HandstandPushups_g19_c01.avi', 'v_HandstandPushups_g19_c02.avi', 'v_HandstandPushups_g19_c03.avi', 'v_HandstandPushups_g19_c04.avi', 'v_HandstandPushups_g20_c01.avi', 'v_HandstandPushups_g20_c02.avi', 'v_HandstandPushups_g20_c03.avi', 'v_HandstandPushups_g20_c04.avi', 'v_HandstandPushups_g20_c05.avi', 'v_HandstandPushups_g20_c06.avi', 'v_HandstandPushups_g20_c07.avi', 'v_HandstandPushups_g21_c01.avi', 'v_HandstandPushups_g21_c02.avi', 'v_HandstandPushups_g21_c03.avi', 'v_HandstandPushups_g21_c04.avi', 'v_HandstandPushups_g21_c05.avi', 'v_HandstandPushups_g21_c06.avi', 'v_HandstandPushups_g22_c01.avi', 'v_HandstandPushups_g22_c02.avi', 'v_HandstandPushups_g22_c03.avi', 'v_HandstandPushups_g22_c04.avi', 'v_HandstandPushups_g22_c05.avi', 'v_HandstandPushups_g23_c01.avi', 'v_HandstandPushups_g23_c02.avi', 'v_HandstandPushups_g23_c03.avi', 'v_HandstandPushups_g23_c04.avi', 'v_HandstandPushups_g23_c05.avi', 'v_HandstandPushups_g24_c01.avi', 'v_HandstandPushups_g24_c02.avi', 'v_HandstandPushups_g24_c03.avi', 'v_HandstandPushups_g24_c04.avi', 'v_HandstandPushups_g25_c01.avi', 'v_HandstandPushups_g25_c02.avi', 'v_HandstandPushups_g25_c03.avi', 'v_HandstandPushups_g25_c04.avi', 'v_HandstandPushups_g25_c05.avi', 'v_HandstandPushups_g25_c06.avi', 'v_HandstandPushups_g25_c07.avi']\n",
            "HandstandWalking ['v_HandstandWalking_g01_c01.avi', 'v_HandstandWalking_g01_c02.avi', 'v_HandstandWalking_g01_c03.avi', 'v_HandstandWalking_g01_c04.avi', 'v_HandstandWalking_g02_c01.avi', 'v_HandstandWalking_g02_c02.avi', 'v_HandstandWalking_g02_c03.avi', 'v_HandstandWalking_g02_c04.avi', 'v_HandstandWalking_g03_c01.avi', 'v_HandstandWalking_g03_c02.avi', 'v_HandstandWalking_g03_c03.avi', 'v_HandstandWalking_g03_c04.avi', 'v_HandstandWalking_g04_c01.avi', 'v_HandstandWalking_g04_c02.avi', 'v_HandstandWalking_g04_c03.avi', 'v_HandstandWalking_g04_c04.avi', 'v_HandstandWalking_g04_c05.avi', 'v_HandstandWalking_g05_c01.avi', 'v_HandstandWalking_g05_c02.avi', 'v_HandstandWalking_g05_c03.avi', 'v_HandstandWalking_g05_c04.avi', 'v_HandstandWalking_g05_c05.avi', 'v_HandstandWalking_g05_c06.avi', 'v_HandstandWalking_g05_c07.avi', 'v_HandstandWalking_g06_c01.avi', 'v_HandstandWalking_g06_c02.avi', 'v_HandstandWalking_g06_c03.avi', 'v_HandstandWalking_g06_c04.avi', 'v_HandstandWalking_g07_c01.avi', 'v_HandstandWalking_g07_c02.avi', 'v_HandstandWalking_g07_c03.avi', 'v_HandstandWalking_g07_c04.avi', 'v_HandstandWalking_g07_c05.avi', 'v_HandstandWalking_g07_c06.avi', 'v_HandstandWalking_g08_c01.avi', 'v_HandstandWalking_g08_c02.avi', 'v_HandstandWalking_g08_c03.avi', 'v_HandstandWalking_g08_c04.avi', 'v_HandstandWalking_g09_c01.avi', 'v_HandstandWalking_g09_c02.avi', 'v_HandstandWalking_g09_c03.avi', 'v_HandstandWalking_g09_c04.avi', 'v_HandstandWalking_g10_c01.avi', 'v_HandstandWalking_g10_c02.avi', 'v_HandstandWalking_g10_c03.avi', 'v_HandstandWalking_g10_c04.avi', 'v_HandstandWalking_g11_c01.avi', 'v_HandstandWalking_g11_c02.avi', 'v_HandstandWalking_g11_c03.avi', 'v_HandstandWalking_g11_c04.avi', 'v_HandstandWalking_g12_c01.avi', 'v_HandstandWalking_g12_c02.avi', 'v_HandstandWalking_g12_c03.avi', 'v_HandstandWalking_g12_c04.avi', 'v_HandstandWalking_g13_c01.avi', 'v_HandstandWalking_g13_c02.avi', 'v_HandstandWalking_g13_c03.avi', 'v_HandstandWalking_g13_c04.avi', 'v_HandstandWalking_g14_c01.avi', 'v_HandstandWalking_g14_c02.avi', 'v_HandstandWalking_g14_c03.avi', 'v_HandstandWalking_g14_c04.avi', 'v_HandstandWalking_g15_c01.avi', 'v_HandstandWalking_g15_c02.avi', 'v_HandstandWalking_g15_c03.avi', 'v_HandstandWalking_g15_c04.avi', 'v_HandstandWalking_g16_c01.avi', 'v_HandstandWalking_g16_c02.avi', 'v_HandstandWalking_g16_c03.avi', 'v_HandstandWalking_g16_c04.avi', 'v_HandstandWalking_g17_c01.avi', 'v_HandstandWalking_g17_c02.avi', 'v_HandstandWalking_g17_c03.avi', 'v_HandstandWalking_g17_c04.avi', 'v_HandstandWalking_g18_c01.avi', 'v_HandstandWalking_g18_c02.avi', 'v_HandstandWalking_g18_c03.avi', 'v_HandstandWalking_g18_c04.avi', 'v_HandstandWalking_g18_c05.avi', 'v_HandstandWalking_g18_c06.avi', 'v_HandstandWalking_g18_c07.avi', 'v_HandstandWalking_g19_c01.avi', 'v_HandstandWalking_g19_c02.avi', 'v_HandstandWalking_g19_c03.avi', 'v_HandstandWalking_g19_c04.avi', 'v_HandstandWalking_g20_c01.avi', 'v_HandstandWalking_g20_c02.avi', 'v_HandstandWalking_g20_c03.avi', 'v_HandstandWalking_g20_c04.avi', 'v_HandstandWalking_g21_c01.avi', 'v_HandstandWalking_g21_c02.avi', 'v_HandstandWalking_g21_c03.avi', 'v_HandstandWalking_g21_c04.avi', 'v_HandstandWalking_g22_c01.avi', 'v_HandstandWalking_g22_c02.avi', 'v_HandstandWalking_g22_c03.avi', 'v_HandstandWalking_g22_c04.avi', 'v_HandstandWalking_g23_c01.avi', 'v_HandstandWalking_g23_c02.avi', 'v_HandstandWalking_g23_c03.avi', 'v_HandstandWalking_g23_c04.avi', 'v_HandstandWalking_g24_c01.avi', 'v_HandstandWalking_g24_c02.avi', 'v_HandstandWalking_g24_c03.avi', 'v_HandstandWalking_g24_c04.avi', 'v_HandstandWalking_g24_c05.avi', 'v_HandstandWalking_g24_c06.avi', 'v_HandstandWalking_g25_c01.avi', 'v_HandstandWalking_g25_c02.avi', 'v_HandstandWalking_g25_c03.avi', 'v_HandstandWalking_g25_c04.avi']\n",
            "PullUps ['v_PullUps_g01_c01.avi', 'v_PullUps_g01_c02.avi', 'v_PullUps_g01_c03.avi', 'v_PullUps_g01_c04.avi', 'v_PullUps_g02_c01.avi', 'v_PullUps_g02_c02.avi', 'v_PullUps_g02_c03.avi', 'v_PullUps_g02_c04.avi', 'v_PullUps_g03_c01.avi', 'v_PullUps_g03_c02.avi', 'v_PullUps_g03_c03.avi', 'v_PullUps_g03_c04.avi', 'v_PullUps_g04_c01.avi', 'v_PullUps_g04_c02.avi', 'v_PullUps_g04_c03.avi', 'v_PullUps_g04_c04.avi', 'v_PullUps_g05_c01.avi', 'v_PullUps_g05_c02.avi', 'v_PullUps_g05_c03.avi', 'v_PullUps_g05_c04.avi', 'v_PullUps_g06_c01.avi', 'v_PullUps_g06_c02.avi', 'v_PullUps_g06_c03.avi', 'v_PullUps_g06_c04.avi', 'v_PullUps_g07_c01.avi', 'v_PullUps_g07_c02.avi', 'v_PullUps_g07_c03.avi', 'v_PullUps_g07_c04.avi', 'v_PullUps_g08_c01.avi', 'v_PullUps_g08_c02.avi', 'v_PullUps_g08_c03.avi', 'v_PullUps_g08_c04.avi', 'v_PullUps_g09_c01.avi', 'v_PullUps_g09_c02.avi', 'v_PullUps_g09_c03.avi', 'v_PullUps_g09_c04.avi', 'v_PullUps_g10_c01.avi', 'v_PullUps_g10_c02.avi', 'v_PullUps_g10_c03.avi', 'v_PullUps_g10_c04.avi', 'v_PullUps_g11_c01.avi', 'v_PullUps_g11_c02.avi', 'v_PullUps_g11_c03.avi', 'v_PullUps_g11_c04.avi', 'v_PullUps_g12_c01.avi', 'v_PullUps_g12_c02.avi', 'v_PullUps_g12_c03.avi', 'v_PullUps_g12_c04.avi', 'v_PullUps_g13_c01.avi', 'v_PullUps_g13_c02.avi', 'v_PullUps_g13_c03.avi', 'v_PullUps_g13_c04.avi', 'v_PullUps_g14_c01.avi', 'v_PullUps_g14_c02.avi', 'v_PullUps_g14_c03.avi', 'v_PullUps_g14_c04.avi', 'v_PullUps_g15_c01.avi', 'v_PullUps_g15_c02.avi', 'v_PullUps_g15_c03.avi', 'v_PullUps_g15_c04.avi', 'v_PullUps_g16_c01.avi', 'v_PullUps_g16_c02.avi', 'v_PullUps_g16_c03.avi', 'v_PullUps_g16_c04.avi', 'v_PullUps_g17_c01.avi', 'v_PullUps_g17_c02.avi', 'v_PullUps_g17_c03.avi', 'v_PullUps_g17_c04.avi', 'v_PullUps_g18_c01.avi', 'v_PullUps_g18_c02.avi', 'v_PullUps_g18_c03.avi', 'v_PullUps_g18_c04.avi', 'v_PullUps_g19_c01.avi', 'v_PullUps_g19_c02.avi', 'v_PullUps_g19_c03.avi', 'v_PullUps_g19_c04.avi', 'v_PullUps_g20_c01.avi', 'v_PullUps_g20_c02.avi', 'v_PullUps_g20_c03.avi', 'v_PullUps_g20_c04.avi', 'v_PullUps_g21_c01.avi', 'v_PullUps_g21_c02.avi', 'v_PullUps_g21_c03.avi', 'v_PullUps_g21_c04.avi', 'v_PullUps_g22_c01.avi', 'v_PullUps_g22_c02.avi', 'v_PullUps_g22_c03.avi', 'v_PullUps_g22_c04.avi', 'v_PullUps_g23_c01.avi', 'v_PullUps_g23_c02.avi', 'v_PullUps_g23_c03.avi', 'v_PullUps_g23_c04.avi', 'v_PullUps_g24_c01.avi', 'v_PullUps_g24_c02.avi', 'v_PullUps_g24_c03.avi', 'v_PullUps_g24_c04.avi', 'v_PullUps_g25_c01.avi', 'v_PullUps_g25_c02.avi', 'v_PullUps_g25_c03.avi', 'v_PullUps_g25_c04.avi']\n",
            "Punch ['v_Punch_g01_c01.avi', 'v_Punch_g01_c02.avi', 'v_Punch_g01_c03.avi', 'v_Punch_g01_c04.avi', 'v_Punch_g01_c05.avi', 'v_Punch_g02_c01.avi', 'v_Punch_g02_c02.avi', 'v_Punch_g02_c03.avi', 'v_Punch_g02_c04.avi', 'v_Punch_g03_c01.avi', 'v_Punch_g03_c02.avi', 'v_Punch_g03_c03.avi', 'v_Punch_g03_c04.avi', 'v_Punch_g04_c01.avi', 'v_Punch_g04_c02.avi', 'v_Punch_g04_c03.avi', 'v_Punch_g04_c04.avi', 'v_Punch_g04_c05.avi', 'v_Punch_g05_c01.avi', 'v_Punch_g05_c02.avi', 'v_Punch_g05_c03.avi', 'v_Punch_g05_c04.avi', 'v_Punch_g05_c05.avi', 'v_Punch_g05_c06.avi', 'v_Punch_g05_c07.avi', 'v_Punch_g06_c01.avi', 'v_Punch_g06_c02.avi', 'v_Punch_g06_c03.avi', 'v_Punch_g06_c04.avi', 'v_Punch_g06_c05.avi', 'v_Punch_g06_c06.avi', 'v_Punch_g06_c07.avi', 'v_Punch_g07_c01.avi', 'v_Punch_g07_c02.avi', 'v_Punch_g07_c03.avi', 'v_Punch_g07_c04.avi', 'v_Punch_g07_c05.avi', 'v_Punch_g07_c06.avi', 'v_Punch_g07_c07.avi', 'v_Punch_g08_c01.avi', 'v_Punch_g08_c02.avi', 'v_Punch_g08_c03.avi', 'v_Punch_g08_c04.avi', 'v_Punch_g08_c05.avi', 'v_Punch_g08_c06.avi', 'v_Punch_g08_c07.avi', 'v_Punch_g09_c01.avi', 'v_Punch_g09_c02.avi', 'v_Punch_g09_c03.avi', 'v_Punch_g09_c04.avi', 'v_Punch_g09_c05.avi', 'v_Punch_g09_c06.avi', 'v_Punch_g09_c07.avi', 'v_Punch_g10_c01.avi', 'v_Punch_g10_c02.avi', 'v_Punch_g10_c03.avi', 'v_Punch_g10_c04.avi', 'v_Punch_g10_c05.avi', 'v_Punch_g10_c06.avi', 'v_Punch_g11_c01.avi', 'v_Punch_g11_c02.avi', 'v_Punch_g11_c03.avi', 'v_Punch_g11_c04.avi', 'v_Punch_g11_c05.avi', 'v_Punch_g11_c06.avi', 'v_Punch_g11_c07.avi', 'v_Punch_g12_c01.avi', 'v_Punch_g12_c02.avi', 'v_Punch_g12_c03.avi', 'v_Punch_g12_c04.avi', 'v_Punch_g12_c05.avi', 'v_Punch_g12_c06.avi', 'v_Punch_g12_c07.avi', 'v_Punch_g13_c01.avi', 'v_Punch_g13_c02.avi', 'v_Punch_g13_c03.avi', 'v_Punch_g13_c04.avi', 'v_Punch_g13_c05.avi', 'v_Punch_g13_c06.avi', 'v_Punch_g13_c07.avi', 'v_Punch_g14_c01.avi', 'v_Punch_g14_c02.avi', 'v_Punch_g14_c03.avi', 'v_Punch_g14_c04.avi', 'v_Punch_g14_c05.avi', 'v_Punch_g14_c06.avi', 'v_Punch_g14_c07.avi', 'v_Punch_g15_c01.avi', 'v_Punch_g15_c02.avi', 'v_Punch_g15_c03.avi', 'v_Punch_g15_c04.avi', 'v_Punch_g15_c05.avi', 'v_Punch_g15_c06.avi', 'v_Punch_g16_c01.avi', 'v_Punch_g16_c02.avi', 'v_Punch_g16_c03.avi', 'v_Punch_g16_c04.avi', 'v_Punch_g16_c05.avi', 'v_Punch_g16_c06.avi', 'v_Punch_g16_c07.avi', 'v_Punch_g17_c01.avi', 'v_Punch_g17_c02.avi', 'v_Punch_g17_c03.avi', 'v_Punch_g17_c04.avi', 'v_Punch_g17_c05.avi', 'v_Punch_g17_c06.avi', 'v_Punch_g17_c07.avi', 'v_Punch_g18_c01.avi', 'v_Punch_g18_c02.avi', 'v_Punch_g18_c03.avi', 'v_Punch_g18_c04.avi', 'v_Punch_g18_c05.avi', 'v_Punch_g18_c06.avi', 'v_Punch_g18_c07.avi', 'v_Punch_g19_c01.avi', 'v_Punch_g19_c02.avi', 'v_Punch_g19_c03.avi', 'v_Punch_g19_c04.avi', 'v_Punch_g19_c05.avi', 'v_Punch_g19_c06.avi', 'v_Punch_g19_c07.avi', 'v_Punch_g20_c01.avi', 'v_Punch_g20_c02.avi', 'v_Punch_g20_c03.avi', 'v_Punch_g20_c04.avi', 'v_Punch_g21_c01.avi', 'v_Punch_g21_c02.avi', 'v_Punch_g21_c03.avi', 'v_Punch_g21_c04.avi', 'v_Punch_g21_c05.avi', 'v_Punch_g21_c06.avi', 'v_Punch_g21_c07.avi', 'v_Punch_g22_c01.avi', 'v_Punch_g22_c02.avi', 'v_Punch_g22_c03.avi', 'v_Punch_g22_c04.avi', 'v_Punch_g22_c05.avi', 'v_Punch_g22_c06.avi', 'v_Punch_g22_c07.avi', 'v_Punch_g23_c01.avi', 'v_Punch_g23_c02.avi', 'v_Punch_g23_c03.avi', 'v_Punch_g23_c04.avi', 'v_Punch_g23_c05.avi', 'v_Punch_g23_c06.avi', 'v_Punch_g23_c07.avi', 'v_Punch_g24_c01.avi', 'v_Punch_g24_c02.avi', 'v_Punch_g24_c03.avi', 'v_Punch_g24_c04.avi', 'v_Punch_g24_c05.avi', 'v_Punch_g24_c06.avi', 'v_Punch_g24_c07.avi', 'v_Punch_g25_c01.avi', 'v_Punch_g25_c02.avi', 'v_Punch_g25_c03.avi', 'v_Punch_g25_c04.avi', 'v_Punch_g25_c05.avi', 'v_Punch_g25_c06.avi', 'v_Punch_g25_c07.avi']\n",
            "PushUps ['v_PushUps_g01_c01.avi', 'v_PushUps_g01_c02.avi', 'v_PushUps_g01_c03.avi', 'v_PushUps_g01_c04.avi', 'v_PushUps_g01_c05.avi', 'v_PushUps_g02_c01.avi', 'v_PushUps_g02_c02.avi', 'v_PushUps_g02_c03.avi', 'v_PushUps_g02_c04.avi', 'v_PushUps_g03_c01.avi', 'v_PushUps_g03_c02.avi', 'v_PushUps_g03_c03.avi', 'v_PushUps_g03_c04.avi', 'v_PushUps_g04_c01.avi', 'v_PushUps_g04_c02.avi', 'v_PushUps_g04_c03.avi', 'v_PushUps_g04_c04.avi', 'v_PushUps_g04_c05.avi', 'v_PushUps_g05_c01.avi', 'v_PushUps_g05_c02.avi', 'v_PushUps_g05_c03.avi', 'v_PushUps_g05_c04.avi', 'v_PushUps_g06_c01.avi', 'v_PushUps_g06_c02.avi', 'v_PushUps_g06_c03.avi', 'v_PushUps_g06_c04.avi', 'v_PushUps_g07_c01.avi', 'v_PushUps_g07_c02.avi', 'v_PushUps_g07_c03.avi', 'v_PushUps_g07_c04.avi', 'v_PushUps_g08_c01.avi', 'v_PushUps_g08_c02.avi', 'v_PushUps_g08_c03.avi', 'v_PushUps_g08_c04.avi', 'v_PushUps_g09_c01.avi', 'v_PushUps_g09_c02.avi', 'v_PushUps_g09_c03.avi', 'v_PushUps_g09_c04.avi', 'v_PushUps_g10_c01.avi', 'v_PushUps_g10_c02.avi', 'v_PushUps_g10_c03.avi', 'v_PushUps_g10_c04.avi', 'v_PushUps_g11_c01.avi', 'v_PushUps_g11_c02.avi', 'v_PushUps_g11_c03.avi', 'v_PushUps_g11_c04.avi', 'v_PushUps_g12_c01.avi', 'v_PushUps_g12_c02.avi', 'v_PushUps_g12_c03.avi', 'v_PushUps_g12_c04.avi', 'v_PushUps_g13_c01.avi', 'v_PushUps_g13_c02.avi', 'v_PushUps_g13_c03.avi', 'v_PushUps_g13_c04.avi', 'v_PushUps_g14_c01.avi', 'v_PushUps_g14_c02.avi', 'v_PushUps_g14_c03.avi', 'v_PushUps_g14_c04.avi', 'v_PushUps_g15_c01.avi', 'v_PushUps_g15_c02.avi', 'v_PushUps_g15_c03.avi', 'v_PushUps_g15_c04.avi', 'v_PushUps_g16_c01.avi', 'v_PushUps_g16_c02.avi', 'v_PushUps_g16_c03.avi', 'v_PushUps_g16_c04.avi', 'v_PushUps_g17_c01.avi', 'v_PushUps_g17_c02.avi', 'v_PushUps_g17_c03.avi', 'v_PushUps_g17_c04.avi', 'v_PushUps_g18_c01.avi', 'v_PushUps_g18_c02.avi', 'v_PushUps_g18_c03.avi', 'v_PushUps_g18_c04.avi', 'v_PushUps_g19_c01.avi', 'v_PushUps_g19_c02.avi', 'v_PushUps_g19_c03.avi', 'v_PushUps_g19_c04.avi', 'v_PushUps_g20_c01.avi', 'v_PushUps_g20_c02.avi', 'v_PushUps_g20_c03.avi', 'v_PushUps_g20_c04.avi', 'v_PushUps_g21_c01.avi', 'v_PushUps_g21_c02.avi', 'v_PushUps_g21_c03.avi', 'v_PushUps_g21_c04.avi', 'v_PushUps_g22_c01.avi', 'v_PushUps_g22_c02.avi', 'v_PushUps_g22_c03.avi', 'v_PushUps_g22_c04.avi', 'v_PushUps_g23_c01.avi', 'v_PushUps_g23_c02.avi', 'v_PushUps_g23_c03.avi', 'v_PushUps_g23_c04.avi', 'v_PushUps_g24_c01.avi', 'v_PushUps_g24_c02.avi', 'v_PushUps_g24_c03.avi', 'v_PushUps_g24_c04.avi', 'v_PushUps_g25_c01.avi', 'v_PushUps_g25_c02.avi', 'v_PushUps_g25_c03.avi', 'v_PushUps_g25_c04.avi']\n"
          ],
          "name": "stdout"
        }
      ]
    },
    {
      "cell_type": "code",
      "metadata": {
        "colab": {
          "base_uri": "https://localhost:8080/"
        },
        "id": "jvqJbDZVXSUM",
        "outputId": "3a8a1ac6-4156-4614-b486-04e9a437dfe1"
      },
      "source": [
        "from google.colab import drive\n",
        "drive.mount('/content/drive')"
      ],
      "execution_count": 1,
      "outputs": [
        {
          "output_type": "stream",
          "text": [
            "Mounted at /content/drive\n"
          ],
          "name": "stdout"
        }
      ]
    },
    {
      "cell_type": "code",
      "metadata": {
        "id": "4jOK01fuRKps"
      },
      "source": [
        "# fetch videos from UCF101 dataset\n",
        "UCF_ROOT = \"https://www.crcv.ucf.edu/THUMOS14/UCF101/UCF101/\"\n",
        "_VIDEO_LIST = V['HandstandPushups']\n",
        "_CACHE_DIR = \"/content/drive/My Drive/ucf/HandstandPushups\"\n",
        "\n",
        "# default Colab environment anymore.\n",
        "unverified_context = ssl._create_unverified_context()\n",
        "def fetch_ucf_video(video):\n",
        "  cache_path = os.path.join(_CACHE_DIR, video)\n",
        "  if not os.path.exists(cache_path):\n",
        "    urlpath = request.urljoin(UCF_ROOT, video)\n",
        "    print(\"Fetching %s => %s\" % (urlpath, cache_path))\n",
        "    data = request.urlopen(urlpath, context=unverified_context).read()\n",
        "    open(cache_path, \"wb\").write(data)\n",
        "  return cache_path\n",
        "def crop_center_square(frame):\n",
        "  y, x = frame.shape[0:2]\n",
        "  min_dim = min(y, x)\n",
        "  start_x = (x // 2) - (min_dim // 2)\n",
        "  start_y = (y // 2) - (min_dim // 2)\n",
        "  return frame[start_y:start_y+min_dim,start_x:start_x+min_dim]"
      ],
      "execution_count": 6,
      "outputs": []
    },
    {
      "cell_type": "code",
      "metadata": {
        "colab": {
          "base_uri": "https://localhost:8080/"
        },
        "id": "3WeRxKPiW5Pb",
        "outputId": "d55c75ee-735a-4e2f-e032-bd8cc3f912c1"
      },
      "source": [
        "for i in _VIDEO_LIST:\n",
        "  video_path = fetch_ucf_video(i)"
      ],
      "execution_count": 7,
      "outputs": [
        {
          "output_type": "stream",
          "text": [
            "Fetching https://www.crcv.ucf.edu/THUMOS14/UCF101/UCF101/v_HandstandPushups_g01_c01.avi => /content/drive/My Drive/ucf/HandstandPushups/v_HandstandPushups_g01_c01.avi\n",
            "Fetching https://www.crcv.ucf.edu/THUMOS14/UCF101/UCF101/v_HandstandPushups_g01_c02.avi => /content/drive/My Drive/ucf/HandstandPushups/v_HandstandPushups_g01_c02.avi\n",
            "Fetching https://www.crcv.ucf.edu/THUMOS14/UCF101/UCF101/v_HandstandPushups_g01_c03.avi => /content/drive/My Drive/ucf/HandstandPushups/v_HandstandPushups_g01_c03.avi\n",
            "Fetching https://www.crcv.ucf.edu/THUMOS14/UCF101/UCF101/v_HandstandPushups_g01_c04.avi => /content/drive/My Drive/ucf/HandstandPushups/v_HandstandPushups_g01_c04.avi\n",
            "Fetching https://www.crcv.ucf.edu/THUMOS14/UCF101/UCF101/v_HandstandPushups_g02_c01.avi => /content/drive/My Drive/ucf/HandstandPushups/v_HandstandPushups_g02_c01.avi\n",
            "Fetching https://www.crcv.ucf.edu/THUMOS14/UCF101/UCF101/v_HandstandPushups_g02_c02.avi => /content/drive/My Drive/ucf/HandstandPushups/v_HandstandPushups_g02_c02.avi\n",
            "Fetching https://www.crcv.ucf.edu/THUMOS14/UCF101/UCF101/v_HandstandPushups_g02_c03.avi => /content/drive/My Drive/ucf/HandstandPushups/v_HandstandPushups_g02_c03.avi\n",
            "Fetching https://www.crcv.ucf.edu/THUMOS14/UCF101/UCF101/v_HandstandPushups_g02_c04.avi => /content/drive/My Drive/ucf/HandstandPushups/v_HandstandPushups_g02_c04.avi\n",
            "Fetching https://www.crcv.ucf.edu/THUMOS14/UCF101/UCF101/v_HandstandPushups_g03_c01.avi => /content/drive/My Drive/ucf/HandstandPushups/v_HandstandPushups_g03_c01.avi\n",
            "Fetching https://www.crcv.ucf.edu/THUMOS14/UCF101/UCF101/v_HandstandPushups_g03_c02.avi => /content/drive/My Drive/ucf/HandstandPushups/v_HandstandPushups_g03_c02.avi\n",
            "Fetching https://www.crcv.ucf.edu/THUMOS14/UCF101/UCF101/v_HandstandPushups_g03_c03.avi => /content/drive/My Drive/ucf/HandstandPushups/v_HandstandPushups_g03_c03.avi\n",
            "Fetching https://www.crcv.ucf.edu/THUMOS14/UCF101/UCF101/v_HandstandPushups_g03_c04.avi => /content/drive/My Drive/ucf/HandstandPushups/v_HandstandPushups_g03_c04.avi\n",
            "Fetching https://www.crcv.ucf.edu/THUMOS14/UCF101/UCF101/v_HandstandPushups_g04_c01.avi => /content/drive/My Drive/ucf/HandstandPushups/v_HandstandPushups_g04_c01.avi\n",
            "Fetching https://www.crcv.ucf.edu/THUMOS14/UCF101/UCF101/v_HandstandPushups_g04_c02.avi => /content/drive/My Drive/ucf/HandstandPushups/v_HandstandPushups_g04_c02.avi\n",
            "Fetching https://www.crcv.ucf.edu/THUMOS14/UCF101/UCF101/v_HandstandPushups_g04_c03.avi => /content/drive/My Drive/ucf/HandstandPushups/v_HandstandPushups_g04_c03.avi\n",
            "Fetching https://www.crcv.ucf.edu/THUMOS14/UCF101/UCF101/v_HandstandPushups_g04_c04.avi => /content/drive/My Drive/ucf/HandstandPushups/v_HandstandPushups_g04_c04.avi\n",
            "Fetching https://www.crcv.ucf.edu/THUMOS14/UCF101/UCF101/v_HandstandPushups_g05_c01.avi => /content/drive/My Drive/ucf/HandstandPushups/v_HandstandPushups_g05_c01.avi\n",
            "Fetching https://www.crcv.ucf.edu/THUMOS14/UCF101/UCF101/v_HandstandPushups_g05_c02.avi => /content/drive/My Drive/ucf/HandstandPushups/v_HandstandPushups_g05_c02.avi\n",
            "Fetching https://www.crcv.ucf.edu/THUMOS14/UCF101/UCF101/v_HandstandPushups_g05_c03.avi => /content/drive/My Drive/ucf/HandstandPushups/v_HandstandPushups_g05_c03.avi\n",
            "Fetching https://www.crcv.ucf.edu/THUMOS14/UCF101/UCF101/v_HandstandPushups_g05_c04.avi => /content/drive/My Drive/ucf/HandstandPushups/v_HandstandPushups_g05_c04.avi\n",
            "Fetching https://www.crcv.ucf.edu/THUMOS14/UCF101/UCF101/v_HandstandPushups_g06_c01.avi => /content/drive/My Drive/ucf/HandstandPushups/v_HandstandPushups_g06_c01.avi\n",
            "Fetching https://www.crcv.ucf.edu/THUMOS14/UCF101/UCF101/v_HandstandPushups_g06_c02.avi => /content/drive/My Drive/ucf/HandstandPushups/v_HandstandPushups_g06_c02.avi\n",
            "Fetching https://www.crcv.ucf.edu/THUMOS14/UCF101/UCF101/v_HandstandPushups_g06_c03.avi => /content/drive/My Drive/ucf/HandstandPushups/v_HandstandPushups_g06_c03.avi\n",
            "Fetching https://www.crcv.ucf.edu/THUMOS14/UCF101/UCF101/v_HandstandPushups_g06_c04.avi => /content/drive/My Drive/ucf/HandstandPushups/v_HandstandPushups_g06_c04.avi\n",
            "Fetching https://www.crcv.ucf.edu/THUMOS14/UCF101/UCF101/v_HandstandPushups_g07_c01.avi => /content/drive/My Drive/ucf/HandstandPushups/v_HandstandPushups_g07_c01.avi\n",
            "Fetching https://www.crcv.ucf.edu/THUMOS14/UCF101/UCF101/v_HandstandPushups_g07_c02.avi => /content/drive/My Drive/ucf/HandstandPushups/v_HandstandPushups_g07_c02.avi\n",
            "Fetching https://www.crcv.ucf.edu/THUMOS14/UCF101/UCF101/v_HandstandPushups_g07_c03.avi => /content/drive/My Drive/ucf/HandstandPushups/v_HandstandPushups_g07_c03.avi\n",
            "Fetching https://www.crcv.ucf.edu/THUMOS14/UCF101/UCF101/v_HandstandPushups_g07_c04.avi => /content/drive/My Drive/ucf/HandstandPushups/v_HandstandPushups_g07_c04.avi\n",
            "Fetching https://www.crcv.ucf.edu/THUMOS14/UCF101/UCF101/v_HandstandPushups_g08_c01.avi => /content/drive/My Drive/ucf/HandstandPushups/v_HandstandPushups_g08_c01.avi\n",
            "Fetching https://www.crcv.ucf.edu/THUMOS14/UCF101/UCF101/v_HandstandPushups_g08_c02.avi => /content/drive/My Drive/ucf/HandstandPushups/v_HandstandPushups_g08_c02.avi\n",
            "Fetching https://www.crcv.ucf.edu/THUMOS14/UCF101/UCF101/v_HandstandPushups_g08_c03.avi => /content/drive/My Drive/ucf/HandstandPushups/v_HandstandPushups_g08_c03.avi\n",
            "Fetching https://www.crcv.ucf.edu/THUMOS14/UCF101/UCF101/v_HandstandPushups_g08_c04.avi => /content/drive/My Drive/ucf/HandstandPushups/v_HandstandPushups_g08_c04.avi\n",
            "Fetching https://www.crcv.ucf.edu/THUMOS14/UCF101/UCF101/v_HandstandPushups_g08_c05.avi => /content/drive/My Drive/ucf/HandstandPushups/v_HandstandPushups_g08_c05.avi\n",
            "Fetching https://www.crcv.ucf.edu/THUMOS14/UCF101/UCF101/v_HandstandPushups_g09_c01.avi => /content/drive/My Drive/ucf/HandstandPushups/v_HandstandPushups_g09_c01.avi\n",
            "Fetching https://www.crcv.ucf.edu/THUMOS14/UCF101/UCF101/v_HandstandPushups_g09_c02.avi => /content/drive/My Drive/ucf/HandstandPushups/v_HandstandPushups_g09_c02.avi\n",
            "Fetching https://www.crcv.ucf.edu/THUMOS14/UCF101/UCF101/v_HandstandPushups_g09_c03.avi => /content/drive/My Drive/ucf/HandstandPushups/v_HandstandPushups_g09_c03.avi\n",
            "Fetching https://www.crcv.ucf.edu/THUMOS14/UCF101/UCF101/v_HandstandPushups_g09_c04.avi => /content/drive/My Drive/ucf/HandstandPushups/v_HandstandPushups_g09_c04.avi\n",
            "Fetching https://www.crcv.ucf.edu/THUMOS14/UCF101/UCF101/v_HandstandPushups_g10_c01.avi => /content/drive/My Drive/ucf/HandstandPushups/v_HandstandPushups_g10_c01.avi\n",
            "Fetching https://www.crcv.ucf.edu/THUMOS14/UCF101/UCF101/v_HandstandPushups_g10_c02.avi => /content/drive/My Drive/ucf/HandstandPushups/v_HandstandPushups_g10_c02.avi\n",
            "Fetching https://www.crcv.ucf.edu/THUMOS14/UCF101/UCF101/v_HandstandPushups_g10_c03.avi => /content/drive/My Drive/ucf/HandstandPushups/v_HandstandPushups_g10_c03.avi\n",
            "Fetching https://www.crcv.ucf.edu/THUMOS14/UCF101/UCF101/v_HandstandPushups_g10_c04.avi => /content/drive/My Drive/ucf/HandstandPushups/v_HandstandPushups_g10_c04.avi\n",
            "Fetching https://www.crcv.ucf.edu/THUMOS14/UCF101/UCF101/v_HandstandPushups_g11_c01.avi => /content/drive/My Drive/ucf/HandstandPushups/v_HandstandPushups_g11_c01.avi\n",
            "Fetching https://www.crcv.ucf.edu/THUMOS14/UCF101/UCF101/v_HandstandPushups_g11_c02.avi => /content/drive/My Drive/ucf/HandstandPushups/v_HandstandPushups_g11_c02.avi\n",
            "Fetching https://www.crcv.ucf.edu/THUMOS14/UCF101/UCF101/v_HandstandPushups_g11_c03.avi => /content/drive/My Drive/ucf/HandstandPushups/v_HandstandPushups_g11_c03.avi\n",
            "Fetching https://www.crcv.ucf.edu/THUMOS14/UCF101/UCF101/v_HandstandPushups_g11_c04.avi => /content/drive/My Drive/ucf/HandstandPushups/v_HandstandPushups_g11_c04.avi\n",
            "Fetching https://www.crcv.ucf.edu/THUMOS14/UCF101/UCF101/v_HandstandPushups_g11_c05.avi => /content/drive/My Drive/ucf/HandstandPushups/v_HandstandPushups_g11_c05.avi\n",
            "Fetching https://www.crcv.ucf.edu/THUMOS14/UCF101/UCF101/v_HandstandPushups_g11_c06.avi => /content/drive/My Drive/ucf/HandstandPushups/v_HandstandPushups_g11_c06.avi\n",
            "Fetching https://www.crcv.ucf.edu/THUMOS14/UCF101/UCF101/v_HandstandPushups_g12_c01.avi => /content/drive/My Drive/ucf/HandstandPushups/v_HandstandPushups_g12_c01.avi\n",
            "Fetching https://www.crcv.ucf.edu/THUMOS14/UCF101/UCF101/v_HandstandPushups_g12_c02.avi => /content/drive/My Drive/ucf/HandstandPushups/v_HandstandPushups_g12_c02.avi\n",
            "Fetching https://www.crcv.ucf.edu/THUMOS14/UCF101/UCF101/v_HandstandPushups_g12_c03.avi => /content/drive/My Drive/ucf/HandstandPushups/v_HandstandPushups_g12_c03.avi\n",
            "Fetching https://www.crcv.ucf.edu/THUMOS14/UCF101/UCF101/v_HandstandPushups_g12_c04.avi => /content/drive/My Drive/ucf/HandstandPushups/v_HandstandPushups_g12_c04.avi\n",
            "Fetching https://www.crcv.ucf.edu/THUMOS14/UCF101/UCF101/v_HandstandPushups_g12_c05.avi => /content/drive/My Drive/ucf/HandstandPushups/v_HandstandPushups_g12_c05.avi\n",
            "Fetching https://www.crcv.ucf.edu/THUMOS14/UCF101/UCF101/v_HandstandPushups_g12_c06.avi => /content/drive/My Drive/ucf/HandstandPushups/v_HandstandPushups_g12_c06.avi\n",
            "Fetching https://www.crcv.ucf.edu/THUMOS14/UCF101/UCF101/v_HandstandPushups_g12_c07.avi => /content/drive/My Drive/ucf/HandstandPushups/v_HandstandPushups_g12_c07.avi\n",
            "Fetching https://www.crcv.ucf.edu/THUMOS14/UCF101/UCF101/v_HandstandPushups_g13_c01.avi => /content/drive/My Drive/ucf/HandstandPushups/v_HandstandPushups_g13_c01.avi\n",
            "Fetching https://www.crcv.ucf.edu/THUMOS14/UCF101/UCF101/v_HandstandPushups_g13_c02.avi => /content/drive/My Drive/ucf/HandstandPushups/v_HandstandPushups_g13_c02.avi\n",
            "Fetching https://www.crcv.ucf.edu/THUMOS14/UCF101/UCF101/v_HandstandPushups_g13_c03.avi => /content/drive/My Drive/ucf/HandstandPushups/v_HandstandPushups_g13_c03.avi\n",
            "Fetching https://www.crcv.ucf.edu/THUMOS14/UCF101/UCF101/v_HandstandPushups_g13_c04.avi => /content/drive/My Drive/ucf/HandstandPushups/v_HandstandPushups_g13_c04.avi\n",
            "Fetching https://www.crcv.ucf.edu/THUMOS14/UCF101/UCF101/v_HandstandPushups_g13_c05.avi => /content/drive/My Drive/ucf/HandstandPushups/v_HandstandPushups_g13_c05.avi\n",
            "Fetching https://www.crcv.ucf.edu/THUMOS14/UCF101/UCF101/v_HandstandPushups_g13_c06.avi => /content/drive/My Drive/ucf/HandstandPushups/v_HandstandPushups_g13_c06.avi\n",
            "Fetching https://www.crcv.ucf.edu/THUMOS14/UCF101/UCF101/v_HandstandPushups_g13_c07.avi => /content/drive/My Drive/ucf/HandstandPushups/v_HandstandPushups_g13_c07.avi\n",
            "Fetching https://www.crcv.ucf.edu/THUMOS14/UCF101/UCF101/v_HandstandPushups_g14_c01.avi => /content/drive/My Drive/ucf/HandstandPushups/v_HandstandPushups_g14_c01.avi\n",
            "Fetching https://www.crcv.ucf.edu/THUMOS14/UCF101/UCF101/v_HandstandPushups_g14_c02.avi => /content/drive/My Drive/ucf/HandstandPushups/v_HandstandPushups_g14_c02.avi\n",
            "Fetching https://www.crcv.ucf.edu/THUMOS14/UCF101/UCF101/v_HandstandPushups_g14_c03.avi => /content/drive/My Drive/ucf/HandstandPushups/v_HandstandPushups_g14_c03.avi\n",
            "Fetching https://www.crcv.ucf.edu/THUMOS14/UCF101/UCF101/v_HandstandPushups_g14_c04.avi => /content/drive/My Drive/ucf/HandstandPushups/v_HandstandPushups_g14_c04.avi\n",
            "Fetching https://www.crcv.ucf.edu/THUMOS14/UCF101/UCF101/v_HandstandPushups_g15_c01.avi => /content/drive/My Drive/ucf/HandstandPushups/v_HandstandPushups_g15_c01.avi\n",
            "Fetching https://www.crcv.ucf.edu/THUMOS14/UCF101/UCF101/v_HandstandPushups_g15_c02.avi => /content/drive/My Drive/ucf/HandstandPushups/v_HandstandPushups_g15_c02.avi\n",
            "Fetching https://www.crcv.ucf.edu/THUMOS14/UCF101/UCF101/v_HandstandPushups_g15_c03.avi => /content/drive/My Drive/ucf/HandstandPushups/v_HandstandPushups_g15_c03.avi\n",
            "Fetching https://www.crcv.ucf.edu/THUMOS14/UCF101/UCF101/v_HandstandPushups_g15_c04.avi => /content/drive/My Drive/ucf/HandstandPushups/v_HandstandPushups_g15_c04.avi\n",
            "Fetching https://www.crcv.ucf.edu/THUMOS14/UCF101/UCF101/v_HandstandPushups_g15_c05.avi => /content/drive/My Drive/ucf/HandstandPushups/v_HandstandPushups_g15_c05.avi\n",
            "Fetching https://www.crcv.ucf.edu/THUMOS14/UCF101/UCF101/v_HandstandPushups_g15_c06.avi => /content/drive/My Drive/ucf/HandstandPushups/v_HandstandPushups_g15_c06.avi\n",
            "Fetching https://www.crcv.ucf.edu/THUMOS14/UCF101/UCF101/v_HandstandPushups_g16_c01.avi => /content/drive/My Drive/ucf/HandstandPushups/v_HandstandPushups_g16_c01.avi\n",
            "Fetching https://www.crcv.ucf.edu/THUMOS14/UCF101/UCF101/v_HandstandPushups_g16_c02.avi => /content/drive/My Drive/ucf/HandstandPushups/v_HandstandPushups_g16_c02.avi\n",
            "Fetching https://www.crcv.ucf.edu/THUMOS14/UCF101/UCF101/v_HandstandPushups_g16_c03.avi => /content/drive/My Drive/ucf/HandstandPushups/v_HandstandPushups_g16_c03.avi\n",
            "Fetching https://www.crcv.ucf.edu/THUMOS14/UCF101/UCF101/v_HandstandPushups_g16_c04.avi => /content/drive/My Drive/ucf/HandstandPushups/v_HandstandPushups_g16_c04.avi\n",
            "Fetching https://www.crcv.ucf.edu/THUMOS14/UCF101/UCF101/v_HandstandPushups_g16_c05.avi => /content/drive/My Drive/ucf/HandstandPushups/v_HandstandPushups_g16_c05.avi\n",
            "Fetching https://www.crcv.ucf.edu/THUMOS14/UCF101/UCF101/v_HandstandPushups_g16_c06.avi => /content/drive/My Drive/ucf/HandstandPushups/v_HandstandPushups_g16_c06.avi\n",
            "Fetching https://www.crcv.ucf.edu/THUMOS14/UCF101/UCF101/v_HandstandPushups_g16_c07.avi => /content/drive/My Drive/ucf/HandstandPushups/v_HandstandPushups_g16_c07.avi\n",
            "Fetching https://www.crcv.ucf.edu/THUMOS14/UCF101/UCF101/v_HandstandPushups_g17_c01.avi => /content/drive/My Drive/ucf/HandstandPushups/v_HandstandPushups_g17_c01.avi\n",
            "Fetching https://www.crcv.ucf.edu/THUMOS14/UCF101/UCF101/v_HandstandPushups_g17_c02.avi => /content/drive/My Drive/ucf/HandstandPushups/v_HandstandPushups_g17_c02.avi\n",
            "Fetching https://www.crcv.ucf.edu/THUMOS14/UCF101/UCF101/v_HandstandPushups_g17_c03.avi => /content/drive/My Drive/ucf/HandstandPushups/v_HandstandPushups_g17_c03.avi\n",
            "Fetching https://www.crcv.ucf.edu/THUMOS14/UCF101/UCF101/v_HandstandPushups_g17_c04.avi => /content/drive/My Drive/ucf/HandstandPushups/v_HandstandPushups_g17_c04.avi\n",
            "Fetching https://www.crcv.ucf.edu/THUMOS14/UCF101/UCF101/v_HandstandPushups_g17_c05.avi => /content/drive/My Drive/ucf/HandstandPushups/v_HandstandPushups_g17_c05.avi\n",
            "Fetching https://www.crcv.ucf.edu/THUMOS14/UCF101/UCF101/v_HandstandPushups_g18_c01.avi => /content/drive/My Drive/ucf/HandstandPushups/v_HandstandPushups_g18_c01.avi\n",
            "Fetching https://www.crcv.ucf.edu/THUMOS14/UCF101/UCF101/v_HandstandPushups_g18_c02.avi => /content/drive/My Drive/ucf/HandstandPushups/v_HandstandPushups_g18_c02.avi\n",
            "Fetching https://www.crcv.ucf.edu/THUMOS14/UCF101/UCF101/v_HandstandPushups_g18_c03.avi => /content/drive/My Drive/ucf/HandstandPushups/v_HandstandPushups_g18_c03.avi\n",
            "Fetching https://www.crcv.ucf.edu/THUMOS14/UCF101/UCF101/v_HandstandPushups_g18_c04.avi => /content/drive/My Drive/ucf/HandstandPushups/v_HandstandPushups_g18_c04.avi\n",
            "Fetching https://www.crcv.ucf.edu/THUMOS14/UCF101/UCF101/v_HandstandPushups_g18_c05.avi => /content/drive/My Drive/ucf/HandstandPushups/v_HandstandPushups_g18_c05.avi\n",
            "Fetching https://www.crcv.ucf.edu/THUMOS14/UCF101/UCF101/v_HandstandPushups_g18_c06.avi => /content/drive/My Drive/ucf/HandstandPushups/v_HandstandPushups_g18_c06.avi\n",
            "Fetching https://www.crcv.ucf.edu/THUMOS14/UCF101/UCF101/v_HandstandPushups_g18_c07.avi => /content/drive/My Drive/ucf/HandstandPushups/v_HandstandPushups_g18_c07.avi\n",
            "Fetching https://www.crcv.ucf.edu/THUMOS14/UCF101/UCF101/v_HandstandPushups_g19_c01.avi => /content/drive/My Drive/ucf/HandstandPushups/v_HandstandPushups_g19_c01.avi\n",
            "Fetching https://www.crcv.ucf.edu/THUMOS14/UCF101/UCF101/v_HandstandPushups_g19_c02.avi => /content/drive/My Drive/ucf/HandstandPushups/v_HandstandPushups_g19_c02.avi\n",
            "Fetching https://www.crcv.ucf.edu/THUMOS14/UCF101/UCF101/v_HandstandPushups_g19_c03.avi => /content/drive/My Drive/ucf/HandstandPushups/v_HandstandPushups_g19_c03.avi\n",
            "Fetching https://www.crcv.ucf.edu/THUMOS14/UCF101/UCF101/v_HandstandPushups_g19_c04.avi => /content/drive/My Drive/ucf/HandstandPushups/v_HandstandPushups_g19_c04.avi\n",
            "Fetching https://www.crcv.ucf.edu/THUMOS14/UCF101/UCF101/v_HandstandPushups_g20_c01.avi => /content/drive/My Drive/ucf/HandstandPushups/v_HandstandPushups_g20_c01.avi\n",
            "Fetching https://www.crcv.ucf.edu/THUMOS14/UCF101/UCF101/v_HandstandPushups_g20_c02.avi => /content/drive/My Drive/ucf/HandstandPushups/v_HandstandPushups_g20_c02.avi\n",
            "Fetching https://www.crcv.ucf.edu/THUMOS14/UCF101/UCF101/v_HandstandPushups_g20_c03.avi => /content/drive/My Drive/ucf/HandstandPushups/v_HandstandPushups_g20_c03.avi\n",
            "Fetching https://www.crcv.ucf.edu/THUMOS14/UCF101/UCF101/v_HandstandPushups_g20_c04.avi => /content/drive/My Drive/ucf/HandstandPushups/v_HandstandPushups_g20_c04.avi\n",
            "Fetching https://www.crcv.ucf.edu/THUMOS14/UCF101/UCF101/v_HandstandPushups_g20_c05.avi => /content/drive/My Drive/ucf/HandstandPushups/v_HandstandPushups_g20_c05.avi\n",
            "Fetching https://www.crcv.ucf.edu/THUMOS14/UCF101/UCF101/v_HandstandPushups_g20_c06.avi => /content/drive/My Drive/ucf/HandstandPushups/v_HandstandPushups_g20_c06.avi\n",
            "Fetching https://www.crcv.ucf.edu/THUMOS14/UCF101/UCF101/v_HandstandPushups_g20_c07.avi => /content/drive/My Drive/ucf/HandstandPushups/v_HandstandPushups_g20_c07.avi\n",
            "Fetching https://www.crcv.ucf.edu/THUMOS14/UCF101/UCF101/v_HandstandPushups_g21_c01.avi => /content/drive/My Drive/ucf/HandstandPushups/v_HandstandPushups_g21_c01.avi\n",
            "Fetching https://www.crcv.ucf.edu/THUMOS14/UCF101/UCF101/v_HandstandPushups_g21_c02.avi => /content/drive/My Drive/ucf/HandstandPushups/v_HandstandPushups_g21_c02.avi\n",
            "Fetching https://www.crcv.ucf.edu/THUMOS14/UCF101/UCF101/v_HandstandPushups_g21_c03.avi => /content/drive/My Drive/ucf/HandstandPushups/v_HandstandPushups_g21_c03.avi\n",
            "Fetching https://www.crcv.ucf.edu/THUMOS14/UCF101/UCF101/v_HandstandPushups_g21_c04.avi => /content/drive/My Drive/ucf/HandstandPushups/v_HandstandPushups_g21_c04.avi\n",
            "Fetching https://www.crcv.ucf.edu/THUMOS14/UCF101/UCF101/v_HandstandPushups_g21_c05.avi => /content/drive/My Drive/ucf/HandstandPushups/v_HandstandPushups_g21_c05.avi\n",
            "Fetching https://www.crcv.ucf.edu/THUMOS14/UCF101/UCF101/v_HandstandPushups_g21_c06.avi => /content/drive/My Drive/ucf/HandstandPushups/v_HandstandPushups_g21_c06.avi\n",
            "Fetching https://www.crcv.ucf.edu/THUMOS14/UCF101/UCF101/v_HandstandPushups_g22_c01.avi => /content/drive/My Drive/ucf/HandstandPushups/v_HandstandPushups_g22_c01.avi\n",
            "Fetching https://www.crcv.ucf.edu/THUMOS14/UCF101/UCF101/v_HandstandPushups_g22_c02.avi => /content/drive/My Drive/ucf/HandstandPushups/v_HandstandPushups_g22_c02.avi\n",
            "Fetching https://www.crcv.ucf.edu/THUMOS14/UCF101/UCF101/v_HandstandPushups_g22_c03.avi => /content/drive/My Drive/ucf/HandstandPushups/v_HandstandPushups_g22_c03.avi\n",
            "Fetching https://www.crcv.ucf.edu/THUMOS14/UCF101/UCF101/v_HandstandPushups_g22_c04.avi => /content/drive/My Drive/ucf/HandstandPushups/v_HandstandPushups_g22_c04.avi\n",
            "Fetching https://www.crcv.ucf.edu/THUMOS14/UCF101/UCF101/v_HandstandPushups_g22_c05.avi => /content/drive/My Drive/ucf/HandstandPushups/v_HandstandPushups_g22_c05.avi\n",
            "Fetching https://www.crcv.ucf.edu/THUMOS14/UCF101/UCF101/v_HandstandPushups_g23_c01.avi => /content/drive/My Drive/ucf/HandstandPushups/v_HandstandPushups_g23_c01.avi\n",
            "Fetching https://www.crcv.ucf.edu/THUMOS14/UCF101/UCF101/v_HandstandPushups_g23_c02.avi => /content/drive/My Drive/ucf/HandstandPushups/v_HandstandPushups_g23_c02.avi\n",
            "Fetching https://www.crcv.ucf.edu/THUMOS14/UCF101/UCF101/v_HandstandPushups_g23_c03.avi => /content/drive/My Drive/ucf/HandstandPushups/v_HandstandPushups_g23_c03.avi\n",
            "Fetching https://www.crcv.ucf.edu/THUMOS14/UCF101/UCF101/v_HandstandPushups_g23_c04.avi => /content/drive/My Drive/ucf/HandstandPushups/v_HandstandPushups_g23_c04.avi\n",
            "Fetching https://www.crcv.ucf.edu/THUMOS14/UCF101/UCF101/v_HandstandPushups_g23_c05.avi => /content/drive/My Drive/ucf/HandstandPushups/v_HandstandPushups_g23_c05.avi\n",
            "Fetching https://www.crcv.ucf.edu/THUMOS14/UCF101/UCF101/v_HandstandPushups_g24_c01.avi => /content/drive/My Drive/ucf/HandstandPushups/v_HandstandPushups_g24_c01.avi\n",
            "Fetching https://www.crcv.ucf.edu/THUMOS14/UCF101/UCF101/v_HandstandPushups_g24_c02.avi => /content/drive/My Drive/ucf/HandstandPushups/v_HandstandPushups_g24_c02.avi\n",
            "Fetching https://www.crcv.ucf.edu/THUMOS14/UCF101/UCF101/v_HandstandPushups_g24_c03.avi => /content/drive/My Drive/ucf/HandstandPushups/v_HandstandPushups_g24_c03.avi\n",
            "Fetching https://www.crcv.ucf.edu/THUMOS14/UCF101/UCF101/v_HandstandPushups_g24_c04.avi => /content/drive/My Drive/ucf/HandstandPushups/v_HandstandPushups_g24_c04.avi\n",
            "Fetching https://www.crcv.ucf.edu/THUMOS14/UCF101/UCF101/v_HandstandPushups_g25_c01.avi => /content/drive/My Drive/ucf/HandstandPushups/v_HandstandPushups_g25_c01.avi\n",
            "Fetching https://www.crcv.ucf.edu/THUMOS14/UCF101/UCF101/v_HandstandPushups_g25_c02.avi => /content/drive/My Drive/ucf/HandstandPushups/v_HandstandPushups_g25_c02.avi\n",
            "Fetching https://www.crcv.ucf.edu/THUMOS14/UCF101/UCF101/v_HandstandPushups_g25_c03.avi => /content/drive/My Drive/ucf/HandstandPushups/v_HandstandPushups_g25_c03.avi\n",
            "Fetching https://www.crcv.ucf.edu/THUMOS14/UCF101/UCF101/v_HandstandPushups_g25_c04.avi => /content/drive/My Drive/ucf/HandstandPushups/v_HandstandPushups_g25_c04.avi\n",
            "Fetching https://www.crcv.ucf.edu/THUMOS14/UCF101/UCF101/v_HandstandPushups_g25_c05.avi => /content/drive/My Drive/ucf/HandstandPushups/v_HandstandPushups_g25_c05.avi\n",
            "Fetching https://www.crcv.ucf.edu/THUMOS14/UCF101/UCF101/v_HandstandPushups_g25_c06.avi => /content/drive/My Drive/ucf/HandstandPushups/v_HandstandPushups_g25_c06.avi\n",
            "Fetching https://www.crcv.ucf.edu/THUMOS14/UCF101/UCF101/v_HandstandPushups_g25_c07.avi => /content/drive/My Drive/ucf/HandstandPushups/v_HandstandPushups_g25_c07.avi\n"
          ],
          "name": "stdout"
        }
      ]
    }
  ]
}