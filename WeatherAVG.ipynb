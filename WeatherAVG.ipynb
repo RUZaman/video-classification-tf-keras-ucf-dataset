{
  "nbformat": 4,
  "nbformat_minor": 0,
  "metadata": {
    "colab": {
      "name": "WeatherAVG.ipynb",
      "provenance": [],
      "authorship_tag": "ABX9TyMQoxzmefuQ8NWSLI4s6vY6",
      "include_colab_link": true
    },
    "kernelspec": {
      "name": "python3",
      "display_name": "Python 3"
    }
  },
  "cells": [
    {
      "cell_type": "markdown",
      "metadata": {
        "id": "view-in-github",
        "colab_type": "text"
      },
      "source": [
        "<a href=\"https://colab.research.google.com/github/Soumi7/TFNotebooks/blob/master/WeatherAVG.ipynb\" target=\"_parent\"><img src=\"https://colab.research.google.com/assets/colab-badge.svg\" alt=\"Open In Colab\"/></a>"
      ]
    },
    {
      "cell_type": "code",
      "metadata": {
        "id": "V0wpmuHuENDj",
        "colab_type": "code",
        "colab": {
          "base_uri": "https://localhost:8080/",
          "height": 127
        },
        "outputId": "7462efba-0b98-4740-9a36-4afdd2ae6867"
      },
      "source": [
        "from google.colab import drive\n",
        "drive.mount('/content/drive')"
      ],
      "execution_count": 1,
      "outputs": [
        {
          "output_type": "stream",
          "text": [
            "Go to this URL in a browser: https://accounts.google.com/o/oauth2/auth?client_id=947318989803-6bn6qk8qdgf4n4g3pfee6491hc0brc4i.apps.googleusercontent.com&redirect_uri=urn%3aietf%3awg%3aoauth%3a2.0%3aoob&response_type=code&scope=email%20https%3a%2f%2fwww.googleapis.com%2fauth%2fdocs.test%20https%3a%2f%2fwww.googleapis.com%2fauth%2fdrive%20https%3a%2f%2fwww.googleapis.com%2fauth%2fdrive.photos.readonly%20https%3a%2f%2fwww.googleapis.com%2fauth%2fpeopleapi.readonly\n",
            "\n",
            "Enter your authorization code:\n",
            "··········\n",
            "Mounted at /content/drive\n"
          ],
          "name": "stdout"
        }
      ]
    },
    {
      "cell_type": "code",
      "metadata": {
        "id": "XBDCBwDrEeF9",
        "colab_type": "code",
        "colab": {
          "base_uri": "https://localhost:8080/",
          "height": 179
        },
        "outputId": "1c465f42-01c1-4b60-c1cf-234d8945b374"
      },
      "source": [
        "pip install wwo-hist"
      ],
      "execution_count": 2,
      "outputs": [
        {
          "output_type": "stream",
          "text": [
            "Collecting wwo-hist\n",
            "  Downloading https://files.pythonhosted.org/packages/9e/4b/e4f82813f1bd33195ca5eca204c7c312850592aba45dd819de0f2250d7fd/wwo_hist-0.0.4.tar.gz\n",
            "Building wheels for collected packages: wwo-hist\n",
            "  Building wheel for wwo-hist (setup.py) ... \u001b[?25l\u001b[?25hdone\n",
            "  Created wheel for wwo-hist: filename=wwo_hist-0.0.4-cp36-none-any.whl size=4216 sha256=0c25f7edb8cce14eb5f660ff62aa662ad791842f2232a23aae7bc81913fef714\n",
            "  Stored in directory: /root/.cache/pip/wheels/c5/0e/16/329d9233f3b0b7e5fe81b09c5519a193727999c6ae77577ca9\n",
            "Successfully built wwo-hist\n",
            "Installing collected packages: wwo-hist\n",
            "Successfully installed wwo-hist-0.0.4\n"
          ],
          "name": "stdout"
        }
      ]
    },
    {
      "cell_type": "code",
      "metadata": {
        "id": "jMqqdKhQGed1",
        "colab_type": "code",
        "colab": {
          "base_uri": "https://localhost:8080/",
          "height": 629
        },
        "outputId": "01cde179-01de-4454-e555-08b888c3f2e0"
      },
      "source": [
        "import requests\n",
        "from wwo_hist import retrieve_hist_data\n",
        "frequency = 24\n",
        "start_date = '1-JAN-2018'\n",
        "end_date = '1-DEC-2018'\n",
        "api_key = '12b2c18a34194a8ca93113127200405'\n",
        "location_list = ['Mlawa']\n",
        "hist_weather_data = retrieve_hist_data(api_key,\n",
        "                                location_list,\n",
        "                                start_date,\n",
        "                                end_date,\n",
        "                                frequency,\n",
        "                                location_label = False,\n",
        "                                export_csv = True,\n",
        "                                store_df = True)"
      ],
      "execution_count": 3,
      "outputs": [
        {
          "output_type": "stream",
          "text": [
            "\n",
            "\n",
            "Retrieving weather data for Mlawa\n",
            "\n",
            "\n",
            "Currently retrieving data for Mlawa: from 2018-01-01 to 2018-01-31\n",
            "Time elapsed (hh:mm:ss.ms) 0:00:01.331039\n",
            "Currently retrieving data for Mlawa: from 2018-02-01 to 2018-02-28\n",
            "Time elapsed (hh:mm:ss.ms) 0:00:02.410929\n",
            "Currently retrieving data for Mlawa: from 2018-03-01 to 2018-03-31\n",
            "Time elapsed (hh:mm:ss.ms) 0:00:03.573641\n",
            "Currently retrieving data for Mlawa: from 2018-04-01 to 2018-04-30\n",
            "Time elapsed (hh:mm:ss.ms) 0:00:04.800769\n",
            "Currently retrieving data for Mlawa: from 2018-05-01 to 2018-05-31\n",
            "Time elapsed (hh:mm:ss.ms) 0:00:05.897926\n",
            "Currently retrieving data for Mlawa: from 2018-06-01 to 2018-06-30\n",
            "Time elapsed (hh:mm:ss.ms) 0:00:07.140654\n",
            "Currently retrieving data for Mlawa: from 2018-07-01 to 2018-07-31\n",
            "Time elapsed (hh:mm:ss.ms) 0:00:08.327637\n",
            "Currently retrieving data for Mlawa: from 2018-08-01 to 2018-08-31\n",
            "Time elapsed (hh:mm:ss.ms) 0:00:09.432538\n",
            "Currently retrieving data for Mlawa: from 2018-09-01 to 2018-09-30\n",
            "Time elapsed (hh:mm:ss.ms) 0:00:10.550436\n",
            "Currently retrieving data for Mlawa: from 2018-10-01 to 2018-10-31\n",
            "Time elapsed (hh:mm:ss.ms) 0:00:11.653250\n",
            "Currently retrieving data for Mlawa: from 2018-11-01 to 2018-11-30\n",
            "Time elapsed (hh:mm:ss.ms) 0:00:12.729971\n",
            "Currently retrieving data for Mlawa: from 2018-12-01 to 2018-12-01\n",
            "Time elapsed (hh:mm:ss.ms) 0:00:13.120067\n",
            "\n",
            "\n",
            "export Mlawa completed!\n",
            "\n",
            "\n"
          ],
          "name": "stdout"
        }
      ]
    },
    {
      "cell_type": "code",
      "metadata": {
        "id": "2Il01xJYH2ln",
        "colab_type": "code",
        "colab": {
          "base_uri": "https://localhost:8080/",
          "height": 309
        },
        "outputId": "66cabd76-72f8-4c19-99b3-240124780c57"
      },
      "source": [
        "import pandas as pd\n",
        "df=pd.read_csv(\"Mlawa.csv\")\n",
        "df.head()"
      ],
      "execution_count": 27,
      "outputs": [
        {
          "output_type": "execute_result",
          "data": {
            "text/html": [
              "<div>\n",
              "<style scoped>\n",
              "    .dataframe tbody tr th:only-of-type {\n",
              "        vertical-align: middle;\n",
              "    }\n",
              "\n",
              "    .dataframe tbody tr th {\n",
              "        vertical-align: top;\n",
              "    }\n",
              "\n",
              "    .dataframe thead th {\n",
              "        text-align: right;\n",
              "    }\n",
              "</style>\n",
              "<table border=\"1\" class=\"dataframe\">\n",
              "  <thead>\n",
              "    <tr style=\"text-align: right;\">\n",
              "      <th></th>\n",
              "      <th>date_time</th>\n",
              "      <th>maxtempC</th>\n",
              "      <th>mintempC</th>\n",
              "      <th>totalSnow_cm</th>\n",
              "      <th>sunHour</th>\n",
              "      <th>uvIndex</th>\n",
              "      <th>uvIndex.1</th>\n",
              "      <th>moon_illumination</th>\n",
              "      <th>moonrise</th>\n",
              "      <th>moonset</th>\n",
              "      <th>sunrise</th>\n",
              "      <th>sunset</th>\n",
              "      <th>DewPointC</th>\n",
              "      <th>FeelsLikeC</th>\n",
              "      <th>HeatIndexC</th>\n",
              "      <th>WindChillC</th>\n",
              "      <th>WindGustKmph</th>\n",
              "      <th>cloudcover</th>\n",
              "      <th>humidity</th>\n",
              "      <th>precipMM</th>\n",
              "      <th>pressure</th>\n",
              "      <th>tempC</th>\n",
              "      <th>visibility</th>\n",
              "      <th>winddirDegree</th>\n",
              "      <th>windspeedKmph</th>\n",
              "    </tr>\n",
              "  </thead>\n",
              "  <tbody>\n",
              "    <tr>\n",
              "      <th>0</th>\n",
              "      <td>2018-01-01</td>\n",
              "      <td>8</td>\n",
              "      <td>3</td>\n",
              "      <td>0.0</td>\n",
              "      <td>2.9</td>\n",
              "      <td>2</td>\n",
              "      <td>2</td>\n",
              "      <td>97</td>\n",
              "      <td>04:15 PM</td>\n",
              "      <td>07:41 AM</td>\n",
              "      <td>08:52 AM</td>\n",
              "      <td>04:31 PM</td>\n",
              "      <td>5</td>\n",
              "      <td>3</td>\n",
              "      <td>6</td>\n",
              "      <td>3</td>\n",
              "      <td>32</td>\n",
              "      <td>79</td>\n",
              "      <td>89</td>\n",
              "      <td>0.0</td>\n",
              "      <td>1002</td>\n",
              "      <td>8</td>\n",
              "      <td>10</td>\n",
              "      <td>224</td>\n",
              "      <td>19</td>\n",
              "    </tr>\n",
              "    <tr>\n",
              "      <th>1</th>\n",
              "      <td>2018-01-02</td>\n",
              "      <td>3</td>\n",
              "      <td>1</td>\n",
              "      <td>0.0</td>\n",
              "      <td>6.8</td>\n",
              "      <td>2</td>\n",
              "      <td>2</td>\n",
              "      <td>100</td>\n",
              "      <td>05:21 PM</td>\n",
              "      <td>08:47 AM</td>\n",
              "      <td>08:52 AM</td>\n",
              "      <td>04:33 PM</td>\n",
              "      <td>0</td>\n",
              "      <td>-1</td>\n",
              "      <td>2</td>\n",
              "      <td>-1</td>\n",
              "      <td>18</td>\n",
              "      <td>62</td>\n",
              "      <td>89</td>\n",
              "      <td>0.6</td>\n",
              "      <td>1007</td>\n",
              "      <td>3</td>\n",
              "      <td>10</td>\n",
              "      <td>188</td>\n",
              "      <td>11</td>\n",
              "    </tr>\n",
              "    <tr>\n",
              "      <th>2</th>\n",
              "      <td>2018-01-03</td>\n",
              "      <td>3</td>\n",
              "      <td>0</td>\n",
              "      <td>0.1</td>\n",
              "      <td>4.9</td>\n",
              "      <td>1</td>\n",
              "      <td>1</td>\n",
              "      <td>89</td>\n",
              "      <td>06:35 PM</td>\n",
              "      <td>09:42 AM</td>\n",
              "      <td>08:52 AM</td>\n",
              "      <td>04:34 PM</td>\n",
              "      <td>0</td>\n",
              "      <td>-3</td>\n",
              "      <td>2</td>\n",
              "      <td>-3</td>\n",
              "      <td>28</td>\n",
              "      <td>81</td>\n",
              "      <td>88</td>\n",
              "      <td>0.9</td>\n",
              "      <td>999</td>\n",
              "      <td>3</td>\n",
              "      <td>6</td>\n",
              "      <td>199</td>\n",
              "      <td>19</td>\n",
              "    </tr>\n",
              "    <tr>\n",
              "      <th>3</th>\n",
              "      <td>2018-01-04</td>\n",
              "      <td>6</td>\n",
              "      <td>3</td>\n",
              "      <td>0.0</td>\n",
              "      <td>2.9</td>\n",
              "      <td>1</td>\n",
              "      <td>1</td>\n",
              "      <td>81</td>\n",
              "      <td>07:55 PM</td>\n",
              "      <td>10:25 AM</td>\n",
              "      <td>08:52 AM</td>\n",
              "      <td>04:35 PM</td>\n",
              "      <td>2</td>\n",
              "      <td>0</td>\n",
              "      <td>4</td>\n",
              "      <td>0</td>\n",
              "      <td>35</td>\n",
              "      <td>84</td>\n",
              "      <td>84</td>\n",
              "      <td>0.0</td>\n",
              "      <td>994</td>\n",
              "      <td>6</td>\n",
              "      <td>10</td>\n",
              "      <td>216</td>\n",
              "      <td>23</td>\n",
              "    </tr>\n",
              "    <tr>\n",
              "      <th>4</th>\n",
              "      <td>2018-01-05</td>\n",
              "      <td>7</td>\n",
              "      <td>3</td>\n",
              "      <td>0.0</td>\n",
              "      <td>2.9</td>\n",
              "      <td>2</td>\n",
              "      <td>2</td>\n",
              "      <td>74</td>\n",
              "      <td>09:15 PM</td>\n",
              "      <td>10:59 AM</td>\n",
              "      <td>08:51 AM</td>\n",
              "      <td>04:36 PM</td>\n",
              "      <td>2</td>\n",
              "      <td>1</td>\n",
              "      <td>5</td>\n",
              "      <td>1</td>\n",
              "      <td>35</td>\n",
              "      <td>89</td>\n",
              "      <td>82</td>\n",
              "      <td>0.0</td>\n",
              "      <td>997</td>\n",
              "      <td>7</td>\n",
              "      <td>10</td>\n",
              "      <td>217</td>\n",
              "      <td>24</td>\n",
              "    </tr>\n",
              "  </tbody>\n",
              "</table>\n",
              "</div>"
            ],
            "text/plain": [
              "    date_time  maxtempC  mintempC  ...  visibility  winddirDegree  windspeedKmph\n",
              "0  2018-01-01         8         3  ...          10            224             19\n",
              "1  2018-01-02         3         1  ...          10            188             11\n",
              "2  2018-01-03         3         0  ...           6            199             19\n",
              "3  2018-01-04         6         3  ...          10            216             23\n",
              "4  2018-01-05         7         3  ...          10            217             24\n",
              "\n",
              "[5 rows x 25 columns]"
            ]
          },
          "metadata": {
            "tags": []
          },
          "execution_count": 27
        }
      ]
    },
    {
      "cell_type": "code",
      "metadata": {
        "id": "2WIuXcbwIKT1",
        "colab_type": "code",
        "colab": {
          "base_uri": "https://localhost:8080/",
          "height": 593
        },
        "outputId": "23ad93e1-aa2a-46b6-902d-83b7bd0ccdc1"
      },
      "source": [
        "df.info()"
      ],
      "execution_count": 19,
      "outputs": [
        {
          "output_type": "stream",
          "text": [
            "<class 'pandas.core.frame.DataFrame'>\n",
            "RangeIndex: 335 entries, 0 to 334\n",
            "Data columns (total 25 columns):\n",
            " #   Column             Non-Null Count  Dtype  \n",
            "---  ------             --------------  -----  \n",
            " 0   date_time          335 non-null    object \n",
            " 1   maxtempC           335 non-null    int64  \n",
            " 2   mintempC           335 non-null    int64  \n",
            " 3   totalSnow_cm       335 non-null    float64\n",
            " 4   sunHour            335 non-null    float64\n",
            " 5   uvIndex            335 non-null    int64  \n",
            " 6   uvIndex.1          335 non-null    int64  \n",
            " 7   moon_illumination  335 non-null    int64  \n",
            " 8   moonrise           335 non-null    object \n",
            " 9   moonset            335 non-null    object \n",
            " 10  sunrise            335 non-null    object \n",
            " 11  sunset             335 non-null    object \n",
            " 12  DewPointC          335 non-null    int64  \n",
            " 13  FeelsLikeC         335 non-null    int64  \n",
            " 14  HeatIndexC         335 non-null    int64  \n",
            " 15  WindChillC         335 non-null    int64  \n",
            " 16  WindGustKmph       335 non-null    int64  \n",
            " 17  cloudcover         335 non-null    int64  \n",
            " 18  humidity           335 non-null    int64  \n",
            " 19  precipMM           335 non-null    float64\n",
            " 20  pressure           335 non-null    int64  \n",
            " 21  tempC              335 non-null    int64  \n",
            " 22  visibility         335 non-null    int64  \n",
            " 23  winddirDegree      335 non-null    int64  \n",
            " 24  windspeedKmph      335 non-null    int64  \n",
            "dtypes: float64(3), int64(17), object(5)\n",
            "memory usage: 65.6+ KB\n"
          ],
          "name": "stdout"
        }
      ]
    },
    {
      "cell_type": "code",
      "metadata": {
        "id": "U4K-kU9PIUbz",
        "colab_type": "code",
        "colab": {}
      },
      "source": [
        "df=df.drop(['uvIndex','uvIndex.1','moon_illumination','moonrise','moonset','sunrise','sunset','DewPointC','pressure','winddirDegree','sunHour'],axis=1)"
      ],
      "execution_count": 0,
      "outputs": []
    },
    {
      "cell_type": "code",
      "metadata": {
        "id": "kF9BssIfI_bJ",
        "colab_type": "code",
        "colab": {
          "base_uri": "https://localhost:8080/",
          "height": 395
        },
        "outputId": "7a3888d1-c38c-4454-e75b-85e142c9c817"
      },
      "source": [
        "df.info()"
      ],
      "execution_count": 29,
      "outputs": [
        {
          "output_type": "stream",
          "text": [
            "<class 'pandas.core.frame.DataFrame'>\n",
            "RangeIndex: 335 entries, 0 to 334\n",
            "Data columns (total 14 columns):\n",
            " #   Column         Non-Null Count  Dtype  \n",
            "---  ------         --------------  -----  \n",
            " 0   date_time      335 non-null    object \n",
            " 1   maxtempC       335 non-null    int64  \n",
            " 2   mintempC       335 non-null    int64  \n",
            " 3   totalSnow_cm   335 non-null    float64\n",
            " 4   FeelsLikeC     335 non-null    int64  \n",
            " 5   HeatIndexC     335 non-null    int64  \n",
            " 6   WindChillC     335 non-null    int64  \n",
            " 7   WindGustKmph   335 non-null    int64  \n",
            " 8   cloudcover     335 non-null    int64  \n",
            " 9   humidity       335 non-null    int64  \n",
            " 10  precipMM       335 non-null    float64\n",
            " 11  tempC          335 non-null    int64  \n",
            " 12  visibility     335 non-null    int64  \n",
            " 13  windspeedKmph  335 non-null    int64  \n",
            "dtypes: float64(2), int64(11), object(1)\n",
            "memory usage: 36.8+ KB\n"
          ],
          "name": "stdout"
        }
      ]
    },
    {
      "cell_type": "code",
      "metadata": {
        "id": "4Xz9UJK2JlVC",
        "colab_type": "code",
        "colab": {
          "base_uri": "https://localhost:8080/",
          "height": 204
        },
        "outputId": "70502fdf-abc9-40ee-b505-b647219750cf"
      },
      "source": [
        "df.head()"
      ],
      "execution_count": 30,
      "outputs": [
        {
          "output_type": "execute_result",
          "data": {
            "text/html": [
              "<div>\n",
              "<style scoped>\n",
              "    .dataframe tbody tr th:only-of-type {\n",
              "        vertical-align: middle;\n",
              "    }\n",
              "\n",
              "    .dataframe tbody tr th {\n",
              "        vertical-align: top;\n",
              "    }\n",
              "\n",
              "    .dataframe thead th {\n",
              "        text-align: right;\n",
              "    }\n",
              "</style>\n",
              "<table border=\"1\" class=\"dataframe\">\n",
              "  <thead>\n",
              "    <tr style=\"text-align: right;\">\n",
              "      <th></th>\n",
              "      <th>date_time</th>\n",
              "      <th>maxtempC</th>\n",
              "      <th>mintempC</th>\n",
              "      <th>totalSnow_cm</th>\n",
              "      <th>FeelsLikeC</th>\n",
              "      <th>HeatIndexC</th>\n",
              "      <th>WindChillC</th>\n",
              "      <th>WindGustKmph</th>\n",
              "      <th>cloudcover</th>\n",
              "      <th>humidity</th>\n",
              "      <th>precipMM</th>\n",
              "      <th>tempC</th>\n",
              "      <th>visibility</th>\n",
              "      <th>windspeedKmph</th>\n",
              "    </tr>\n",
              "  </thead>\n",
              "  <tbody>\n",
              "    <tr>\n",
              "      <th>0</th>\n",
              "      <td>2018-01-01</td>\n",
              "      <td>8</td>\n",
              "      <td>3</td>\n",
              "      <td>0.0</td>\n",
              "      <td>3</td>\n",
              "      <td>6</td>\n",
              "      <td>3</td>\n",
              "      <td>32</td>\n",
              "      <td>79</td>\n",
              "      <td>89</td>\n",
              "      <td>0.0</td>\n",
              "      <td>8</td>\n",
              "      <td>10</td>\n",
              "      <td>19</td>\n",
              "    </tr>\n",
              "    <tr>\n",
              "      <th>1</th>\n",
              "      <td>2018-01-02</td>\n",
              "      <td>3</td>\n",
              "      <td>1</td>\n",
              "      <td>0.0</td>\n",
              "      <td>-1</td>\n",
              "      <td>2</td>\n",
              "      <td>-1</td>\n",
              "      <td>18</td>\n",
              "      <td>62</td>\n",
              "      <td>89</td>\n",
              "      <td>0.6</td>\n",
              "      <td>3</td>\n",
              "      <td>10</td>\n",
              "      <td>11</td>\n",
              "    </tr>\n",
              "    <tr>\n",
              "      <th>2</th>\n",
              "      <td>2018-01-03</td>\n",
              "      <td>3</td>\n",
              "      <td>0</td>\n",
              "      <td>0.1</td>\n",
              "      <td>-3</td>\n",
              "      <td>2</td>\n",
              "      <td>-3</td>\n",
              "      <td>28</td>\n",
              "      <td>81</td>\n",
              "      <td>88</td>\n",
              "      <td>0.9</td>\n",
              "      <td>3</td>\n",
              "      <td>6</td>\n",
              "      <td>19</td>\n",
              "    </tr>\n",
              "    <tr>\n",
              "      <th>3</th>\n",
              "      <td>2018-01-04</td>\n",
              "      <td>6</td>\n",
              "      <td>3</td>\n",
              "      <td>0.0</td>\n",
              "      <td>0</td>\n",
              "      <td>4</td>\n",
              "      <td>0</td>\n",
              "      <td>35</td>\n",
              "      <td>84</td>\n",
              "      <td>84</td>\n",
              "      <td>0.0</td>\n",
              "      <td>6</td>\n",
              "      <td>10</td>\n",
              "      <td>23</td>\n",
              "    </tr>\n",
              "    <tr>\n",
              "      <th>4</th>\n",
              "      <td>2018-01-05</td>\n",
              "      <td>7</td>\n",
              "      <td>3</td>\n",
              "      <td>0.0</td>\n",
              "      <td>1</td>\n",
              "      <td>5</td>\n",
              "      <td>1</td>\n",
              "      <td>35</td>\n",
              "      <td>89</td>\n",
              "      <td>82</td>\n",
              "      <td>0.0</td>\n",
              "      <td>7</td>\n",
              "      <td>10</td>\n",
              "      <td>24</td>\n",
              "    </tr>\n",
              "  </tbody>\n",
              "</table>\n",
              "</div>"
            ],
            "text/plain": [
              "    date_time  maxtempC  mintempC  ...  tempC  visibility  windspeedKmph\n",
              "0  2018-01-01         8         3  ...      8          10             19\n",
              "1  2018-01-02         3         1  ...      3          10             11\n",
              "2  2018-01-03         3         0  ...      3           6             19\n",
              "3  2018-01-04         6         3  ...      6          10             23\n",
              "4  2018-01-05         7         3  ...      7          10             24\n",
              "\n",
              "[5 rows x 14 columns]"
            ]
          },
          "metadata": {
            "tags": []
          },
          "execution_count": 30
        }
      ]
    },
    {
      "cell_type": "code",
      "metadata": {
        "id": "XXZCwVzDJtwt",
        "colab_type": "code",
        "colab": {}
      },
      "source": [
        "def avg(l):\n",
        "  return(sum(l)/len(l))"
      ],
      "execution_count": 0,
      "outputs": []
    },
    {
      "cell_type": "code",
      "metadata": {
        "id": "N4gPB2KmJ28y",
        "colab_type": "code",
        "colab": {
          "base_uri": "https://localhost:8080/",
          "height": 204
        },
        "outputId": "254bb020-96f0-47d9-ba50-f0f763439653"
      },
      "source": [
        "df['date'] = pd.to_datetime(df['date_time'],format=\"%Y.%m.%d\")\n",
        "df= df.drop(columns=[\"date_time\"],axis=1)\n",
        "df.head()"
      ],
      "execution_count": 32,
      "outputs": [
        {
          "output_type": "execute_result",
          "data": {
            "text/html": [
              "<div>\n",
              "<style scoped>\n",
              "    .dataframe tbody tr th:only-of-type {\n",
              "        vertical-align: middle;\n",
              "    }\n",
              "\n",
              "    .dataframe tbody tr th {\n",
              "        vertical-align: top;\n",
              "    }\n",
              "\n",
              "    .dataframe thead th {\n",
              "        text-align: right;\n",
              "    }\n",
              "</style>\n",
              "<table border=\"1\" class=\"dataframe\">\n",
              "  <thead>\n",
              "    <tr style=\"text-align: right;\">\n",
              "      <th></th>\n",
              "      <th>maxtempC</th>\n",
              "      <th>mintempC</th>\n",
              "      <th>totalSnow_cm</th>\n",
              "      <th>FeelsLikeC</th>\n",
              "      <th>HeatIndexC</th>\n",
              "      <th>WindChillC</th>\n",
              "      <th>WindGustKmph</th>\n",
              "      <th>cloudcover</th>\n",
              "      <th>humidity</th>\n",
              "      <th>precipMM</th>\n",
              "      <th>tempC</th>\n",
              "      <th>visibility</th>\n",
              "      <th>windspeedKmph</th>\n",
              "      <th>date</th>\n",
              "    </tr>\n",
              "  </thead>\n",
              "  <tbody>\n",
              "    <tr>\n",
              "      <th>0</th>\n",
              "      <td>8</td>\n",
              "      <td>3</td>\n",
              "      <td>0.0</td>\n",
              "      <td>3</td>\n",
              "      <td>6</td>\n",
              "      <td>3</td>\n",
              "      <td>32</td>\n",
              "      <td>79</td>\n",
              "      <td>89</td>\n",
              "      <td>0.0</td>\n",
              "      <td>8</td>\n",
              "      <td>10</td>\n",
              "      <td>19</td>\n",
              "      <td>2018-01-01</td>\n",
              "    </tr>\n",
              "    <tr>\n",
              "      <th>1</th>\n",
              "      <td>3</td>\n",
              "      <td>1</td>\n",
              "      <td>0.0</td>\n",
              "      <td>-1</td>\n",
              "      <td>2</td>\n",
              "      <td>-1</td>\n",
              "      <td>18</td>\n",
              "      <td>62</td>\n",
              "      <td>89</td>\n",
              "      <td>0.6</td>\n",
              "      <td>3</td>\n",
              "      <td>10</td>\n",
              "      <td>11</td>\n",
              "      <td>2018-01-02</td>\n",
              "    </tr>\n",
              "    <tr>\n",
              "      <th>2</th>\n",
              "      <td>3</td>\n",
              "      <td>0</td>\n",
              "      <td>0.1</td>\n",
              "      <td>-3</td>\n",
              "      <td>2</td>\n",
              "      <td>-3</td>\n",
              "      <td>28</td>\n",
              "      <td>81</td>\n",
              "      <td>88</td>\n",
              "      <td>0.9</td>\n",
              "      <td>3</td>\n",
              "      <td>6</td>\n",
              "      <td>19</td>\n",
              "      <td>2018-01-03</td>\n",
              "    </tr>\n",
              "    <tr>\n",
              "      <th>3</th>\n",
              "      <td>6</td>\n",
              "      <td>3</td>\n",
              "      <td>0.0</td>\n",
              "      <td>0</td>\n",
              "      <td>4</td>\n",
              "      <td>0</td>\n",
              "      <td>35</td>\n",
              "      <td>84</td>\n",
              "      <td>84</td>\n",
              "      <td>0.0</td>\n",
              "      <td>6</td>\n",
              "      <td>10</td>\n",
              "      <td>23</td>\n",
              "      <td>2018-01-04</td>\n",
              "    </tr>\n",
              "    <tr>\n",
              "      <th>4</th>\n",
              "      <td>7</td>\n",
              "      <td>3</td>\n",
              "      <td>0.0</td>\n",
              "      <td>1</td>\n",
              "      <td>5</td>\n",
              "      <td>1</td>\n",
              "      <td>35</td>\n",
              "      <td>89</td>\n",
              "      <td>82</td>\n",
              "      <td>0.0</td>\n",
              "      <td>7</td>\n",
              "      <td>10</td>\n",
              "      <td>24</td>\n",
              "      <td>2018-01-05</td>\n",
              "    </tr>\n",
              "  </tbody>\n",
              "</table>\n",
              "</div>"
            ],
            "text/plain": [
              "   maxtempC  mintempC  totalSnow_cm  ...  visibility  windspeedKmph       date\n",
              "0         8         3           0.0  ...          10             19 2018-01-01\n",
              "1         3         1           0.0  ...          10             11 2018-01-02\n",
              "2         3         0           0.1  ...           6             19 2018-01-03\n",
              "3         6         3           0.0  ...          10             23 2018-01-04\n",
              "4         7         3           0.0  ...          10             24 2018-01-05\n",
              "\n",
              "[5 rows x 14 columns]"
            ]
          },
          "metadata": {
            "tags": []
          },
          "execution_count": 32
        }
      ]
    },
    {
      "cell_type": "code",
      "metadata": {
        "id": "0cptkJx-KmN3",
        "colab_type": "code",
        "colab": {}
      },
      "source": [
        "df.set_index('date',inplace=True)"
      ],
      "execution_count": 0,
      "outputs": []
    },
    {
      "cell_type": "code",
      "metadata": {
        "id": "vjzyu4vCMNYU",
        "colab_type": "code",
        "colab": {}
      },
      "source": [
        "months=df.index.month"
      ],
      "execution_count": 0,
      "outputs": []
    },
    {
      "cell_type": "code",
      "metadata": {
        "id": "jzKnarxsMUow",
        "colab_type": "code",
        "colab": {}
      },
      "source": [
        "monthly_avg_maxtemp=df.groupby(months).maxtempC.mean()"
      ],
      "execution_count": 0,
      "outputs": []
    },
    {
      "cell_type": "code",
      "metadata": {
        "id": "n-C2H1NxMgCw",
        "colab_type": "code",
        "colab": {
          "base_uri": "https://localhost:8080/",
          "height": 269
        },
        "outputId": "afcb9a2f-e52f-4932-888c-d8a828f395bd"
      },
      "source": [
        "print(monthly_avg_maxtemp)"
      ],
      "execution_count": 41,
      "outputs": [
        {
          "output_type": "stream",
          "text": [
            "date\n",
            "1      1.290323\n",
            "2     -1.535714\n",
            "3      3.225806\n",
            "4     17.433333\n",
            "5     21.483871\n",
            "6     22.233333\n",
            "7     24.483871\n",
            "8     24.677419\n",
            "9     20.200000\n",
            "10    14.451613\n",
            "11     6.266667\n",
            "12    -5.000000\n",
            "Name: maxtempC, dtype: float64\n"
          ],
          "name": "stdout"
        }
      ]
    },
    {
      "cell_type": "code",
      "metadata": {
        "id": "yg2KSr5XMkVv",
        "colab_type": "code",
        "colab": {
          "base_uri": "https://localhost:8080/",
          "height": 269
        },
        "outputId": "43926a2b-5a56-4245-d99b-a99375c373da"
      },
      "source": [
        "monthly_avg_mintemp=df.groupby(months).mintempC.mean()\n",
        "print(monthly_avg_mintemp)"
      ],
      "execution_count": 43,
      "outputs": [
        {
          "output_type": "stream",
          "text": [
            "date\n",
            "1     -2.129032\n",
            "2     -5.035714\n",
            "3     -2.903226\n",
            "4      6.733333\n",
            "5     10.451613\n",
            "6     11.900000\n",
            "7     14.967742\n",
            "8     15.161290\n",
            "9     11.466667\n",
            "10     6.967742\n",
            "11     1.666667\n",
            "12    -9.000000\n",
            "Name: mintempC, dtype: float64\n"
          ],
          "name": "stdout"
        }
      ]
    },
    {
      "cell_type": "code",
      "metadata": {
        "id": "Liy5rZRiM0_L",
        "colab_type": "code",
        "colab": {
          "base_uri": "https://localhost:8080/",
          "height": 269
        },
        "outputId": "5ab0a478-0183-4617-fc26-a2d1455f9496"
      },
      "source": [
        "monthly_avg_totalSnow_cm=df.groupby(months).totalSnow_cm.mean()\n",
        "print(monthly_avg_totalSnow_cm)"
      ],
      "execution_count": 44,
      "outputs": [
        {
          "output_type": "stream",
          "text": [
            "date\n",
            "1     0.061290\n",
            "2     0.035714\n",
            "3     0.070968\n",
            "4     0.000000\n",
            "5     0.000000\n",
            "6     0.000000\n",
            "7     0.000000\n",
            "8     0.000000\n",
            "9     0.000000\n",
            "10    0.000000\n",
            "11    0.010000\n",
            "12    0.000000\n",
            "Name: totalSnow_cm, dtype: float64\n"
          ],
          "name": "stdout"
        }
      ]
    },
    {
      "cell_type": "code",
      "metadata": {
        "id": "fF_SOpGuM_ks",
        "colab_type": "code",
        "colab": {
          "base_uri": "https://localhost:8080/",
          "height": 269
        },
        "outputId": "7dfd7451-d612-48e2-8d6b-70966541df38"
      },
      "source": [
        "monthly_avg_FeelsLikeC=df.groupby(months).FeelsLikeC.mean()\n",
        "print(monthly_avg_FeelsLikeC)"
      ],
      "execution_count": 45,
      "outputs": [
        {
          "output_type": "stream",
          "text": [
            "date\n",
            "1     -4.838710\n",
            "2     -7.607143\n",
            "3     -4.032258\n",
            "4     10.366667\n",
            "5     15.419355\n",
            "6     17.100000\n",
            "7     19.903226\n",
            "8     20.064516\n",
            "9     14.733333\n",
            "10     8.193548\n",
            "11     0.766667\n",
            "12   -12.000000\n",
            "Name: FeelsLikeC, dtype: float64\n"
          ],
          "name": "stdout"
        }
      ]
    },
    {
      "cell_type": "code",
      "metadata": {
        "id": "M1S5bWbENerg",
        "colab_type": "code",
        "colab": {
          "base_uri": "https://localhost:8080/",
          "height": 269
        },
        "outputId": "b36ba804-be6a-4592-af4b-6d6657203895"
      },
      "source": [
        "monthly_avg_humidity=df.groupby(months).humidity.mean()\n",
        "print(monthly_avg_humidity)"
      ],
      "execution_count": 46,
      "outputs": [
        {
          "output_type": "stream",
          "text": [
            "date\n",
            "1     82.806452\n",
            "2     76.035714\n",
            "3     73.225806\n",
            "4     72.466667\n",
            "5     73.225806\n",
            "6     72.300000\n",
            "7     75.967742\n",
            "8     69.967742\n",
            "9     69.233333\n",
            "10    71.645161\n",
            "11    80.600000\n",
            "12    51.000000\n",
            "Name: humidity, dtype: float64\n"
          ],
          "name": "stdout"
        }
      ]
    },
    {
      "cell_type": "code",
      "metadata": {
        "id": "JhPqq6PmNmzp",
        "colab_type": "code",
        "colab": {}
      },
      "source": [
        ""
      ],
      "execution_count": 0,
      "outputs": []
    }
  ]
}