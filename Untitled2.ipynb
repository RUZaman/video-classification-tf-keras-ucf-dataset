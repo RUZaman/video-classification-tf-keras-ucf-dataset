{
  "nbformat": 4,
  "nbformat_minor": 0,
  "metadata": {
    "colab": {
      "name": "Untitled2.ipynb",
      "provenance": [],
      "collapsed_sections": [],
      "authorship_tag": "ABX9TyOf2q6gX7cgn3KxkY18xfty",
      "include_colab_link": true
    },
    "kernelspec": {
      "name": "python3",
      "display_name": "Python 3"
    },
    "widgets": {
      "application/vnd.jupyter.widget-state+json": {
        "8c0045efa72e4ccba6a24e6f47ed1d2e": {
          "model_module": "@jupyter-widgets/controls",
          "model_name": "HBoxModel",
          "state": {
            "_view_name": "HBoxView",
            "_dom_classes": [],
            "_model_name": "HBoxModel",
            "_view_module": "@jupyter-widgets/controls",
            "_model_module_version": "1.5.0",
            "_view_count": null,
            "_view_module_version": "1.5.0",
            "box_style": "",
            "layout": "IPY_MODEL_9314a02c818f4431bb41b98fe1071cf8",
            "_model_module": "@jupyter-widgets/controls",
            "children": [
              "IPY_MODEL_065a7b5dc6a6429fbb2aad817cbf227f",
              "IPY_MODEL_5fe2a7a55dc348a680354212eb16e419"
            ]
          }
        },
        "9314a02c818f4431bb41b98fe1071cf8": {
          "model_module": "@jupyter-widgets/base",
          "model_name": "LayoutModel",
          "state": {
            "_view_name": "LayoutView",
            "grid_template_rows": null,
            "right": null,
            "justify_content": null,
            "_view_module": "@jupyter-widgets/base",
            "overflow": null,
            "_model_module_version": "1.2.0",
            "_view_count": null,
            "flex_flow": null,
            "width": null,
            "min_width": null,
            "border": null,
            "align_items": null,
            "bottom": null,
            "_model_module": "@jupyter-widgets/base",
            "top": null,
            "grid_column": null,
            "overflow_y": null,
            "overflow_x": null,
            "grid_auto_flow": null,
            "grid_area": null,
            "grid_template_columns": null,
            "flex": null,
            "_model_name": "LayoutModel",
            "justify_items": null,
            "grid_row": null,
            "max_height": null,
            "align_content": null,
            "visibility": null,
            "align_self": null,
            "height": null,
            "min_height": null,
            "padding": null,
            "grid_auto_rows": null,
            "grid_gap": null,
            "max_width": null,
            "order": null,
            "_view_module_version": "1.2.0",
            "grid_template_areas": null,
            "object_position": null,
            "object_fit": null,
            "grid_auto_columns": null,
            "margin": null,
            "display": null,
            "left": null
          }
        },
        "065a7b5dc6a6429fbb2aad817cbf227f": {
          "model_module": "@jupyter-widgets/controls",
          "model_name": "FloatProgressModel",
          "state": {
            "_view_name": "ProgressView",
            "style": "IPY_MODEL_e22cbc98ccc64fa4860abf359996f054",
            "_dom_classes": [],
            "description": "Downloading: 100%",
            "_model_name": "FloatProgressModel",
            "bar_style": "success",
            "max": 213450,
            "_view_module": "@jupyter-widgets/controls",
            "_model_module_version": "1.5.0",
            "value": 213450,
            "_view_count": null,
            "_view_module_version": "1.5.0",
            "orientation": "horizontal",
            "min": 0,
            "description_tooltip": null,
            "_model_module": "@jupyter-widgets/controls",
            "layout": "IPY_MODEL_971fca6c0b9e431ca9e26be09f0de5af"
          }
        },
        "5fe2a7a55dc348a680354212eb16e419": {
          "model_module": "@jupyter-widgets/controls",
          "model_name": "HTMLModel",
          "state": {
            "_view_name": "HTMLView",
            "style": "IPY_MODEL_8eda524ec88d4d818560bc1bff2ebad6",
            "_dom_classes": [],
            "description": "",
            "_model_name": "HTMLModel",
            "placeholder": "​",
            "_view_module": "@jupyter-widgets/controls",
            "_model_module_version": "1.5.0",
            "value": " 213k/213k [00:00&lt;00:00, 2.07MB/s]",
            "_view_count": null,
            "_view_module_version": "1.5.0",
            "description_tooltip": null,
            "_model_module": "@jupyter-widgets/controls",
            "layout": "IPY_MODEL_65c947cb0cbe49e390b2167aa18d2a33"
          }
        },
        "e22cbc98ccc64fa4860abf359996f054": {
          "model_module": "@jupyter-widgets/controls",
          "model_name": "ProgressStyleModel",
          "state": {
            "_view_name": "StyleView",
            "_model_name": "ProgressStyleModel",
            "description_width": "initial",
            "_view_module": "@jupyter-widgets/base",
            "_model_module_version": "1.5.0",
            "_view_count": null,
            "_view_module_version": "1.2.0",
            "bar_color": null,
            "_model_module": "@jupyter-widgets/controls"
          }
        },
        "971fca6c0b9e431ca9e26be09f0de5af": {
          "model_module": "@jupyter-widgets/base",
          "model_name": "LayoutModel",
          "state": {
            "_view_name": "LayoutView",
            "grid_template_rows": null,
            "right": null,
            "justify_content": null,
            "_view_module": "@jupyter-widgets/base",
            "overflow": null,
            "_model_module_version": "1.2.0",
            "_view_count": null,
            "flex_flow": null,
            "width": null,
            "min_width": null,
            "border": null,
            "align_items": null,
            "bottom": null,
            "_model_module": "@jupyter-widgets/base",
            "top": null,
            "grid_column": null,
            "overflow_y": null,
            "overflow_x": null,
            "grid_auto_flow": null,
            "grid_area": null,
            "grid_template_columns": null,
            "flex": null,
            "_model_name": "LayoutModel",
            "justify_items": null,
            "grid_row": null,
            "max_height": null,
            "align_content": null,
            "visibility": null,
            "align_self": null,
            "height": null,
            "min_height": null,
            "padding": null,
            "grid_auto_rows": null,
            "grid_gap": null,
            "max_width": null,
            "order": null,
            "_view_module_version": "1.2.0",
            "grid_template_areas": null,
            "object_position": null,
            "object_fit": null,
            "grid_auto_columns": null,
            "margin": null,
            "display": null,
            "left": null
          }
        },
        "8eda524ec88d4d818560bc1bff2ebad6": {
          "model_module": "@jupyter-widgets/controls",
          "model_name": "DescriptionStyleModel",
          "state": {
            "_view_name": "StyleView",
            "_model_name": "DescriptionStyleModel",
            "description_width": "",
            "_view_module": "@jupyter-widgets/base",
            "_model_module_version": "1.5.0",
            "_view_count": null,
            "_view_module_version": "1.2.0",
            "_model_module": "@jupyter-widgets/controls"
          }
        },
        "65c947cb0cbe49e390b2167aa18d2a33": {
          "model_module": "@jupyter-widgets/base",
          "model_name": "LayoutModel",
          "state": {
            "_view_name": "LayoutView",
            "grid_template_rows": null,
            "right": null,
            "justify_content": null,
            "_view_module": "@jupyter-widgets/base",
            "overflow": null,
            "_model_module_version": "1.2.0",
            "_view_count": null,
            "flex_flow": null,
            "width": null,
            "min_width": null,
            "border": null,
            "align_items": null,
            "bottom": null,
            "_model_module": "@jupyter-widgets/base",
            "top": null,
            "grid_column": null,
            "overflow_y": null,
            "overflow_x": null,
            "grid_auto_flow": null,
            "grid_area": null,
            "grid_template_columns": null,
            "flex": null,
            "_model_name": "LayoutModel",
            "justify_items": null,
            "grid_row": null,
            "max_height": null,
            "align_content": null,
            "visibility": null,
            "align_self": null,
            "height": null,
            "min_height": null,
            "padding": null,
            "grid_auto_rows": null,
            "grid_gap": null,
            "max_width": null,
            "order": null,
            "_view_module_version": "1.2.0",
            "grid_template_areas": null,
            "object_position": null,
            "object_fit": null,
            "grid_auto_columns": null,
            "margin": null,
            "display": null,
            "left": null
          }
        }
      }
    }
  },
  "cells": [
    {
      "cell_type": "markdown",
      "metadata": {
        "id": "view-in-github",
        "colab_type": "text"
      },
      "source": [
        "<a href=\"https://colab.research.google.com/github/Soumi7/TFNotebooks/blob/master/Untitled2.ipynb\" target=\"_parent\"><img src=\"https://colab.research.google.com/assets/colab-badge.svg\" alt=\"Open In Colab\"/></a>"
      ]
    },
    {
      "cell_type": "code",
      "metadata": {
        "id": "0K1lspmrLdEi",
        "colab_type": "code",
        "colab": {
          "base_uri": "https://localhost:8080/",
          "height": 127
        },
        "outputId": "81ad2d75-ba09-47fa-a319-5e0047bca59d"
      },
      "source": [
        "from google.colab import drive\n",
        "drive.mount('/content/drive')"
      ],
      "execution_count": 1,
      "outputs": [
        {
          "output_type": "stream",
          "text": [
            "Go to this URL in a browser: https://accounts.google.com/o/oauth2/auth?client_id=947318989803-6bn6qk8qdgf4n4g3pfee6491hc0brc4i.apps.googleusercontent.com&redirect_uri=urn%3aietf%3awg%3aoauth%3a2.0%3aoob&response_type=code&scope=email%20https%3a%2f%2fwww.googleapis.com%2fauth%2fdocs.test%20https%3a%2f%2fwww.googleapis.com%2fauth%2fdrive%20https%3a%2f%2fwww.googleapis.com%2fauth%2fdrive.photos.readonly%20https%3a%2f%2fwww.googleapis.com%2fauth%2fpeopleapi.readonly\n",
            "\n",
            "Enter your authorization code:\n",
            "··········\n",
            "Mounted at /content/drive\n"
          ],
          "name": "stdout"
        }
      ]
    },
    {
      "cell_type": "code",
      "metadata": {
        "id": "wmRr1x15Ln22",
        "colab_type": "code",
        "colab": {}
      },
      "source": [
        "import pandas as pd\n",
        "df=pd.read_csv(\"drive/My Drive/Bert example tags expanded.csv\")"
      ],
      "execution_count": 0,
      "outputs": []
    },
    {
      "cell_type": "code",
      "metadata": {
        "id": "8czyQOHrMB-g",
        "colab_type": "code",
        "colab": {
          "base_uri": "https://localhost:8080/",
          "height": 377
        },
        "outputId": "04b391c3-bc34-4af7-b0a8-afe25863ba64"
      },
      "source": [
        "df.head()"
      ],
      "execution_count": 4,
      "outputs": [
        {
          "output_type": "execute_result",
          "data": {
            "text/html": [
              "<div>\n",
              "<style scoped>\n",
              "    .dataframe tbody tr th:only-of-type {\n",
              "        vertical-align: middle;\n",
              "    }\n",
              "\n",
              "    .dataframe tbody tr th {\n",
              "        vertical-align: top;\n",
              "    }\n",
              "\n",
              "    .dataframe thead th {\n",
              "        text-align: right;\n",
              "    }\n",
              "</style>\n",
              "<table border=\"1\" class=\"dataframe\">\n",
              "  <thead>\n",
              "    <tr style=\"text-align: right;\">\n",
              "      <th></th>\n",
              "      <th>Text</th>\n",
              "      <th>Unnamed: 1</th>\n",
              "      <th>Unnamed: 2</th>\n",
              "      <th>Unnamed: 3</th>\n",
              "      <th>Unnamed: 4</th>\n",
              "      <th>Unnamed: 5</th>\n",
              "      <th>Unnamed: 6</th>\n",
              "      <th>Unnamed: 7</th>\n",
              "      <th>Unnamed: 8</th>\n",
              "      <th>Unnamed: 9</th>\n",
              "      <th>Unnamed: 10</th>\n",
              "      <th>Unnamed: 11</th>\n",
              "    </tr>\n",
              "  </thead>\n",
              "  <tbody>\n",
              "    <tr>\n",
              "      <th>0</th>\n",
              "      <td>Consumer Discretionary</td>\n",
              "      <td>B-sector</td>\n",
              "      <td>I-sector</td>\n",
              "      <td>NaN</td>\n",
              "      <td>NaN</td>\n",
              "      <td>NaN</td>\n",
              "      <td>NaN</td>\n",
              "      <td>NaN</td>\n",
              "      <td>NaN</td>\n",
              "      <td>NaN</td>\n",
              "      <td>NaN</td>\n",
              "      <td>NaN</td>\n",
              "    </tr>\n",
              "    <tr>\n",
              "      <th>1</th>\n",
              "      <td>Creditors</td>\n",
              "      <td>B-funda</td>\n",
              "      <td>NaN</td>\n",
              "      <td>NaN</td>\n",
              "      <td>NaN</td>\n",
              "      <td>NaN</td>\n",
              "      <td>NaN</td>\n",
              "      <td>NaN</td>\n",
              "      <td>NaN</td>\n",
              "      <td>NaN</td>\n",
              "      <td>NaN</td>\n",
              "      <td>NaN</td>\n",
              "    </tr>\n",
              "    <tr>\n",
              "      <th>2</th>\n",
              "      <td>Cos where ROE &gt; 15% and profit growth &gt; 20%</td>\n",
              "      <td>O</td>\n",
              "      <td>O</td>\n",
              "      <td>B-funda</td>\n",
              "      <td>operator</td>\n",
              "      <td>threshold</td>\n",
              "      <td>Join</td>\n",
              "      <td>B-funda</td>\n",
              "      <td>B-attr</td>\n",
              "      <td>operator</td>\n",
              "      <td>threshold</td>\n",
              "      <td>NaN</td>\n",
              "    </tr>\n",
              "    <tr>\n",
              "      <th>3</th>\n",
              "      <td>Tax rate</td>\n",
              "      <td>B-funda</td>\n",
              "      <td>I-funda</td>\n",
              "      <td>NaN</td>\n",
              "      <td>NaN</td>\n",
              "      <td>NaN</td>\n",
              "      <td>NaN</td>\n",
              "      <td>NaN</td>\n",
              "      <td>NaN</td>\n",
              "      <td>NaN</td>\n",
              "      <td>NaN</td>\n",
              "      <td>NaN</td>\n",
              "    </tr>\n",
              "    <tr>\n",
              "      <th>4</th>\n",
              "      <td>Cos where 2 year revenue growth &gt; 20%</td>\n",
              "      <td>O</td>\n",
              "      <td>O</td>\n",
              "      <td>TPQty</td>\n",
              "      <td>TPUnit</td>\n",
              "      <td>B-sector</td>\n",
              "      <td>B-attr</td>\n",
              "      <td>operator</td>\n",
              "      <td>threshold</td>\n",
              "      <td>NaN</td>\n",
              "      <td>NaN</td>\n",
              "      <td>NaN</td>\n",
              "    </tr>\n",
              "  </tbody>\n",
              "</table>\n",
              "</div>"
            ],
            "text/plain": [
              "                                          Text  ... Unnamed: 11\n",
              "0                       Consumer Discretionary  ...         NaN\n",
              "1                                    Creditors  ...         NaN\n",
              "2  Cos where ROE > 15% and profit growth > 20%  ...         NaN\n",
              "3                                     Tax rate  ...         NaN\n",
              "4        Cos where 2 year revenue growth > 20%  ...         NaN\n",
              "\n",
              "[5 rows x 12 columns]"
            ]
          },
          "metadata": {
            "tags": []
          },
          "execution_count": 4
        }
      ]
    },
    {
      "cell_type": "code",
      "metadata": {
        "id": "PPEpsJ1eMGLX",
        "colab_type": "code",
        "colab": {
          "base_uri": "https://localhost:8080/",
          "height": 233
        },
        "outputId": "2215a595-da1a-42e9-c3c1-5e17aa5426b8"
      },
      "source": [
        "Sentences=df['Text']\n",
        "Sentences"
      ],
      "execution_count": 17,
      "outputs": [
        {
          "output_type": "execute_result",
          "data": {
            "text/plain": [
              "0                           Consumer Discretionary\n",
              "1                                        Creditors\n",
              "2      Cos where ROE > 15% and profit growth > 20%\n",
              "3                                         Tax rate\n",
              "4            Cos where 2 year revenue growth > 20%\n",
              "                          ...                     \n",
              "100                Largest smallcap cos by revenue\n",
              "101       Midcap cos with highest quarterly growth\n",
              "102        EV / EBITDA of cos with mktcap > 100 cr\n",
              "103                Banks with ROE > 20% and PB < 2\n",
              "104             Nifty500 cos where EBIT > Interest\n",
              "Name: Text, Length: 105, dtype: object"
            ]
          },
          "metadata": {
            "tags": []
          },
          "execution_count": 17
        }
      ]
    },
    {
      "cell_type": "code",
      "metadata": {
        "id": "QSJyQjjnN2CK",
        "colab_type": "code",
        "colab": {
          "base_uri": "https://localhost:8080/",
          "height": 89
        },
        "outputId": "8b07ccd6-f54f-4e73-aa18-ba14537d20d7"
      },
      "source": [
        "df.columns"
      ],
      "execution_count": 6,
      "outputs": [
        {
          "output_type": "execute_result",
          "data": {
            "text/plain": [
              "Index(['Text', 'Unnamed: 1', 'Unnamed: 2', 'Unnamed: 3', 'Unnamed: 4',\n",
              "       'Unnamed: 5', 'Unnamed: 6', 'Unnamed: 7', 'Unnamed: 8', 'Unnamed: 9',\n",
              "       'Unnamed: 10', 'Unnamed: 11'],\n",
              "      dtype='object')"
            ]
          },
          "metadata": {
            "tags": []
          },
          "execution_count": 6
        }
      ]
    },
    {
      "cell_type": "code",
      "metadata": {
        "id": "eyjQMjEyNN4R",
        "colab_type": "code",
        "colab": {}
      },
      "source": [
        "df['Labels'] = df['Unnamed: 1'].astype(str) +\" \"+ df['Unnamed: 2'].astype(str)+\" \"+ df['Unnamed: 3'].astype(str)+\" \"+ df['Unnamed: 4'].astype(str)+\" \"+ df['Unnamed: 5'].astype(str)+\" \"+ df['Unnamed: 6'].astype(str)+\" \"+ df['Unnamed: 7'].astype(str)+\" \"+ df['Unnamed: 8'].astype(str)+\" \"+ df['Unnamed: 9'].astype(str)+\" \"+ df['Unnamed: 10'].astype(str)+\" \"+ df['Unnamed: 11'].astype(str)"
      ],
      "execution_count": 0,
      "outputs": []
    },
    {
      "cell_type": "code",
      "metadata": {
        "id": "klrevnEuN_yJ",
        "colab_type": "code",
        "colab": {
          "base_uri": "https://localhost:8080/",
          "height": 451
        },
        "outputId": "b0498368-466e-4c3f-bff0-2ccaa57f90a7"
      },
      "source": [
        "df.head(3)"
      ],
      "execution_count": 13,
      "outputs": [
        {
          "output_type": "execute_result",
          "data": {
            "text/html": [
              "<div>\n",
              "<style scoped>\n",
              "    .dataframe tbody tr th:only-of-type {\n",
              "        vertical-align: middle;\n",
              "    }\n",
              "\n",
              "    .dataframe tbody tr th {\n",
              "        vertical-align: top;\n",
              "    }\n",
              "\n",
              "    .dataframe thead th {\n",
              "        text-align: right;\n",
              "    }\n",
              "</style>\n",
              "<table border=\"1\" class=\"dataframe\">\n",
              "  <thead>\n",
              "    <tr style=\"text-align: right;\">\n",
              "      <th></th>\n",
              "      <th>Text</th>\n",
              "      <th>Unnamed: 1</th>\n",
              "      <th>Unnamed: 2</th>\n",
              "      <th>Unnamed: 3</th>\n",
              "      <th>Unnamed: 4</th>\n",
              "      <th>Unnamed: 5</th>\n",
              "      <th>Unnamed: 6</th>\n",
              "      <th>Unnamed: 7</th>\n",
              "      <th>Unnamed: 8</th>\n",
              "      <th>Unnamed: 9</th>\n",
              "      <th>Unnamed: 10</th>\n",
              "      <th>Unnamed: 11</th>\n",
              "      <th>Labels</th>\n",
              "    </tr>\n",
              "  </thead>\n",
              "  <tbody>\n",
              "    <tr>\n",
              "      <th>0</th>\n",
              "      <td>Consumer Discretionary</td>\n",
              "      <td>B-sector</td>\n",
              "      <td>I-sector</td>\n",
              "      <td>NaN</td>\n",
              "      <td>NaN</td>\n",
              "      <td>NaN</td>\n",
              "      <td>NaN</td>\n",
              "      <td>NaN</td>\n",
              "      <td>NaN</td>\n",
              "      <td>NaN</td>\n",
              "      <td>NaN</td>\n",
              "      <td>NaN</td>\n",
              "      <td>B-sector I-sector nan nan nan nan nan nan nan ...</td>\n",
              "    </tr>\n",
              "    <tr>\n",
              "      <th>1</th>\n",
              "      <td>Creditors</td>\n",
              "      <td>B-funda</td>\n",
              "      <td>NaN</td>\n",
              "      <td>NaN</td>\n",
              "      <td>NaN</td>\n",
              "      <td>NaN</td>\n",
              "      <td>NaN</td>\n",
              "      <td>NaN</td>\n",
              "      <td>NaN</td>\n",
              "      <td>NaN</td>\n",
              "      <td>NaN</td>\n",
              "      <td>NaN</td>\n",
              "      <td>B-funda nan nan nan nan nan nan nan nan nan nan</td>\n",
              "    </tr>\n",
              "    <tr>\n",
              "      <th>2</th>\n",
              "      <td>Cos where ROE &gt; 15% and profit growth &gt; 20%</td>\n",
              "      <td>O</td>\n",
              "      <td>O</td>\n",
              "      <td>B-funda</td>\n",
              "      <td>operator</td>\n",
              "      <td>threshold</td>\n",
              "      <td>Join</td>\n",
              "      <td>B-funda</td>\n",
              "      <td>B-attr</td>\n",
              "      <td>operator</td>\n",
              "      <td>threshold</td>\n",
              "      <td>NaN</td>\n",
              "      <td>O O B-funda operator threshold Join B-funda B-...</td>\n",
              "    </tr>\n",
              "  </tbody>\n",
              "</table>\n",
              "</div>"
            ],
            "text/plain": [
              "                                          Text  ...                                             Labels\n",
              "0                       Consumer Discretionary  ...  B-sector I-sector nan nan nan nan nan nan nan ...\n",
              "1                                    Creditors  ...    B-funda nan nan nan nan nan nan nan nan nan nan\n",
              "2  Cos where ROE > 15% and profit growth > 20%  ...  O O B-funda operator threshold Join B-funda B-...\n",
              "\n",
              "[3 rows x 13 columns]"
            ]
          },
          "metadata": {
            "tags": []
          },
          "execution_count": 13
        }
      ]
    },
    {
      "cell_type": "code",
      "metadata": {
        "id": "ftSMDp8WOoXY",
        "colab_type": "code",
        "colab": {}
      },
      "source": [
        "df=df.drop(columns=['Unnamed: 1', 'Unnamed: 2', 'Unnamed: 3', 'Unnamed: 4',\n",
        "       'Unnamed: 5', 'Unnamed: 6', 'Unnamed: 7', 'Unnamed: 8', 'Unnamed: 9',\n",
        "       'Unnamed: 10', 'Unnamed: 11'],axis=1)"
      ],
      "execution_count": 0,
      "outputs": []
    },
    {
      "cell_type": "code",
      "metadata": {
        "id": "pIn3P37AO7gF",
        "colab_type": "code",
        "colab": {
          "base_uri": "https://localhost:8080/",
          "height": 204
        },
        "outputId": "e4b98f2e-195a-44e3-f6eb-3691701656e5"
      },
      "source": [
        "df.head()"
      ],
      "execution_count": 15,
      "outputs": [
        {
          "output_type": "execute_result",
          "data": {
            "text/html": [
              "<div>\n",
              "<style scoped>\n",
              "    .dataframe tbody tr th:only-of-type {\n",
              "        vertical-align: middle;\n",
              "    }\n",
              "\n",
              "    .dataframe tbody tr th {\n",
              "        vertical-align: top;\n",
              "    }\n",
              "\n",
              "    .dataframe thead th {\n",
              "        text-align: right;\n",
              "    }\n",
              "</style>\n",
              "<table border=\"1\" class=\"dataframe\">\n",
              "  <thead>\n",
              "    <tr style=\"text-align: right;\">\n",
              "      <th></th>\n",
              "      <th>Text</th>\n",
              "      <th>Labels</th>\n",
              "    </tr>\n",
              "  </thead>\n",
              "  <tbody>\n",
              "    <tr>\n",
              "      <th>0</th>\n",
              "      <td>Consumer Discretionary</td>\n",
              "      <td>B-sector I-sector nan nan nan nan nan nan nan ...</td>\n",
              "    </tr>\n",
              "    <tr>\n",
              "      <th>1</th>\n",
              "      <td>Creditors</td>\n",
              "      <td>B-funda nan nan nan nan nan nan nan nan nan nan</td>\n",
              "    </tr>\n",
              "    <tr>\n",
              "      <th>2</th>\n",
              "      <td>Cos where ROE &gt; 15% and profit growth &gt; 20%</td>\n",
              "      <td>O O B-funda operator threshold Join B-funda B-...</td>\n",
              "    </tr>\n",
              "    <tr>\n",
              "      <th>3</th>\n",
              "      <td>Tax rate</td>\n",
              "      <td>B-funda I-funda nan nan nan nan nan nan nan na...</td>\n",
              "    </tr>\n",
              "    <tr>\n",
              "      <th>4</th>\n",
              "      <td>Cos where 2 year revenue growth &gt; 20%</td>\n",
              "      <td>O O TPQty TPUnit B-sector B-attr operator thre...</td>\n",
              "    </tr>\n",
              "  </tbody>\n",
              "</table>\n",
              "</div>"
            ],
            "text/plain": [
              "                                          Text                                             Labels\n",
              "0                       Consumer Discretionary  B-sector I-sector nan nan nan nan nan nan nan ...\n",
              "1                                    Creditors    B-funda nan nan nan nan nan nan nan nan nan nan\n",
              "2  Cos where ROE > 15% and profit growth > 20%  O O B-funda operator threshold Join B-funda B-...\n",
              "3                                     Tax rate  B-funda I-funda nan nan nan nan nan nan nan na...\n",
              "4        Cos where 2 year revenue growth > 20%  O O TPQty TPUnit B-sector B-attr operator thre..."
            ]
          },
          "metadata": {
            "tags": []
          },
          "execution_count": 15
        }
      ]
    },
    {
      "cell_type": "code",
      "metadata": {
        "id": "zfrH3QvzO_FC",
        "colab_type": "code",
        "colab": {
          "base_uri": "https://localhost:8080/",
          "height": 233
        },
        "outputId": "f78c69b2-2dfe-4131-ed4b-26a93567c230"
      },
      "source": [
        "Labels=df['Labels']\n",
        "Labels"
      ],
      "execution_count": 16,
      "outputs": [
        {
          "output_type": "execute_result",
          "data": {
            "text/plain": [
              "0      B-sector I-sector nan nan nan nan nan nan nan ...\n",
              "1        B-funda nan nan nan nan nan nan nan nan nan nan\n",
              "2      O O B-funda operator threshold Join B-funda B-...\n",
              "3      B-funda I-funda nan nan nan nan nan nan nan na...\n",
              "4      O O TPQty TPUnit B-sector B-attr operator thre...\n",
              "                             ...                        \n",
              "100    Sortby Capitalization O O B-funda nan nan nan ...\n",
              "101    Capitalization O O Sortby TPUnit B-attr nan na...\n",
              "102    B-funda O B-funda O O O B-funda operator thres...\n",
              "103    B-sector O B-funda operator threshold O B-fund...\n",
              "104    B-index O O B-funda operator B-funda nan nan n...\n",
              "Name: Labels, Length: 105, dtype: object"
            ]
          },
          "metadata": {
            "tags": []
          },
          "execution_count": 16
        }
      ]
    },
    {
      "cell_type": "code",
      "metadata": {
        "id": "0ARiVCy1QgoP",
        "colab_type": "code",
        "colab": {
          "base_uri": "https://localhost:8080/",
          "height": 35
        },
        "outputId": "58facae6-0564-4c31-e41b-378f117462d1"
      },
      "source": [
        "Labels.shape"
      ],
      "execution_count": 19,
      "outputs": [
        {
          "output_type": "execute_result",
          "data": {
            "text/plain": [
              "(105,)"
            ]
          },
          "metadata": {
            "tags": []
          },
          "execution_count": 19
        }
      ]
    },
    {
      "cell_type": "code",
      "metadata": {
        "id": "ZKxYBgnbQmfZ",
        "colab_type": "code",
        "colab": {
          "base_uri": "https://localhost:8080/",
          "height": 35
        },
        "outputId": "f4bb0985-295b-49fd-ae0d-e6c2b39aa04d"
      },
      "source": [
        "Sentences.shape"
      ],
      "execution_count": 20,
      "outputs": [
        {
          "output_type": "execute_result",
          "data": {
            "text/plain": [
              "(105,)"
            ]
          },
          "metadata": {
            "tags": []
          },
          "execution_count": 20
        }
      ]
    },
    {
      "cell_type": "code",
      "metadata": {
        "id": "kOS7LEt9Txru",
        "colab_type": "code",
        "colab": {
          "base_uri": "https://localhost:8080/",
          "height": 35
        },
        "outputId": "d217d37a-81de-48ec-bc49-8af0e90559b7"
      },
      "source": [
        "len(Labels)"
      ],
      "execution_count": 42,
      "outputs": [
        {
          "output_type": "execute_result",
          "data": {
            "text/plain": [
              "105"
            ]
          },
          "metadata": {
            "tags": []
          },
          "execution_count": 42
        }
      ]
    },
    {
      "cell_type": "code",
      "metadata": {
        "id": "0wB0gf97Tx1b",
        "colab_type": "code",
        "colab": {
          "base_uri": "https://localhost:8080/",
          "height": 35
        },
        "outputId": "50747876-71a8-4eb9-8ad4-06c1390294a9"
      },
      "source": [
        "len(Sentences)"
      ],
      "execution_count": 41,
      "outputs": [
        {
          "output_type": "execute_result",
          "data": {
            "text/plain": [
              "105"
            ]
          },
          "metadata": {
            "tags": []
          },
          "execution_count": 41
        }
      ]
    },
    {
      "cell_type": "code",
      "metadata": {
        "id": "ewSlTzi5MtxO",
        "colab_type": "code",
        "colab": {
          "base_uri": "https://localhost:8080/",
          "height": 1000
        },
        "outputId": "b4add1b8-2e3e-4584-d26d-428b05091a66"
      },
      "source": [
        "traindata=[]\n",
        "for i in range(0,len(Sentences[:85])):\n",
        "  wordslist=Sentences[i].split(\" \")\n",
        "  labelslist=Labels[i].split(\" \")\n",
        "  \n",
        "\n",
        "  for j in range(0,len(wordslist[:85])):\n",
        "    #print(wordslist[j],labelslist[j])\n",
        "    traindata.append([i,wordslist[j],labelslist[j]])\n",
        "  \n",
        "traindata"
      ],
      "execution_count": 46,
      "outputs": [
        {
          "output_type": "execute_result",
          "data": {
            "text/plain": [
              "[[0, 'Consumer', 'B-sector'],\n",
              " [0, 'Discretionary', 'I-sector'],\n",
              " [1, 'Creditors', 'B-funda'],\n",
              " [2, 'Cos', 'O'],\n",
              " [2, 'where', 'O'],\n",
              " [2, 'ROE', 'B-funda'],\n",
              " [2, '>', 'operator'],\n",
              " [2, '15%', 'threshold'],\n",
              " [2, 'and', 'Join'],\n",
              " [2, 'profit', 'B-funda'],\n",
              " [2, 'growth', 'B-attr'],\n",
              " [2, '>', 'operator'],\n",
              " [2, '20%', 'threshold'],\n",
              " [3, 'Tax', 'B-funda'],\n",
              " [3, 'rate', 'I-funda'],\n",
              " [4, 'Cos', 'O'],\n",
              " [4, 'where', 'O'],\n",
              " [4, '2', 'TPQty'],\n",
              " [4, 'year', 'TPUnit'],\n",
              " [4, 'revenue', 'B-sector'],\n",
              " [4, 'growth', 'B-attr'],\n",
              " [4, '>', 'operator'],\n",
              " [4, '20%', 'threshold'],\n",
              " [5, 'Operating', 'B-funda'],\n",
              " [5, 'profit', 'I-funda'],\n",
              " [6, 'Rev', 'B-funda'],\n",
              " [6, 'CAGR', 'B-attr'],\n",
              " [6, 'of', 'O'],\n",
              " [6, 'NIFTY', 'B-index'],\n",
              " [6, 'cos', 'O'],\n",
              " [7, 'Net', 'B-funda'],\n",
              " [7, 'Debt', 'I-'],\n",
              " [7, '/', 'funda'],\n",
              " [7, 'EBITDA', 'O'],\n",
              " [7, 'for', 'B-funda'],\n",
              " [7, 'Tata', 'O'],\n",
              " [7, 'Steel', 'B-security'],\n",
              " [7, 'JSW', 'I-security'],\n",
              " [8, 'Top', 'Sortby'],\n",
              " [8, '5', 'Number'],\n",
              " [8, 'IT', 'Sector'],\n",
              " [8, 'cos', 'O'],\n",
              " [8, 'by', 'O'],\n",
              " [8, 'revenue', 'B-funda'],\n",
              " [8, 'growth', 'B-attr'],\n",
              " [9, 'Loan', 'B-funda'],\n",
              " [9, 'book', 'I-funda'],\n",
              " [10, 'Deposits', 'B-funda'],\n",
              " [11, 'Plot', 'O'],\n",
              " [11, 'bank', 'B-sector'],\n",
              " [11, 'NIM', 'B-funda'],\n",
              " [11, 'interest', 'B-eco'],\n",
              " [11, 'rate', 'I-eco'],\n",
              " [11, 'for', 'O'],\n",
              " [11, 'Apr', 'TPMonth'],\n",
              " [11, '2015', 'TPYr'],\n",
              " [11, 'to', 'O'],\n",
              " [11, 'Mar', 'TPMonth'],\n",
              " [11, '2019', 'TPYr'],\n",
              " [12, 'Fixed', 'B-funda'],\n",
              " [12, 'asset', 'I-funda'],\n",
              " [12, 'turnover', 'I-funda'],\n",
              " [13, 'Cash', 'B-funda'],\n",
              " [13, 'from', 'I-funda'],\n",
              " [13, 'operations', 'I-funda'],\n",
              " [14, 'Fwd', 'B-attr'],\n",
              " [14, 'PE', 'I-funda'],\n",
              " [14, 'of', 'O'],\n",
              " [14, 'Tobacco', 'B-sector'],\n",
              " [14, 'FMCG', 'B-sector'],\n",
              " [14, 'Liquor', 'B-sector'],\n",
              " [14, 'cos', 'O'],\n",
              " [15, 'Debtor', 'B-funda'],\n",
              " [15, 'days', 'I-funda'],\n",
              " [16, 'Fastest', 'Sortby'],\n",
              " [16, 'growing', 'B-attr'],\n",
              " [16, 'cement', 'B-sector'],\n",
              " [16, 'cos', 'O'],\n",
              " [17, 'Fwd', 'B-funda'],\n",
              " [17, 'PE', 'I-funda'],\n",
              " [18, 'Net', 'B-funda'],\n",
              " [18, 'fixed', 'I-funda'],\n",
              " [18, 'assets', 'I-funda'],\n",
              " [19, 'FCF', 'B-funda'],\n",
              " [20, 'List', 'O'],\n",
              " [20, 'of', 'O'],\n",
              " [20, 'cos', 'O'],\n",
              " [20, 'with', 'O'],\n",
              " [20, 'highest', 'Sortby'],\n",
              " [20, 'revenue', 'B-funda'],\n",
              " [20, 'CAGR', 'B-attr'],\n",
              " [20, 'sector', 'O'],\n",
              " [20, 'wise', 'O'],\n",
              " [21, 'Real', 'B-sector'],\n",
              " [21, 'Estate', 'I-sector'],\n",
              " [22, 'What', 'O'],\n",
              " [22, 'is', 'O'],\n",
              " [22, 'inventory', 'B-funda'],\n",
              " [22, 'days', 'I-funda'],\n",
              " [22, 'for', 'O'],\n",
              " [22, 'jewellers', 'B-sector'],\n",
              " [23, 'Operating', 'B-funda'],\n",
              " [23, 'margin', 'I-funda'],\n",
              " [24, 'PBT', 'B-funda'],\n",
              " [24, 'margin', 'I-funda'],\n",
              " [25, 'Industrials', 'B-sector'],\n",
              " [26, 'Cash', 'B-funda'],\n",
              " [26, 'and', 'I-funda'],\n",
              " [26, 'equivalents', 'I-funda'],\n",
              " [27, 'PB', 'B-funda'],\n",
              " [27, 'vs', 'O'],\n",
              " [27, 'RoE', 'B-funda'],\n",
              " [27, 'of', 'O'],\n",
              " [27, 'utilities', 'B-sector'],\n",
              " [27, 'for', 'O'],\n",
              " [27, 'past', 'O'],\n",
              " [27, '10', 'TPQty'],\n",
              " [27, 'yrs', 'TPUnit'],\n",
              " [28, 'Depreciation', 'B-funda'],\n",
              " [29, 'Total', 'B-funda'],\n",
              " [29, 'current', 'I-funda'],\n",
              " [29, 'liabilities', 'I-funda'],\n",
              " [30, 'Total', 'B-funda'],\n",
              " [30, 'current', 'I-funda'],\n",
              " [30, 'assets', 'I-funda'],\n",
              " [31, 'Creditor', 'B-funda'],\n",
              " [31, 'days', 'I-funda'],\n",
              " [32, 'EBITDA', 'B-funda'],\n",
              " [32, 'margin', 'I-funda'],\n",
              " [33, 'Largest', 'Sortby'],\n",
              " [33, 'oil', 'B-sector'],\n",
              " [33, '&', 'I-sector'],\n",
              " [33, 'gas', 'I-sector'],\n",
              " [33, 'companies', 'O'],\n",
              " [34, 'Total', 'B-funda'],\n",
              " [34, 'liabilities', 'I-funda'],\n",
              " [35, 'Utilities', 'B-sector'],\n",
              " [36, 'Sensex', 'B-index'],\n",
              " [36, 'vs', 'O'],\n",
              " [36, 'consumer', 'B-sector'],\n",
              " [36, 'stocks', 'O'],\n",
              " [36, 'revenue', 'B-funda'],\n",
              " [36, 'growth', 'B-attr'],\n",
              " [37, 'EBIT', 'B-funda'],\n",
              " [38, 'ROCE', 'B-funda'],\n",
              " [39, 'Intangible', 'B-funda'],\n",
              " [39, 'assets', 'I-funda'],\n",
              " [40, 'Inventory', 'B-funda'],\n",
              " [41, 'Total', 'B-funda'],\n",
              " [41, 'assets', 'I-funda'],\n",
              " [42, 'Gross', 'B-funda'],\n",
              " [42, 'profit', 'I-funda'],\n",
              " [43, 'IT', 'B-sector'],\n",
              " [43, 'cos', 'O'],\n",
              " [43, 'where', 'O'],\n",
              " [43, 'EBITDA', 'B-funda'],\n",
              " [43, 'margin', 'I-funda'],\n",
              " [43, '>', 'operator'],\n",
              " [43, '16%', 'threshold'],\n",
              " [44, '5', 'TPQty'],\n",
              " [44, 'yr', 'TPUnit'],\n",
              " [44, 'rev', 'B-funda'],\n",
              " [44, 'profit', 'B-funda'],\n",
              " [44, 'growth', 'B-attr'],\n",
              " [44, 'of', 'O'],\n",
              " [44, 'ferrous', 'B-sector'],\n",
              " [44, 'non-ferrous', 'B-sector'],\n",
              " [44, 'vs', 'O'],\n",
              " [44, 'steel', 'B-eco'],\n",
              " [44, 'price', 'I-eco'],\n",
              " [45, 'Price', 'B-funda'],\n",
              " [45, 'performance', 'I-funda'],\n",
              " [45, 'of', 'O'],\n",
              " [45, 'NIFTY', 'B-index'],\n",
              " [45, 'between', 'O'],\n",
              " [45, 'Apr', 'TPMonth'],\n",
              " [45, 'to', 'O'],\n",
              " [45, 'Dec', 'TPMonth'],\n",
              " [45, '2018', 'TPYr'],\n",
              " [46, 'Capex', 'B-funda'],\n",
              " [47, 'IT', 'B-sector'],\n",
              " [47, 'cos', 'O'],\n",
              " [47, 'with', 'O'],\n",
              " [47, 'highest', 'Sortby'],\n",
              " [47, 'FCF', 'B-funda'],\n",
              " [47, 'yield', 'I-funda'],\n",
              " [48, 'Average', 'B-attr'],\n",
              " [48, 'operating', 'B-funda'],\n",
              " [48, 'margin', 'I-funda'],\n",
              " [48, 'for', 'O'],\n",
              " [48, 'industrial', 'B-sector'],\n",
              " [48, 'companies', 'O'],\n",
              " [49, 'Taxes', 'B-funda'],\n",
              " [50, 'PBT', 'B-funda'],\n",
              " [51, 'Revenue', 'B-funda'],\n",
              " [52, 'Networth', 'B-funda'],\n",
              " [53, 'EBIT', 'B-funda'],\n",
              " [53, 'margin', 'I-funda'],\n",
              " [54, 'PAT', 'B-funda'],\n",
              " [55, 'Financials', 'B-sector'],\n",
              " [56, 'Valuation', 'B-funda'],\n",
              " [56, 'of', 'O'],\n",
              " [56, 'consumer', 'B-sector'],\n",
              " [56, 'discretionary', 'I-sector'],\n",
              " [56, 'cos', 'O'],\n",
              " [56, 'vs', 'O'],\n",
              " [56, 'GDP', 'B-eco'],\n",
              " [56, 'growth', 'I-eco'],\n",
              " [57, 'Rev', 'B-funda'],\n",
              " [57, 'CAGR', 'B-attr'],\n",
              " [57, 'of', 'O'],\n",
              " [57, 'cos', 'O'],\n",
              " [57, 'sector-wise', 'O'],\n",
              " [57, '5', 'TPQty'],\n",
              " [57, 'year', 'TPUnit'],\n",
              " [58, 'Output', 'O'],\n",
              " [58, 'EBITDA', 'B-funda'],\n",
              " [58, 'margin', 'I-funda'],\n",
              " [58, 'for', 'O'],\n",
              " [58, 'consumer', 'B-sector'],\n",
              " [58, 'stocks', 'O'],\n",
              " [59, 'Gross', 'B-funda'],\n",
              " [59, 'fixed', 'I-funda'],\n",
              " [59, 'assets', 'I-funda'],\n",
              " [60, 'Return', 'B-funda'],\n",
              " [60, 'of', 'O'],\n",
              " [60, 'crude', 'B-eco'],\n",
              " [60, 'in', 'O'],\n",
              " [60, 'January', 'TPMonth'],\n",
              " [60, '2019', 'TPYr'],\n",
              " [61, '5', 'TPQty'],\n",
              " [61, 'yr', 'TPUnit'],\n",
              " [61, 'EBITDA', 'B-funda'],\n",
              " [61, 'CAGR', 'B-attr'],\n",
              " [61, 'of', 'O'],\n",
              " [61, 'metals', 'B-sector'],\n",
              " [61, 'cos', 'O'],\n",
              " [62, 'Revenue', 'B-funda'],\n",
              " [62, 'EBITDA', 'B-funda'],\n",
              " [62, 'and', 'O'],\n",
              " [62, 'PAT', 'B-funda'],\n",
              " [62, 'growth', 'B-attr'],\n",
              " [62, 'for', 'O'],\n",
              " [62, 'Sensex', 'B-index'],\n",
              " [62, 'cos', 'O'],\n",
              " [63, 'Consumer', 'B-sector'],\n",
              " [63, 'Staples', 'I-sector'],\n",
              " [64, 'Sales', 'B-funda'],\n",
              " [64, 'growth', 'B-attr'],\n",
              " [64, 'of', 'O'],\n",
              " [64, 'NIFTY', 'B-index'],\n",
              " [64, 'cos', 'O'],\n",
              " [64, 'in', 'O'],\n",
              " [64, 'third', 'TPRef'],\n",
              " [64, 'quarter', 'TPUnit'],\n",
              " [65, 'Communication', 'B-sector'],\n",
              " [65, 'Services', 'I-sector'],\n",
              " [66, 'Gross', 'B-funda'],\n",
              " [66, 'margin', 'I-funda'],\n",
              " [67, 'Information', 'B-sector'],\n",
              " [67, 'Technology', 'I-sector'],\n",
              " [68, 'EBITDA', 'B-funda'],\n",
              " [69, 'EBITDA', 'B-funda'],\n",
              " [69, 'margins', 'I-funda'],\n",
              " [69, 'of', 'O'],\n",
              " [69, 'Tata', 'B-security'],\n",
              " [69, 'Steel', 'I-security'],\n",
              " [69, 'ferrous', 'B-sector'],\n",
              " [69, 'stocks', 'O'],\n",
              " [70, 'Net', 'B-funda'],\n",
              " [70, 'profit', 'I-funda'],\n",
              " [71, 'Energy', 'B-sector'],\n",
              " [71, 'company', 'O'],\n",
              " [71, 'stock', 'B-funda'],\n",
              " [71, 'return', 'I-funda'],\n",
              " [71, 'vs', 'O'],\n",
              " [71, 'oil', 'B-eco'],\n",
              " [71, 'price', 'I-eco'],\n",
              " [72, 'Total', 'B-funda'],\n",
              " [72, 'long', 'I-funda'],\n",
              " [72, 'term', 'I-funda'],\n",
              " [72, 'debt', 'I-funda'],\n",
              " [73, 'Materials', 'B-sector'],\n",
              " [74, 'Asset', 'B-funda'],\n",
              " [74, 'turnover', 'I-funda'],\n",
              " [74, 'for', 'O'],\n",
              " [74, 'capital', 'B-sector'],\n",
              " [74, 'goods', 'I-sector'],\n",
              " [74, 'cos', 'O'],\n",
              " [75, 'PAT', 'B-funda'],\n",
              " [75, 'margin', 'I-funda'],\n",
              " [76, 'Plot', 'O'],\n",
              " [76, 'bank', 'B-sector'],\n",
              " [76, 'NIM', 'B-funda'],\n",
              " [76, 'interest', 'B-eco'],\n",
              " [76, 'rate', 'I-eco'],\n",
              " [76, 'for', 'O'],\n",
              " [76, '10', 'TPQty'],\n",
              " [76, 'yrs', 'TPUnit'],\n",
              " [77, 'Energy', 'B-sector'],\n",
              " [78, 'TTM', 'B-funda'],\n",
              " [78, 'PE', 'I-funda'],\n",
              " [79, 'In', 'O'],\n",
              " [79, 'midcaps', 'Capitalization'],\n",
              " [79, 'which', 'O'],\n",
              " [79, 'sectors', 'O'],\n",
              " [79, 'grew', 'B-attr'],\n",
              " [79, 'fastest', 'Sortby'],\n",
              " [79, 'last', 'O'],\n",
              " [79, 'qtr', 'TPUnit'],\n",
              " [80, 'Which', 'O'],\n",
              " [80, 'co', 'O'],\n",
              " [80, 'has', 'O'],\n",
              " [80, 'highest', 'Sortby'],\n",
              " [80, 'PAT', 'B-funda'],\n",
              " [80, 'margin', 'I-funda'],\n",
              " [80, 'in', 'O'],\n",
              " [80, 'financials', 'B-sector'],\n",
              " [81, 'Bank', 'B-eco'],\n",
              " [81, 'credit', 'I-eco'],\n",
              " [81, 'growth', 'I-eco'],\n",
              " [81, 'vs', 'O'],\n",
              " [81, 'GDP', 'B-eco'],\n",
              " [81, 'growth', 'I-eco'],\n",
              " [82, 'PBT', 'B-funda'],\n",
              " [82, 'margins', 'I-funda'],\n",
              " [82, 'for', 'O'],\n",
              " [82, 'finance', 'B-sector'],\n",
              " [82, 'cos', 'O'],\n",
              " [82, 'last', 'O'],\n",
              " [82, '2', 'TPQty'],\n",
              " [82, 'years', 'TPUnit'],\n",
              " [83, 'NIM', 'B-funda'],\n",
              " [84, 'Asset', 'B-funda'],\n",
              " [84, 'turnover', 'I-funda']]"
            ]
          },
          "metadata": {
            "tags": []
          },
          "execution_count": 46
        }
      ]
    },
    {
      "cell_type": "code",
      "metadata": {
        "id": "Q6oxhE7CUyMl",
        "colab_type": "code",
        "colab": {
          "base_uri": "https://localhost:8080/",
          "height": 395
        },
        "outputId": "2112c7b6-74ce-4091-c923-7112ee771404"
      },
      "source": [
        "Sentences[85:106]"
      ],
      "execution_count": 50,
      "outputs": [
        {
          "output_type": "execute_result",
          "data": {
            "text/plain": [
              "85                                       Short term debt\n",
              "86                                              Networth\n",
              "87                            Fastest revenue growth cos\n",
              "88                                  Other earning assets\n",
              "89                                           Health Care\n",
              "90                                                   ROE\n",
              "91                Valuation of consumer staples vs crude\n",
              "92                                        Debt to equity\n",
              "93                                               Debtors\n",
              "94                                        Inventory days\n",
              "95                              Highest CASA ratio banks\n",
              "96                Pharma cos with highest asset turnover\n",
              "97                              EBITDA growth for IT cos\n",
              "98                 Qtr EBITDA growth for real estate cos\n",
              "99     Highest PAT growth and ROE for consumer discre...\n",
              "100                      Largest smallcap cos by revenue\n",
              "101             Midcap cos with highest quarterly growth\n",
              "102              EV / EBITDA of cos with mktcap > 100 cr\n",
              "103                      Banks with ROE > 20% and PB < 2\n",
              "104                   Nifty500 cos where EBIT > Interest\n",
              "Name: Text, dtype: object"
            ]
          },
          "metadata": {
            "tags": []
          },
          "execution_count": 50
        }
      ]
    },
    {
      "cell_type": "code",
      "metadata": {
        "id": "jDdYTGYTURxv",
        "colab_type": "code",
        "colab": {
          "base_uri": "https://localhost:8080/",
          "height": 1000
        },
        "outputId": "2a3b3e72-60cb-490a-94d1-cd6d657808b3"
      },
      "source": [
        "testdata=[]\n",
        "for i in range(85,105):\n",
        "  wordslist=Sentences[i].split(\" \")\n",
        "  labelslist=Labels[i].split(\" \")\n",
        "  \n",
        "\n",
        "  for j in range(0,len(wordslist)):\n",
        "    #print(wordslist[j],labelslist[j])\n",
        "    testdata.append([i,wordslist[j],labelslist[j]])\n",
        "  \n",
        "testdata"
      ],
      "execution_count": 52,
      "outputs": [
        {
          "output_type": "execute_result",
          "data": {
            "text/plain": [
              "[[85, 'Short', 'B-funda'],\n",
              " [85, 'term', 'I-funda'],\n",
              " [85, 'debt', 'I-funda'],\n",
              " [86, 'Networth', 'B-funda'],\n",
              " [87, 'Fastest', 'Sortby'],\n",
              " [87, 'revenue', 'B-funda'],\n",
              " [87, 'growth', 'B-attr'],\n",
              " [87, 'cos', 'O'],\n",
              " [88, 'Other', 'B-funda'],\n",
              " [88, 'earning', 'I-funda'],\n",
              " [88, 'assets', 'I-funda'],\n",
              " [89, 'Health', 'B-sector'],\n",
              " [89, 'Care', 'I-sector'],\n",
              " [90, 'ROE', 'B-funda'],\n",
              " [91, 'Valuation', 'B-funda'],\n",
              " [91, 'of', 'O'],\n",
              " [91, 'consumer', 'B-sector'],\n",
              " [91, 'staples', 'I-sector'],\n",
              " [91, 'vs', 'O'],\n",
              " [91, 'crude', 'B-eco'],\n",
              " [92, 'Debt', 'B-funda'],\n",
              " [92, 'to', 'I-funda'],\n",
              " [92, 'equity', 'I-funda'],\n",
              " [93, 'Debtors', 'B-funda'],\n",
              " [94, 'Inventory', 'B-funda'],\n",
              " [94, 'days', 'I-funda'],\n",
              " [95, 'Highest', 'Sortby'],\n",
              " [95, 'CASA', 'B-funda'],\n",
              " [95, 'ratio', 'I-funda'],\n",
              " [95, 'banks', 'B-sector'],\n",
              " [96, 'Pharma', 'B-sector'],\n",
              " [96, 'cos', 'O'],\n",
              " [96, 'with', 'O'],\n",
              " [96, 'highest', 'Sortby'],\n",
              " [96, 'asset', 'B-funda'],\n",
              " [96, 'turnover', 'I-funda'],\n",
              " [97, 'EBITDA', 'B-funda'],\n",
              " [97, 'growth', 'B-attr'],\n",
              " [97, 'for', 'O'],\n",
              " [97, 'IT', 'B-sector'],\n",
              " [97, 'cos', 'O'],\n",
              " [98, 'Qtr', 'TPUnit'],\n",
              " [98, 'EBITDA', 'B-sector'],\n",
              " [98, 'growth', 'B-attr'],\n",
              " [98, 'for', 'O'],\n",
              " [98, 'real', 'B-sector'],\n",
              " [98, 'estate', 'I-sector'],\n",
              " [98, 'cos', 'O'],\n",
              " [99, 'Highest', 'Sortby'],\n",
              " [99, 'PAT', 'B-funda'],\n",
              " [99, 'growth', 'B-attr'],\n",
              " [99, 'and', 'O'],\n",
              " [99, 'ROE', 'B-funda'],\n",
              " [99, 'for', 'O'],\n",
              " [99, 'consumer', 'B-sector'],\n",
              " [99, 'discretionary', 'I-sector'],\n",
              " [99, 'cos', 'O'],\n",
              " [100, 'Largest', 'Sortby'],\n",
              " [100, 'smallcap', 'Capitalization'],\n",
              " [100, 'cos', 'O'],\n",
              " [100, 'by', 'O'],\n",
              " [100, 'revenue', 'B-funda'],\n",
              " [101, 'Midcap', 'Capitalization'],\n",
              " [101, 'cos', 'O'],\n",
              " [101, 'with', 'O'],\n",
              " [101, 'highest', 'Sortby'],\n",
              " [101, 'quarterly', 'TPUnit'],\n",
              " [101, 'growth', 'B-attr'],\n",
              " [102, 'EV', 'B-funda'],\n",
              " [102, '/', 'O'],\n",
              " [102, 'EBITDA', 'B-funda'],\n",
              " [102, 'of', 'O'],\n",
              " [102, 'cos', 'O'],\n",
              " [102, 'with', 'O'],\n",
              " [102, 'mktcap', 'B-funda'],\n",
              " [102, '>', 'operator'],\n",
              " [102, '100', 'threshold'],\n",
              " [102, 'cr', 'O'],\n",
              " [103, 'Banks', 'B-sector'],\n",
              " [103, 'with', 'O'],\n",
              " [103, 'ROE', 'B-funda'],\n",
              " [103, '>', 'operator'],\n",
              " [103, '20%', 'threshold'],\n",
              " [103, 'and', 'O'],\n",
              " [103, 'PB', 'B-funda'],\n",
              " [103, '<', 'operator'],\n",
              " [103, '2', 'threshold'],\n",
              " [104, 'Nifty500', 'B-index'],\n",
              " [104, 'cos', 'O'],\n",
              " [104, 'where', 'O'],\n",
              " [104, 'EBIT', 'B-funda'],\n",
              " [104, '>', 'operator'],\n",
              " [104, 'Interest', 'B-funda']]"
            ]
          },
          "metadata": {
            "tags": []
          },
          "execution_count": 52
        }
      ]
    },
    {
      "cell_type": "code",
      "metadata": {
        "id": "qYpdOt8-TMlr",
        "colab_type": "code",
        "colab": {
          "base_uri": "https://localhost:8080/",
          "height": 1000
        },
        "outputId": "009888f7-43a5-4f1f-dbdb-b2fa32909eaa"
      },
      "source": [
        "pip install simpletransformers"
      ],
      "execution_count": 37,
      "outputs": [
        {
          "output_type": "stream",
          "text": [
            "Collecting simpletransformers\n",
            "\u001b[?25l  Downloading https://files.pythonhosted.org/packages/51/da/ee7f8cdf1729b64c72a927384a27f3f8d7bcc24ebe8e3d69f5d6c6a01774/simpletransformers-0.32.1-py3-none-any.whl (187kB)\n",
            "\r\u001b[K     |█▊                              | 10kB 18.2MB/s eta 0:00:01\r\u001b[K     |███▌                            | 20kB 1.5MB/s eta 0:00:01\r\u001b[K     |█████▎                          | 30kB 1.8MB/s eta 0:00:01\r\u001b[K     |███████                         | 40kB 2.1MB/s eta 0:00:01\r\u001b[K     |████████▊                       | 51kB 2.0MB/s eta 0:00:01\r\u001b[K     |██████████▌                     | 61kB 2.2MB/s eta 0:00:01\r\u001b[K     |████████████▎                   | 71kB 2.4MB/s eta 0:00:01\r\u001b[K     |██████████████                  | 81kB 2.6MB/s eta 0:00:01\r\u001b[K     |███████████████▊                | 92kB 2.6MB/s eta 0:00:01\r\u001b[K     |█████████████████▌              | 102kB 2.7MB/s eta 0:00:01\r\u001b[K     |███████████████████▎            | 112kB 2.7MB/s eta 0:00:01\r\u001b[K     |█████████████████████           | 122kB 2.7MB/s eta 0:00:01\r\u001b[K     |██████████████████████▊         | 133kB 2.7MB/s eta 0:00:01\r\u001b[K     |████████████████████████▌       | 143kB 2.7MB/s eta 0:00:01\r\u001b[K     |██████████████████████████▎     | 153kB 2.7MB/s eta 0:00:01\r\u001b[K     |████████████████████████████    | 163kB 2.7MB/s eta 0:00:01\r\u001b[K     |█████████████████████████████▊  | 174kB 2.7MB/s eta 0:00:01\r\u001b[K     |███████████████████████████████▌| 184kB 2.7MB/s eta 0:00:01\r\u001b[K     |████████████████████████████████| 194kB 2.7MB/s \n",
            "\u001b[?25hRequirement already satisfied: scipy in /usr/local/lib/python3.6/dist-packages (from simpletransformers) (1.4.1)\n",
            "Requirement already satisfied: regex in /usr/local/lib/python3.6/dist-packages (from simpletransformers) (2019.12.20)\n",
            "Collecting tensorboardx\n",
            "\u001b[?25l  Downloading https://files.pythonhosted.org/packages/35/f1/5843425495765c8c2dd0784a851a93ef204d314fc87bcc2bbb9f662a3ad1/tensorboardX-2.0-py2.py3-none-any.whl (195kB)\n",
            "\u001b[K     |████████████████████████████████| 204kB 5.2MB/s \n",
            "\u001b[?25hRequirement already satisfied: scikit-learn in /usr/local/lib/python3.6/dist-packages (from simpletransformers) (0.22.2.post1)\n",
            "Requirement already satisfied: pandas in /usr/local/lib/python3.6/dist-packages (from simpletransformers) (1.0.3)\n",
            "Requirement already satisfied: tqdm in /usr/local/lib/python3.6/dist-packages (from simpletransformers) (4.41.1)\n",
            "Collecting seqeval\n",
            "  Downloading https://files.pythonhosted.org/packages/34/91/068aca8d60ce56dd9ba4506850e876aba5e66a6f2f29aa223224b50df0de/seqeval-0.0.12.tar.gz\n",
            "Collecting tokenizers\n",
            "\u001b[?25l  Downloading https://files.pythonhosted.org/packages/14/e5/a26eb4716523808bb0a799fcfdceb6ebf77a18169d9591b2f46a9adb87d9/tokenizers-0.7.0-cp36-cp36m-manylinux1_x86_64.whl (3.8MB)\n",
            "\u001b[K     |████████████████████████████████| 3.8MB 5.9MB/s \n",
            "\u001b[?25hRequirement already satisfied: requests in /usr/local/lib/python3.6/dist-packages (from simpletransformers) (2.23.0)\n",
            "Requirement already satisfied: numpy in /usr/local/lib/python3.6/dist-packages (from simpletransformers) (1.18.4)\n",
            "Collecting transformers>=2.9.1\n",
            "\u001b[?25l  Downloading https://files.pythonhosted.org/packages/12/b5/ac41e3e95205ebf53439e4dd087c58e9fd371fd8e3724f2b9b4cdb8282e5/transformers-2.10.0-py3-none-any.whl (660kB)\n",
            "\u001b[K     |████████████████████████████████| 665kB 25.1MB/s \n",
            "\u001b[?25hRequirement already satisfied: six in /usr/local/lib/python3.6/dist-packages (from tensorboardx->simpletransformers) (1.12.0)\n",
            "Requirement already satisfied: protobuf>=3.8.0 in /usr/local/lib/python3.6/dist-packages (from tensorboardx->simpletransformers) (3.10.0)\n",
            "Requirement already satisfied: joblib>=0.11 in /usr/local/lib/python3.6/dist-packages (from scikit-learn->simpletransformers) (0.15.1)\n",
            "Requirement already satisfied: pytz>=2017.2 in /usr/local/lib/python3.6/dist-packages (from pandas->simpletransformers) (2018.9)\n",
            "Requirement already satisfied: python-dateutil>=2.6.1 in /usr/local/lib/python3.6/dist-packages (from pandas->simpletransformers) (2.8.1)\n",
            "Requirement already satisfied: Keras>=2.2.4 in /usr/local/lib/python3.6/dist-packages (from seqeval->simpletransformers) (2.3.1)\n",
            "Requirement already satisfied: idna<3,>=2.5 in /usr/local/lib/python3.6/dist-packages (from requests->simpletransformers) (2.9)\n",
            "Requirement already satisfied: certifi>=2017.4.17 in /usr/local/lib/python3.6/dist-packages (from requests->simpletransformers) (2020.4.5.1)\n",
            "Requirement already satisfied: urllib3!=1.25.0,!=1.25.1,<1.26,>=1.21.1 in /usr/local/lib/python3.6/dist-packages (from requests->simpletransformers) (1.24.3)\n",
            "Requirement already satisfied: chardet<4,>=3.0.2 in /usr/local/lib/python3.6/dist-packages (from requests->simpletransformers) (3.0.4)\n",
            "Collecting sacremoses\n",
            "\u001b[?25l  Downloading https://files.pythonhosted.org/packages/7d/34/09d19aff26edcc8eb2a01bed8e98f13a1537005d31e95233fd48216eed10/sacremoses-0.0.43.tar.gz (883kB)\n",
            "\u001b[K     |████████████████████████████████| 890kB 32.6MB/s \n",
            "\u001b[?25hRequirement already satisfied: dataclasses; python_version < \"3.7\" in /usr/local/lib/python3.6/dist-packages (from transformers>=2.9.1->simpletransformers) (0.7)\n",
            "Collecting sentencepiece\n",
            "\u001b[?25l  Downloading https://files.pythonhosted.org/packages/d4/a4/d0a884c4300004a78cca907a6ff9a5e9fe4f090f5d95ab341c53d28cbc58/sentencepiece-0.1.91-cp36-cp36m-manylinux1_x86_64.whl (1.1MB)\n",
            "\u001b[K     |████████████████████████████████| 1.1MB 40.1MB/s \n",
            "\u001b[?25hRequirement already satisfied: filelock in /usr/local/lib/python3.6/dist-packages (from transformers>=2.9.1->simpletransformers) (3.0.12)\n",
            "Requirement already satisfied: setuptools in /usr/local/lib/python3.6/dist-packages (from protobuf>=3.8.0->tensorboardx->simpletransformers) (46.4.0)\n",
            "Requirement already satisfied: h5py in /usr/local/lib/python3.6/dist-packages (from Keras>=2.2.4->seqeval->simpletransformers) (2.10.0)\n",
            "Requirement already satisfied: keras-applications>=1.0.6 in /usr/local/lib/python3.6/dist-packages (from Keras>=2.2.4->seqeval->simpletransformers) (1.0.8)\n",
            "Requirement already satisfied: keras-preprocessing>=1.0.5 in /usr/local/lib/python3.6/dist-packages (from Keras>=2.2.4->seqeval->simpletransformers) (1.1.2)\n",
            "Requirement already satisfied: pyyaml in /usr/local/lib/python3.6/dist-packages (from Keras>=2.2.4->seqeval->simpletransformers) (3.13)\n",
            "Requirement already satisfied: click in /usr/local/lib/python3.6/dist-packages (from sacremoses->transformers>=2.9.1->simpletransformers) (7.1.2)\n",
            "Building wheels for collected packages: seqeval, sacremoses\n",
            "  Building wheel for seqeval (setup.py) ... \u001b[?25l\u001b[?25hdone\n",
            "  Created wheel for seqeval: filename=seqeval-0.0.12-cp36-none-any.whl size=7424 sha256=b1f313ec87a1c355743ead82e6e934936658180690ef4bd96a029eae06c678ea\n",
            "  Stored in directory: /root/.cache/pip/wheels/4f/32/0a/df3b340a82583566975377d65e724895b3fad101a3fb729f68\n",
            "  Building wheel for sacremoses (setup.py) ... \u001b[?25l\u001b[?25hdone\n",
            "  Created wheel for sacremoses: filename=sacremoses-0.0.43-cp36-none-any.whl size=893260 sha256=0e891248996e675a63b421efd297d105a2723b9ecfb0cff75268cf6dc75156fc\n",
            "  Stored in directory: /root/.cache/pip/wheels/29/3c/fd/7ce5c3f0666dab31a50123635e6fb5e19ceb42ce38d4e58f45\n",
            "Successfully built seqeval sacremoses\n",
            "Installing collected packages: tensorboardx, seqeval, tokenizers, sacremoses, sentencepiece, transformers, simpletransformers\n",
            "Successfully installed sacremoses-0.0.43 sentencepiece-0.1.91 seqeval-0.0.12 simpletransformers-0.32.1 tensorboardx-2.0 tokenizers-0.7.0 transformers-2.10.0\n"
          ],
          "name": "stdout"
        }
      ]
    },
    {
      "cell_type": "code",
      "metadata": {
        "id": "M83MYmdXQls5",
        "colab_type": "code",
        "colab": {}
      },
      "source": [
        "from simpletransformers.ner import NERModel\n",
        "import logging\n",
        "\n",
        "logging.basicConfig(level=logging.INFO)\n",
        "transformers_logger = logging.getLogger(\"transformers\")\n",
        "transformers_logger.setLevel(logging.WARNING)"
      ],
      "execution_count": 0,
      "outputs": []
    },
    {
      "cell_type": "code",
      "metadata": {
        "id": "sMoDd_ciTXQQ",
        "colab_type": "code",
        "colab": {}
      },
      "source": [
        "train_df = pd.DataFrame(traindata, columns=['sentence_id', 'words', 'labels'])"
      ],
      "execution_count": 0,
      "outputs": []
    },
    {
      "cell_type": "code",
      "metadata": {
        "id": "mF1B8GDBVVB-",
        "colab_type": "code",
        "colab": {}
      },
      "source": [
        "test_df = pd.DataFrame(testdata, columns=['sentence_id', 'words', 'labels'])"
      ],
      "execution_count": 0,
      "outputs": []
    },
    {
      "cell_type": "code",
      "metadata": {
        "id": "Uoz3ahS4Veo2",
        "colab_type": "code",
        "colab": {
          "base_uri": "https://localhost:8080/",
          "height": 123,
          "referenced_widgets": [
            "8c0045efa72e4ccba6a24e6f47ed1d2e",
            "9314a02c818f4431bb41b98fe1071cf8",
            "065a7b5dc6a6429fbb2aad817cbf227f",
            "5fe2a7a55dc348a680354212eb16e419",
            "e22cbc98ccc64fa4860abf359996f054",
            "971fca6c0b9e431ca9e26be09f0de5af",
            "8eda524ec88d4d818560bc1bff2ebad6",
            "65c947cb0cbe49e390b2167aa18d2a33"
          ]
        },
        "outputId": "cda36653-2b31-4e76-bb91-5f441651c443"
      },
      "source": [
        "model = NERModel('bert', 'bert-base-cased', \n",
        "args={'overwrite_output_dir': True, 'reprocess_input_data': True}, use_cuda=False)"
      ],
      "execution_count": 63,
      "outputs": [
        {
          "output_type": "stream",
          "text": [
            "INFO:filelock:Lock 140701604359080 acquired on /root/.cache/torch/transformers/5e8a2b4893d13790ed4150ca1906be5f7a03d6c4ddf62296c383f6db42814db2.e13dbb970cb325137104fb2e5f36fe865f27746c6b526f6352861b1980eb80b1.lock\n"
          ],
          "name": "stderr"
        },
        {
          "output_type": "display_data",
          "data": {
            "application/vnd.jupyter.widget-view+json": {
              "model_id": "8c0045efa72e4ccba6a24e6f47ed1d2e",
              "version_minor": 0,
              "version_major": 2
            },
            "text/plain": [
              "HBox(children=(FloatProgress(value=0.0, description='Downloading', max=213450.0, style=ProgressStyle(descripti…"
            ]
          },
          "metadata": {
            "tags": []
          }
        },
        {
          "output_type": "stream",
          "text": [
            "INFO:filelock:Lock 140701604359080 released on /root/.cache/torch/transformers/5e8a2b4893d13790ed4150ca1906be5f7a03d6c4ddf62296c383f6db42814db2.e13dbb970cb325137104fb2e5f36fe865f27746c6b526f6352861b1980eb80b1.lock\n"
          ],
          "name": "stderr"
        },
        {
          "output_type": "stream",
          "text": [
            "\n"
          ],
          "name": "stdout"
        }
      ]
    },
    {
      "cell_type": "code",
      "metadata": {
        "id": "3jZ7R7zZXZ7Q",
        "colab_type": "code",
        "colab": {}
      },
      "source": [
        "model.train_model(train_df)"
      ],
      "execution_count": 0,
      "outputs": []
    }
  ]
}