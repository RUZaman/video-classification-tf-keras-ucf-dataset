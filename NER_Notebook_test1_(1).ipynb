{
  "nbformat": 4,
  "nbformat_minor": 0,
  "metadata": {
    "colab": {
      "name": "NER_Notebook_test1 (1).ipynb",
      "provenance": [],
      "collapsed_sections": [],
      "include_colab_link": true
    },
    "kernelspec": {
      "name": "python3",
      "display_name": "Python 3"
    },
    "widgets": {
      "application/vnd.jupyter.widget-state+json": {
        "635bcf14f3af45eb9302758f81a2afd3": {
          "model_module": "@jupyter-widgets/controls",
          "model_name": "HBoxModel",
          "state": {
            "_view_name": "HBoxView",
            "_dom_classes": [],
            "_model_name": "HBoxModel",
            "_view_module": "@jupyter-widgets/controls",
            "_model_module_version": "1.5.0",
            "_view_count": null,
            "_view_module_version": "1.5.0",
            "box_style": "",
            "layout": "IPY_MODEL_347ad31fb96b4b5185234a1d5bad71d9",
            "_model_module": "@jupyter-widgets/controls",
            "children": [
              "IPY_MODEL_1912669130da43dfb0d15a8661c41a8c",
              "IPY_MODEL_554534d892984d82b0935b850ade4b14"
            ]
          }
        },
        "347ad31fb96b4b5185234a1d5bad71d9": {
          "model_module": "@jupyter-widgets/base",
          "model_name": "LayoutModel",
          "state": {
            "_view_name": "LayoutView",
            "grid_template_rows": null,
            "right": null,
            "justify_content": null,
            "_view_module": "@jupyter-widgets/base",
            "overflow": null,
            "_model_module_version": "1.2.0",
            "_view_count": null,
            "flex_flow": null,
            "width": null,
            "min_width": null,
            "border": null,
            "align_items": null,
            "bottom": null,
            "_model_module": "@jupyter-widgets/base",
            "top": null,
            "grid_column": null,
            "overflow_y": null,
            "overflow_x": null,
            "grid_auto_flow": null,
            "grid_area": null,
            "grid_template_columns": null,
            "flex": null,
            "_model_name": "LayoutModel",
            "justify_items": null,
            "grid_row": null,
            "max_height": null,
            "align_content": null,
            "visibility": null,
            "align_self": null,
            "height": null,
            "min_height": null,
            "padding": null,
            "grid_auto_rows": null,
            "grid_gap": null,
            "max_width": null,
            "order": null,
            "_view_module_version": "1.2.0",
            "grid_template_areas": null,
            "object_position": null,
            "object_fit": null,
            "grid_auto_columns": null,
            "margin": null,
            "display": null,
            "left": null
          }
        },
        "1912669130da43dfb0d15a8661c41a8c": {
          "model_module": "@jupyter-widgets/controls",
          "model_name": "FloatProgressModel",
          "state": {
            "_view_name": "ProgressView",
            "style": "IPY_MODEL_4add66aa9c9a4d319097f4f841278d55",
            "_dom_classes": [],
            "description": "100%",
            "_model_name": "FloatProgressModel",
            "bar_style": "success",
            "max": 85,
            "_view_module": "@jupyter-widgets/controls",
            "_model_module_version": "1.5.0",
            "value": 85,
            "_view_count": null,
            "_view_module_version": "1.5.0",
            "orientation": "horizontal",
            "min": 0,
            "description_tooltip": null,
            "_model_module": "@jupyter-widgets/controls",
            "layout": "IPY_MODEL_baaaa155c28843908fe2355ba521b783"
          }
        },
        "554534d892984d82b0935b850ade4b14": {
          "model_module": "@jupyter-widgets/controls",
          "model_name": "HTMLModel",
          "state": {
            "_view_name": "HTMLView",
            "style": "IPY_MODEL_ee7f52c22e8745b9ab720514aa0d6af3",
            "_dom_classes": [],
            "description": "",
            "_model_name": "HTMLModel",
            "placeholder": "​",
            "_view_module": "@jupyter-widgets/controls",
            "_model_module_version": "1.5.0",
            "value": " 85/85 [02:01&lt;00:00,  1.43s/it]",
            "_view_count": null,
            "_view_module_version": "1.5.0",
            "description_tooltip": null,
            "_model_module": "@jupyter-widgets/controls",
            "layout": "IPY_MODEL_8e1f1e8fe0114f87a14ab7c6dc28230a"
          }
        },
        "4add66aa9c9a4d319097f4f841278d55": {
          "model_module": "@jupyter-widgets/controls",
          "model_name": "ProgressStyleModel",
          "state": {
            "_view_name": "StyleView",
            "_model_name": "ProgressStyleModel",
            "description_width": "initial",
            "_view_module": "@jupyter-widgets/base",
            "_model_module_version": "1.5.0",
            "_view_count": null,
            "_view_module_version": "1.2.0",
            "bar_color": null,
            "_model_module": "@jupyter-widgets/controls"
          }
        },
        "baaaa155c28843908fe2355ba521b783": {
          "model_module": "@jupyter-widgets/base",
          "model_name": "LayoutModel",
          "state": {
            "_view_name": "LayoutView",
            "grid_template_rows": null,
            "right": null,
            "justify_content": null,
            "_view_module": "@jupyter-widgets/base",
            "overflow": null,
            "_model_module_version": "1.2.0",
            "_view_count": null,
            "flex_flow": null,
            "width": null,
            "min_width": null,
            "border": null,
            "align_items": null,
            "bottom": null,
            "_model_module": "@jupyter-widgets/base",
            "top": null,
            "grid_column": null,
            "overflow_y": null,
            "overflow_x": null,
            "grid_auto_flow": null,
            "grid_area": null,
            "grid_template_columns": null,
            "flex": null,
            "_model_name": "LayoutModel",
            "justify_items": null,
            "grid_row": null,
            "max_height": null,
            "align_content": null,
            "visibility": null,
            "align_self": null,
            "height": null,
            "min_height": null,
            "padding": null,
            "grid_auto_rows": null,
            "grid_gap": null,
            "max_width": null,
            "order": null,
            "_view_module_version": "1.2.0",
            "grid_template_areas": null,
            "object_position": null,
            "object_fit": null,
            "grid_auto_columns": null,
            "margin": null,
            "display": null,
            "left": null
          }
        },
        "ee7f52c22e8745b9ab720514aa0d6af3": {
          "model_module": "@jupyter-widgets/controls",
          "model_name": "DescriptionStyleModel",
          "state": {
            "_view_name": "StyleView",
            "_model_name": "DescriptionStyleModel",
            "description_width": "",
            "_view_module": "@jupyter-widgets/base",
            "_model_module_version": "1.5.0",
            "_view_count": null,
            "_view_module_version": "1.2.0",
            "_model_module": "@jupyter-widgets/controls"
          }
        },
        "8e1f1e8fe0114f87a14ab7c6dc28230a": {
          "model_module": "@jupyter-widgets/base",
          "model_name": "LayoutModel",
          "state": {
            "_view_name": "LayoutView",
            "grid_template_rows": null,
            "right": null,
            "justify_content": null,
            "_view_module": "@jupyter-widgets/base",
            "overflow": null,
            "_model_module_version": "1.2.0",
            "_view_count": null,
            "flex_flow": null,
            "width": null,
            "min_width": null,
            "border": null,
            "align_items": null,
            "bottom": null,
            "_model_module": "@jupyter-widgets/base",
            "top": null,
            "grid_column": null,
            "overflow_y": null,
            "overflow_x": null,
            "grid_auto_flow": null,
            "grid_area": null,
            "grid_template_columns": null,
            "flex": null,
            "_model_name": "LayoutModel",
            "justify_items": null,
            "grid_row": null,
            "max_height": null,
            "align_content": null,
            "visibility": null,
            "align_self": null,
            "height": null,
            "min_height": null,
            "padding": null,
            "grid_auto_rows": null,
            "grid_gap": null,
            "max_width": null,
            "order": null,
            "_view_module_version": "1.2.0",
            "grid_template_areas": null,
            "object_position": null,
            "object_fit": null,
            "grid_auto_columns": null,
            "margin": null,
            "display": null,
            "left": null
          }
        },
        "3fd10ae2bc944044845b332c3f5fe0ea": {
          "model_module": "@jupyter-widgets/controls",
          "model_name": "HBoxModel",
          "state": {
            "_view_name": "HBoxView",
            "_dom_classes": [],
            "_model_name": "HBoxModel",
            "_view_module": "@jupyter-widgets/controls",
            "_model_module_version": "1.5.0",
            "_view_count": null,
            "_view_module_version": "1.5.0",
            "box_style": "",
            "layout": "IPY_MODEL_1dbfafcecf7f430e90bb17c99528570f",
            "_model_module": "@jupyter-widgets/controls",
            "children": [
              "IPY_MODEL_9c5ea8a1ebd54dff91fc525f359fc4cf",
              "IPY_MODEL_b0026afc84f946349859ebdb52d3600a"
            ]
          }
        },
        "1dbfafcecf7f430e90bb17c99528570f": {
          "model_module": "@jupyter-widgets/base",
          "model_name": "LayoutModel",
          "state": {
            "_view_name": "LayoutView",
            "grid_template_rows": null,
            "right": null,
            "justify_content": null,
            "_view_module": "@jupyter-widgets/base",
            "overflow": null,
            "_model_module_version": "1.2.0",
            "_view_count": null,
            "flex_flow": null,
            "width": null,
            "min_width": null,
            "border": null,
            "align_items": null,
            "bottom": null,
            "_model_module": "@jupyter-widgets/base",
            "top": null,
            "grid_column": null,
            "overflow_y": null,
            "overflow_x": null,
            "grid_auto_flow": null,
            "grid_area": null,
            "grid_template_columns": null,
            "flex": null,
            "_model_name": "LayoutModel",
            "justify_items": null,
            "grid_row": null,
            "max_height": null,
            "align_content": null,
            "visibility": null,
            "align_self": null,
            "height": null,
            "min_height": null,
            "padding": null,
            "grid_auto_rows": null,
            "grid_gap": null,
            "max_width": null,
            "order": null,
            "_view_module_version": "1.2.0",
            "grid_template_areas": null,
            "object_position": null,
            "object_fit": null,
            "grid_auto_columns": null,
            "margin": null,
            "display": null,
            "left": null
          }
        },
        "9c5ea8a1ebd54dff91fc525f359fc4cf": {
          "model_module": "@jupyter-widgets/controls",
          "model_name": "FloatProgressModel",
          "state": {
            "_view_name": "ProgressView",
            "style": "IPY_MODEL_447775083cdf49719822792befdd17e7",
            "_dom_classes": [],
            "description": "Epoch: 100%",
            "_model_name": "FloatProgressModel",
            "bar_style": "success",
            "max": 1,
            "_view_module": "@jupyter-widgets/controls",
            "_model_module_version": "1.5.0",
            "value": 1,
            "_view_count": null,
            "_view_module_version": "1.5.0",
            "orientation": "horizontal",
            "min": 0,
            "description_tooltip": null,
            "_model_module": "@jupyter-widgets/controls",
            "layout": "IPY_MODEL_a2ddc2e1284a4c7e8edd1c32a605b362"
          }
        },
        "b0026afc84f946349859ebdb52d3600a": {
          "model_module": "@jupyter-widgets/controls",
          "model_name": "HTMLModel",
          "state": {
            "_view_name": "HTMLView",
            "style": "IPY_MODEL_b6875ce2ae724abb82b83035472758fa",
            "_dom_classes": [],
            "description": "",
            "_model_name": "HTMLModel",
            "placeholder": "​",
            "_view_module": "@jupyter-widgets/controls",
            "_model_module_version": "1.5.0",
            "value": " 1/1 [02:05&lt;00:00, 125.06s/it]",
            "_view_count": null,
            "_view_module_version": "1.5.0",
            "description_tooltip": null,
            "_model_module": "@jupyter-widgets/controls",
            "layout": "IPY_MODEL_9df7fef79e7e4233bfd15633f0ce04e4"
          }
        },
        "447775083cdf49719822792befdd17e7": {
          "model_module": "@jupyter-widgets/controls",
          "model_name": "ProgressStyleModel",
          "state": {
            "_view_name": "StyleView",
            "_model_name": "ProgressStyleModel",
            "description_width": "initial",
            "_view_module": "@jupyter-widgets/base",
            "_model_module_version": "1.5.0",
            "_view_count": null,
            "_view_module_version": "1.2.0",
            "bar_color": null,
            "_model_module": "@jupyter-widgets/controls"
          }
        },
        "a2ddc2e1284a4c7e8edd1c32a605b362": {
          "model_module": "@jupyter-widgets/base",
          "model_name": "LayoutModel",
          "state": {
            "_view_name": "LayoutView",
            "grid_template_rows": null,
            "right": null,
            "justify_content": null,
            "_view_module": "@jupyter-widgets/base",
            "overflow": null,
            "_model_module_version": "1.2.0",
            "_view_count": null,
            "flex_flow": null,
            "width": null,
            "min_width": null,
            "border": null,
            "align_items": null,
            "bottom": null,
            "_model_module": "@jupyter-widgets/base",
            "top": null,
            "grid_column": null,
            "overflow_y": null,
            "overflow_x": null,
            "grid_auto_flow": null,
            "grid_area": null,
            "grid_template_columns": null,
            "flex": null,
            "_model_name": "LayoutModel",
            "justify_items": null,
            "grid_row": null,
            "max_height": null,
            "align_content": null,
            "visibility": null,
            "align_self": null,
            "height": null,
            "min_height": null,
            "padding": null,
            "grid_auto_rows": null,
            "grid_gap": null,
            "max_width": null,
            "order": null,
            "_view_module_version": "1.2.0",
            "grid_template_areas": null,
            "object_position": null,
            "object_fit": null,
            "grid_auto_columns": null,
            "margin": null,
            "display": null,
            "left": null
          }
        },
        "b6875ce2ae724abb82b83035472758fa": {
          "model_module": "@jupyter-widgets/controls",
          "model_name": "DescriptionStyleModel",
          "state": {
            "_view_name": "StyleView",
            "_model_name": "DescriptionStyleModel",
            "description_width": "",
            "_view_module": "@jupyter-widgets/base",
            "_model_module_version": "1.5.0",
            "_view_count": null,
            "_view_module_version": "1.2.0",
            "_model_module": "@jupyter-widgets/controls"
          }
        },
        "9df7fef79e7e4233bfd15633f0ce04e4": {
          "model_module": "@jupyter-widgets/base",
          "model_name": "LayoutModel",
          "state": {
            "_view_name": "LayoutView",
            "grid_template_rows": null,
            "right": null,
            "justify_content": null,
            "_view_module": "@jupyter-widgets/base",
            "overflow": null,
            "_model_module_version": "1.2.0",
            "_view_count": null,
            "flex_flow": null,
            "width": null,
            "min_width": null,
            "border": null,
            "align_items": null,
            "bottom": null,
            "_model_module": "@jupyter-widgets/base",
            "top": null,
            "grid_column": null,
            "overflow_y": null,
            "overflow_x": null,
            "grid_auto_flow": null,
            "grid_area": null,
            "grid_template_columns": null,
            "flex": null,
            "_model_name": "LayoutModel",
            "justify_items": null,
            "grid_row": null,
            "max_height": null,
            "align_content": null,
            "visibility": null,
            "align_self": null,
            "height": null,
            "min_height": null,
            "padding": null,
            "grid_auto_rows": null,
            "grid_gap": null,
            "max_width": null,
            "order": null,
            "_view_module_version": "1.2.0",
            "grid_template_areas": null,
            "object_position": null,
            "object_fit": null,
            "grid_auto_columns": null,
            "margin": null,
            "display": null,
            "left": null
          }
        },
        "51e9fef4cd544aa1a8c5eb5051a76dae": {
          "model_module": "@jupyter-widgets/controls",
          "model_name": "HBoxModel",
          "state": {
            "_view_name": "HBoxView",
            "_dom_classes": [],
            "_model_name": "HBoxModel",
            "_view_module": "@jupyter-widgets/controls",
            "_model_module_version": "1.5.0",
            "_view_count": null,
            "_view_module_version": "1.5.0",
            "box_style": "",
            "layout": "IPY_MODEL_d19d19b7f26d43c0a5720b22f83cbc2e",
            "_model_module": "@jupyter-widgets/controls",
            "children": [
              "IPY_MODEL_d85d026b295e41f181917ae9519f08f1",
              "IPY_MODEL_9e02a9bac7db4c22be6c63e2c506fc3c"
            ]
          }
        },
        "d19d19b7f26d43c0a5720b22f83cbc2e": {
          "model_module": "@jupyter-widgets/base",
          "model_name": "LayoutModel",
          "state": {
            "_view_name": "LayoutView",
            "grid_template_rows": null,
            "right": null,
            "justify_content": null,
            "_view_module": "@jupyter-widgets/base",
            "overflow": null,
            "_model_module_version": "1.2.0",
            "_view_count": null,
            "flex_flow": null,
            "width": null,
            "min_width": null,
            "border": null,
            "align_items": null,
            "bottom": null,
            "_model_module": "@jupyter-widgets/base",
            "top": null,
            "grid_column": null,
            "overflow_y": null,
            "overflow_x": null,
            "grid_auto_flow": null,
            "grid_area": null,
            "grid_template_columns": null,
            "flex": null,
            "_model_name": "LayoutModel",
            "justify_items": null,
            "grid_row": null,
            "max_height": null,
            "align_content": null,
            "visibility": null,
            "align_self": null,
            "height": null,
            "min_height": null,
            "padding": null,
            "grid_auto_rows": null,
            "grid_gap": null,
            "max_width": null,
            "order": null,
            "_view_module_version": "1.2.0",
            "grid_template_areas": null,
            "object_position": null,
            "object_fit": null,
            "grid_auto_columns": null,
            "margin": null,
            "display": null,
            "left": null
          }
        },
        "d85d026b295e41f181917ae9519f08f1": {
          "model_module": "@jupyter-widgets/controls",
          "model_name": "FloatProgressModel",
          "state": {
            "_view_name": "ProgressView",
            "style": "IPY_MODEL_ff137b8397be4efa886586c98864a04e",
            "_dom_classes": [],
            "description": "Current iteration: 100%",
            "_model_name": "FloatProgressModel",
            "bar_style": "success",
            "max": 11,
            "_view_module": "@jupyter-widgets/controls",
            "_model_module_version": "1.5.0",
            "value": 11,
            "_view_count": null,
            "_view_module_version": "1.5.0",
            "orientation": "horizontal",
            "min": 0,
            "description_tooltip": null,
            "_model_module": "@jupyter-widgets/controls",
            "layout": "IPY_MODEL_8b6a97f773014f11aaff3fc7ce93b155"
          }
        },
        "9e02a9bac7db4c22be6c63e2c506fc3c": {
          "model_module": "@jupyter-widgets/controls",
          "model_name": "HTMLModel",
          "state": {
            "_view_name": "HTMLView",
            "style": "IPY_MODEL_3fc58859461d4803bca176fddf06989c",
            "_dom_classes": [],
            "description": "",
            "_model_name": "HTMLModel",
            "placeholder": "​",
            "_view_module": "@jupyter-widgets/controls",
            "_model_module_version": "1.5.0",
            "value": " 11/11 [01:59&lt;00:00, 10.88s/it]",
            "_view_count": null,
            "_view_module_version": "1.5.0",
            "description_tooltip": null,
            "_model_module": "@jupyter-widgets/controls",
            "layout": "IPY_MODEL_3abb74969f9d49d18937ff8d31eb6721"
          }
        },
        "ff137b8397be4efa886586c98864a04e": {
          "model_module": "@jupyter-widgets/controls",
          "model_name": "ProgressStyleModel",
          "state": {
            "_view_name": "StyleView",
            "_model_name": "ProgressStyleModel",
            "description_width": "initial",
            "_view_module": "@jupyter-widgets/base",
            "_model_module_version": "1.5.0",
            "_view_count": null,
            "_view_module_version": "1.2.0",
            "bar_color": null,
            "_model_module": "@jupyter-widgets/controls"
          }
        },
        "8b6a97f773014f11aaff3fc7ce93b155": {
          "model_module": "@jupyter-widgets/base",
          "model_name": "LayoutModel",
          "state": {
            "_view_name": "LayoutView",
            "grid_template_rows": null,
            "right": null,
            "justify_content": null,
            "_view_module": "@jupyter-widgets/base",
            "overflow": null,
            "_model_module_version": "1.2.0",
            "_view_count": null,
            "flex_flow": null,
            "width": null,
            "min_width": null,
            "border": null,
            "align_items": null,
            "bottom": null,
            "_model_module": "@jupyter-widgets/base",
            "top": null,
            "grid_column": null,
            "overflow_y": null,
            "overflow_x": null,
            "grid_auto_flow": null,
            "grid_area": null,
            "grid_template_columns": null,
            "flex": null,
            "_model_name": "LayoutModel",
            "justify_items": null,
            "grid_row": null,
            "max_height": null,
            "align_content": null,
            "visibility": null,
            "align_self": null,
            "height": null,
            "min_height": null,
            "padding": null,
            "grid_auto_rows": null,
            "grid_gap": null,
            "max_width": null,
            "order": null,
            "_view_module_version": "1.2.0",
            "grid_template_areas": null,
            "object_position": null,
            "object_fit": null,
            "grid_auto_columns": null,
            "margin": null,
            "display": null,
            "left": null
          }
        },
        "3fc58859461d4803bca176fddf06989c": {
          "model_module": "@jupyter-widgets/controls",
          "model_name": "DescriptionStyleModel",
          "state": {
            "_view_name": "StyleView",
            "_model_name": "DescriptionStyleModel",
            "description_width": "",
            "_view_module": "@jupyter-widgets/base",
            "_model_module_version": "1.5.0",
            "_view_count": null,
            "_view_module_version": "1.2.0",
            "_model_module": "@jupyter-widgets/controls"
          }
        },
        "3abb74969f9d49d18937ff8d31eb6721": {
          "model_module": "@jupyter-widgets/base",
          "model_name": "LayoutModel",
          "state": {
            "_view_name": "LayoutView",
            "grid_template_rows": null,
            "right": null,
            "justify_content": null,
            "_view_module": "@jupyter-widgets/base",
            "overflow": null,
            "_model_module_version": "1.2.0",
            "_view_count": null,
            "flex_flow": null,
            "width": null,
            "min_width": null,
            "border": null,
            "align_items": null,
            "bottom": null,
            "_model_module": "@jupyter-widgets/base",
            "top": null,
            "grid_column": null,
            "overflow_y": null,
            "overflow_x": null,
            "grid_auto_flow": null,
            "grid_area": null,
            "grid_template_columns": null,
            "flex": null,
            "_model_name": "LayoutModel",
            "justify_items": null,
            "grid_row": null,
            "max_height": null,
            "align_content": null,
            "visibility": null,
            "align_self": null,
            "height": null,
            "min_height": null,
            "padding": null,
            "grid_auto_rows": null,
            "grid_gap": null,
            "max_width": null,
            "order": null,
            "_view_module_version": "1.2.0",
            "grid_template_areas": null,
            "object_position": null,
            "object_fit": null,
            "grid_auto_columns": null,
            "margin": null,
            "display": null,
            "left": null
          }
        },
        "e3ecd26364e2404783fe21b583aa56ee": {
          "model_module": "@jupyter-widgets/controls",
          "model_name": "HBoxModel",
          "state": {
            "_view_name": "HBoxView",
            "_dom_classes": [],
            "_model_name": "HBoxModel",
            "_view_module": "@jupyter-widgets/controls",
            "_model_module_version": "1.5.0",
            "_view_count": null,
            "_view_module_version": "1.5.0",
            "box_style": "",
            "layout": "IPY_MODEL_432abeb3c6fe4ab9a76e6c19885c35ac",
            "_model_module": "@jupyter-widgets/controls",
            "children": [
              "IPY_MODEL_4c93a1377d5148ed928be92f5fdca8bd",
              "IPY_MODEL_82dfd83caff147ed926198319fe6320c"
            ]
          }
        },
        "432abeb3c6fe4ab9a76e6c19885c35ac": {
          "model_module": "@jupyter-widgets/base",
          "model_name": "LayoutModel",
          "state": {
            "_view_name": "LayoutView",
            "grid_template_rows": null,
            "right": null,
            "justify_content": null,
            "_view_module": "@jupyter-widgets/base",
            "overflow": null,
            "_model_module_version": "1.2.0",
            "_view_count": null,
            "flex_flow": null,
            "width": null,
            "min_width": null,
            "border": null,
            "align_items": null,
            "bottom": null,
            "_model_module": "@jupyter-widgets/base",
            "top": null,
            "grid_column": null,
            "overflow_y": null,
            "overflow_x": null,
            "grid_auto_flow": null,
            "grid_area": null,
            "grid_template_columns": null,
            "flex": null,
            "_model_name": "LayoutModel",
            "justify_items": null,
            "grid_row": null,
            "max_height": null,
            "align_content": null,
            "visibility": null,
            "align_self": null,
            "height": null,
            "min_height": null,
            "padding": null,
            "grid_auto_rows": null,
            "grid_gap": null,
            "max_width": null,
            "order": null,
            "_view_module_version": "1.2.0",
            "grid_template_areas": null,
            "object_position": null,
            "object_fit": null,
            "grid_auto_columns": null,
            "margin": null,
            "display": null,
            "left": null
          }
        },
        "4c93a1377d5148ed928be92f5fdca8bd": {
          "model_module": "@jupyter-widgets/controls",
          "model_name": "FloatProgressModel",
          "state": {
            "_view_name": "ProgressView",
            "style": "IPY_MODEL_34890495d8d04ed1936df86e29b82cda",
            "_dom_classes": [],
            "description": "100%",
            "_model_name": "FloatProgressModel",
            "bar_style": "success",
            "max": 20,
            "_view_module": "@jupyter-widgets/controls",
            "_model_module_version": "1.5.0",
            "value": 20,
            "_view_count": null,
            "_view_module_version": "1.5.0",
            "orientation": "horizontal",
            "min": 0,
            "description_tooltip": null,
            "_model_module": "@jupyter-widgets/controls",
            "layout": "IPY_MODEL_cd96b3e03d9c47dd9eaa65b5952fe5a2"
          }
        },
        "82dfd83caff147ed926198319fe6320c": {
          "model_module": "@jupyter-widgets/controls",
          "model_name": "HTMLModel",
          "state": {
            "_view_name": "HTMLView",
            "style": "IPY_MODEL_07eea5c7a56046e98284a6ce0020fc14",
            "_dom_classes": [],
            "description": "",
            "_model_name": "HTMLModel",
            "placeholder": "​",
            "_view_module": "@jupyter-widgets/controls",
            "_model_module_version": "1.5.0",
            "value": " 20/20 [02:41&lt;00:00,  8.06s/it]",
            "_view_count": null,
            "_view_module_version": "1.5.0",
            "description_tooltip": null,
            "_model_module": "@jupyter-widgets/controls",
            "layout": "IPY_MODEL_41de5997d0b14b4893f214281dc6cf25"
          }
        },
        "34890495d8d04ed1936df86e29b82cda": {
          "model_module": "@jupyter-widgets/controls",
          "model_name": "ProgressStyleModel",
          "state": {
            "_view_name": "StyleView",
            "_model_name": "ProgressStyleModel",
            "description_width": "initial",
            "_view_module": "@jupyter-widgets/base",
            "_model_module_version": "1.5.0",
            "_view_count": null,
            "_view_module_version": "1.2.0",
            "bar_color": null,
            "_model_module": "@jupyter-widgets/controls"
          }
        },
        "cd96b3e03d9c47dd9eaa65b5952fe5a2": {
          "model_module": "@jupyter-widgets/base",
          "model_name": "LayoutModel",
          "state": {
            "_view_name": "LayoutView",
            "grid_template_rows": null,
            "right": null,
            "justify_content": null,
            "_view_module": "@jupyter-widgets/base",
            "overflow": null,
            "_model_module_version": "1.2.0",
            "_view_count": null,
            "flex_flow": null,
            "width": null,
            "min_width": null,
            "border": null,
            "align_items": null,
            "bottom": null,
            "_model_module": "@jupyter-widgets/base",
            "top": null,
            "grid_column": null,
            "overflow_y": null,
            "overflow_x": null,
            "grid_auto_flow": null,
            "grid_area": null,
            "grid_template_columns": null,
            "flex": null,
            "_model_name": "LayoutModel",
            "justify_items": null,
            "grid_row": null,
            "max_height": null,
            "align_content": null,
            "visibility": null,
            "align_self": null,
            "height": null,
            "min_height": null,
            "padding": null,
            "grid_auto_rows": null,
            "grid_gap": null,
            "max_width": null,
            "order": null,
            "_view_module_version": "1.2.0",
            "grid_template_areas": null,
            "object_position": null,
            "object_fit": null,
            "grid_auto_columns": null,
            "margin": null,
            "display": null,
            "left": null
          }
        },
        "07eea5c7a56046e98284a6ce0020fc14": {
          "model_module": "@jupyter-widgets/controls",
          "model_name": "DescriptionStyleModel",
          "state": {
            "_view_name": "StyleView",
            "_model_name": "DescriptionStyleModel",
            "description_width": "",
            "_view_module": "@jupyter-widgets/base",
            "_model_module_version": "1.5.0",
            "_view_count": null,
            "_view_module_version": "1.2.0",
            "_model_module": "@jupyter-widgets/controls"
          }
        },
        "41de5997d0b14b4893f214281dc6cf25": {
          "model_module": "@jupyter-widgets/base",
          "model_name": "LayoutModel",
          "state": {
            "_view_name": "LayoutView",
            "grid_template_rows": null,
            "right": null,
            "justify_content": null,
            "_view_module": "@jupyter-widgets/base",
            "overflow": null,
            "_model_module_version": "1.2.0",
            "_view_count": null,
            "flex_flow": null,
            "width": null,
            "min_width": null,
            "border": null,
            "align_items": null,
            "bottom": null,
            "_model_module": "@jupyter-widgets/base",
            "top": null,
            "grid_column": null,
            "overflow_y": null,
            "overflow_x": null,
            "grid_auto_flow": null,
            "grid_area": null,
            "grid_template_columns": null,
            "flex": null,
            "_model_name": "LayoutModel",
            "justify_items": null,
            "grid_row": null,
            "max_height": null,
            "align_content": null,
            "visibility": null,
            "align_self": null,
            "height": null,
            "min_height": null,
            "padding": null,
            "grid_auto_rows": null,
            "grid_gap": null,
            "max_width": null,
            "order": null,
            "_view_module_version": "1.2.0",
            "grid_template_areas": null,
            "object_position": null,
            "object_fit": null,
            "grid_auto_columns": null,
            "margin": null,
            "display": null,
            "left": null
          }
        },
        "962f6439604341708981df2e5568640f": {
          "model_module": "@jupyter-widgets/controls",
          "model_name": "HBoxModel",
          "state": {
            "_view_name": "HBoxView",
            "_dom_classes": [],
            "_model_name": "HBoxModel",
            "_view_module": "@jupyter-widgets/controls",
            "_model_module_version": "1.5.0",
            "_view_count": null,
            "_view_module_version": "1.5.0",
            "box_style": "",
            "layout": "IPY_MODEL_78969239125b4b98a18cbe999bfacd99",
            "_model_module": "@jupyter-widgets/controls",
            "children": [
              "IPY_MODEL_d611b74f3f464d70908021f457aae799",
              "IPY_MODEL_53f00684158a4521afec9bd860a59522"
            ]
          }
        },
        "78969239125b4b98a18cbe999bfacd99": {
          "model_module": "@jupyter-widgets/base",
          "model_name": "LayoutModel",
          "state": {
            "_view_name": "LayoutView",
            "grid_template_rows": null,
            "right": null,
            "justify_content": null,
            "_view_module": "@jupyter-widgets/base",
            "overflow": null,
            "_model_module_version": "1.2.0",
            "_view_count": null,
            "flex_flow": null,
            "width": null,
            "min_width": null,
            "border": null,
            "align_items": null,
            "bottom": null,
            "_model_module": "@jupyter-widgets/base",
            "top": null,
            "grid_column": null,
            "overflow_y": null,
            "overflow_x": null,
            "grid_auto_flow": null,
            "grid_area": null,
            "grid_template_columns": null,
            "flex": null,
            "_model_name": "LayoutModel",
            "justify_items": null,
            "grid_row": null,
            "max_height": null,
            "align_content": null,
            "visibility": null,
            "align_self": null,
            "height": null,
            "min_height": null,
            "padding": null,
            "grid_auto_rows": null,
            "grid_gap": null,
            "max_width": null,
            "order": null,
            "_view_module_version": "1.2.0",
            "grid_template_areas": null,
            "object_position": null,
            "object_fit": null,
            "grid_auto_columns": null,
            "margin": null,
            "display": null,
            "left": null
          }
        },
        "d611b74f3f464d70908021f457aae799": {
          "model_module": "@jupyter-widgets/controls",
          "model_name": "FloatProgressModel",
          "state": {
            "_view_name": "ProgressView",
            "style": "IPY_MODEL_c5ef8109a88b4152873f68f325059920",
            "_dom_classes": [],
            "description": "100%",
            "_model_name": "FloatProgressModel",
            "bar_style": "success",
            "max": 3,
            "_view_module": "@jupyter-widgets/controls",
            "_model_module_version": "1.5.0",
            "value": 3,
            "_view_count": null,
            "_view_module_version": "1.5.0",
            "orientation": "horizontal",
            "min": 0,
            "description_tooltip": null,
            "_model_module": "@jupyter-widgets/controls",
            "layout": "IPY_MODEL_1ce98bcbc06f4d68abf77a570a06f8b3"
          }
        },
        "53f00684158a4521afec9bd860a59522": {
          "model_module": "@jupyter-widgets/controls",
          "model_name": "HTMLModel",
          "state": {
            "_view_name": "HTMLView",
            "style": "IPY_MODEL_33cb1aa0b616460a9a388aebf5a757a9",
            "_dom_classes": [],
            "description": "",
            "_model_name": "HTMLModel",
            "placeholder": "​",
            "_view_module": "@jupyter-widgets/controls",
            "_model_module_version": "1.5.0",
            "value": " 3/3 [02:40&lt;00:00, 53.64s/it]",
            "_view_count": null,
            "_view_module_version": "1.5.0",
            "description_tooltip": null,
            "_model_module": "@jupyter-widgets/controls",
            "layout": "IPY_MODEL_13fbf588af8044b1b3dffa265f58cedb"
          }
        },
        "c5ef8109a88b4152873f68f325059920": {
          "model_module": "@jupyter-widgets/controls",
          "model_name": "ProgressStyleModel",
          "state": {
            "_view_name": "StyleView",
            "_model_name": "ProgressStyleModel",
            "description_width": "initial",
            "_view_module": "@jupyter-widgets/base",
            "_model_module_version": "1.5.0",
            "_view_count": null,
            "_view_module_version": "1.2.0",
            "bar_color": null,
            "_model_module": "@jupyter-widgets/controls"
          }
        },
        "1ce98bcbc06f4d68abf77a570a06f8b3": {
          "model_module": "@jupyter-widgets/base",
          "model_name": "LayoutModel",
          "state": {
            "_view_name": "LayoutView",
            "grid_template_rows": null,
            "right": null,
            "justify_content": null,
            "_view_module": "@jupyter-widgets/base",
            "overflow": null,
            "_model_module_version": "1.2.0",
            "_view_count": null,
            "flex_flow": null,
            "width": null,
            "min_width": null,
            "border": null,
            "align_items": null,
            "bottom": null,
            "_model_module": "@jupyter-widgets/base",
            "top": null,
            "grid_column": null,
            "overflow_y": null,
            "overflow_x": null,
            "grid_auto_flow": null,
            "grid_area": null,
            "grid_template_columns": null,
            "flex": null,
            "_model_name": "LayoutModel",
            "justify_items": null,
            "grid_row": null,
            "max_height": null,
            "align_content": null,
            "visibility": null,
            "align_self": null,
            "height": null,
            "min_height": null,
            "padding": null,
            "grid_auto_rows": null,
            "grid_gap": null,
            "max_width": null,
            "order": null,
            "_view_module_version": "1.2.0",
            "grid_template_areas": null,
            "object_position": null,
            "object_fit": null,
            "grid_auto_columns": null,
            "margin": null,
            "display": null,
            "left": null
          }
        },
        "33cb1aa0b616460a9a388aebf5a757a9": {
          "model_module": "@jupyter-widgets/controls",
          "model_name": "DescriptionStyleModel",
          "state": {
            "_view_name": "StyleView",
            "_model_name": "DescriptionStyleModel",
            "description_width": "",
            "_view_module": "@jupyter-widgets/base",
            "_model_module_version": "1.5.0",
            "_view_count": null,
            "_view_module_version": "1.2.0",
            "_model_module": "@jupyter-widgets/controls"
          }
        },
        "13fbf588af8044b1b3dffa265f58cedb": {
          "model_module": "@jupyter-widgets/base",
          "model_name": "LayoutModel",
          "state": {
            "_view_name": "LayoutView",
            "grid_template_rows": null,
            "right": null,
            "justify_content": null,
            "_view_module": "@jupyter-widgets/base",
            "overflow": null,
            "_model_module_version": "1.2.0",
            "_view_count": null,
            "flex_flow": null,
            "width": null,
            "min_width": null,
            "border": null,
            "align_items": null,
            "bottom": null,
            "_model_module": "@jupyter-widgets/base",
            "top": null,
            "grid_column": null,
            "overflow_y": null,
            "overflow_x": null,
            "grid_auto_flow": null,
            "grid_area": null,
            "grid_template_columns": null,
            "flex": null,
            "_model_name": "LayoutModel",
            "justify_items": null,
            "grid_row": null,
            "max_height": null,
            "align_content": null,
            "visibility": null,
            "align_self": null,
            "height": null,
            "min_height": null,
            "padding": null,
            "grid_auto_rows": null,
            "grid_gap": null,
            "max_width": null,
            "order": null,
            "_view_module_version": "1.2.0",
            "grid_template_areas": null,
            "object_position": null,
            "object_fit": null,
            "grid_auto_columns": null,
            "margin": null,
            "display": null,
            "left": null
          }
        },
        "4a561c0bc88f4754873af0e66ae35b24": {
          "model_module": "@jupyter-widgets/controls",
          "model_name": "HBoxModel",
          "state": {
            "_view_name": "HBoxView",
            "_dom_classes": [],
            "_model_name": "HBoxModel",
            "_view_module": "@jupyter-widgets/controls",
            "_model_module_version": "1.5.0",
            "_view_count": null,
            "_view_module_version": "1.5.0",
            "box_style": "",
            "layout": "IPY_MODEL_188eb2e98aaa4c55ba0befb832b350ce",
            "_model_module": "@jupyter-widgets/controls",
            "children": [
              "IPY_MODEL_6056f61062f14c19bb8cd00f09fa62a0",
              "IPY_MODEL_afcc38d6a5b14b9081b7811ef1e7c3d5"
            ]
          }
        },
        "188eb2e98aaa4c55ba0befb832b350ce": {
          "model_module": "@jupyter-widgets/base",
          "model_name": "LayoutModel",
          "state": {
            "_view_name": "LayoutView",
            "grid_template_rows": null,
            "right": null,
            "justify_content": null,
            "_view_module": "@jupyter-widgets/base",
            "overflow": null,
            "_model_module_version": "1.2.0",
            "_view_count": null,
            "flex_flow": null,
            "width": null,
            "min_width": null,
            "border": null,
            "align_items": null,
            "bottom": null,
            "_model_module": "@jupyter-widgets/base",
            "top": null,
            "grid_column": null,
            "overflow_y": null,
            "overflow_x": null,
            "grid_auto_flow": null,
            "grid_area": null,
            "grid_template_columns": null,
            "flex": null,
            "_model_name": "LayoutModel",
            "justify_items": null,
            "grid_row": null,
            "max_height": null,
            "align_content": null,
            "visibility": null,
            "align_self": null,
            "height": null,
            "min_height": null,
            "padding": null,
            "grid_auto_rows": null,
            "grid_gap": null,
            "max_width": null,
            "order": null,
            "_view_module_version": "1.2.0",
            "grid_template_areas": null,
            "object_position": null,
            "object_fit": null,
            "grid_auto_columns": null,
            "margin": null,
            "display": null,
            "left": null
          }
        },
        "6056f61062f14c19bb8cd00f09fa62a0": {
          "model_module": "@jupyter-widgets/controls",
          "model_name": "FloatProgressModel",
          "state": {
            "_view_name": "ProgressView",
            "style": "IPY_MODEL_e4f27adb83d34edeb329a0f4f0b26dbf",
            "_dom_classes": [],
            "description": "100%",
            "_model_name": "FloatProgressModel",
            "bar_style": "success",
            "max": 1,
            "_view_module": "@jupyter-widgets/controls",
            "_model_module_version": "1.5.0",
            "value": 1,
            "_view_count": null,
            "_view_module_version": "1.5.0",
            "orientation": "horizontal",
            "min": 0,
            "description_tooltip": null,
            "_model_module": "@jupyter-widgets/controls",
            "layout": "IPY_MODEL_c51fa373eba14a089c6068f406b6d7b1"
          }
        },
        "afcc38d6a5b14b9081b7811ef1e7c3d5": {
          "model_module": "@jupyter-widgets/controls",
          "model_name": "HTMLModel",
          "state": {
            "_view_name": "HTMLView",
            "style": "IPY_MODEL_7475c384111e49a78908327c31a145e7",
            "_dom_classes": [],
            "description": "",
            "_model_name": "HTMLModel",
            "placeholder": "​",
            "_view_module": "@jupyter-widgets/controls",
            "_model_module_version": "1.5.0",
            "value": " 1/1 [00:00&lt;00:00,  9.82it/s]",
            "_view_count": null,
            "_view_module_version": "1.5.0",
            "description_tooltip": null,
            "_model_module": "@jupyter-widgets/controls",
            "layout": "IPY_MODEL_60158c8df22a4754af55be44ec54f0b0"
          }
        },
        "e4f27adb83d34edeb329a0f4f0b26dbf": {
          "model_module": "@jupyter-widgets/controls",
          "model_name": "ProgressStyleModel",
          "state": {
            "_view_name": "StyleView",
            "_model_name": "ProgressStyleModel",
            "description_width": "initial",
            "_view_module": "@jupyter-widgets/base",
            "_model_module_version": "1.5.0",
            "_view_count": null,
            "_view_module_version": "1.2.0",
            "bar_color": null,
            "_model_module": "@jupyter-widgets/controls"
          }
        },
        "c51fa373eba14a089c6068f406b6d7b1": {
          "model_module": "@jupyter-widgets/base",
          "model_name": "LayoutModel",
          "state": {
            "_view_name": "LayoutView",
            "grid_template_rows": null,
            "right": null,
            "justify_content": null,
            "_view_module": "@jupyter-widgets/base",
            "overflow": null,
            "_model_module_version": "1.2.0",
            "_view_count": null,
            "flex_flow": null,
            "width": null,
            "min_width": null,
            "border": null,
            "align_items": null,
            "bottom": null,
            "_model_module": "@jupyter-widgets/base",
            "top": null,
            "grid_column": null,
            "overflow_y": null,
            "overflow_x": null,
            "grid_auto_flow": null,
            "grid_area": null,
            "grid_template_columns": null,
            "flex": null,
            "_model_name": "LayoutModel",
            "justify_items": null,
            "grid_row": null,
            "max_height": null,
            "align_content": null,
            "visibility": null,
            "align_self": null,
            "height": null,
            "min_height": null,
            "padding": null,
            "grid_auto_rows": null,
            "grid_gap": null,
            "max_width": null,
            "order": null,
            "_view_module_version": "1.2.0",
            "grid_template_areas": null,
            "object_position": null,
            "object_fit": null,
            "grid_auto_columns": null,
            "margin": null,
            "display": null,
            "left": null
          }
        },
        "7475c384111e49a78908327c31a145e7": {
          "model_module": "@jupyter-widgets/controls",
          "model_name": "DescriptionStyleModel",
          "state": {
            "_view_name": "StyleView",
            "_model_name": "DescriptionStyleModel",
            "description_width": "",
            "_view_module": "@jupyter-widgets/base",
            "_model_module_version": "1.5.0",
            "_view_count": null,
            "_view_module_version": "1.2.0",
            "_model_module": "@jupyter-widgets/controls"
          }
        },
        "60158c8df22a4754af55be44ec54f0b0": {
          "model_module": "@jupyter-widgets/base",
          "model_name": "LayoutModel",
          "state": {
            "_view_name": "LayoutView",
            "grid_template_rows": null,
            "right": null,
            "justify_content": null,
            "_view_module": "@jupyter-widgets/base",
            "overflow": null,
            "_model_module_version": "1.2.0",
            "_view_count": null,
            "flex_flow": null,
            "width": null,
            "min_width": null,
            "border": null,
            "align_items": null,
            "bottom": null,
            "_model_module": "@jupyter-widgets/base",
            "top": null,
            "grid_column": null,
            "overflow_y": null,
            "overflow_x": null,
            "grid_auto_flow": null,
            "grid_area": null,
            "grid_template_columns": null,
            "flex": null,
            "_model_name": "LayoutModel",
            "justify_items": null,
            "grid_row": null,
            "max_height": null,
            "align_content": null,
            "visibility": null,
            "align_self": null,
            "height": null,
            "min_height": null,
            "padding": null,
            "grid_auto_rows": null,
            "grid_gap": null,
            "max_width": null,
            "order": null,
            "_view_module_version": "1.2.0",
            "grid_template_areas": null,
            "object_position": null,
            "object_fit": null,
            "grid_auto_columns": null,
            "margin": null,
            "display": null,
            "left": null
          }
        },
        "f22fa580efda46d9bba97bc474f7b021": {
          "model_module": "@jupyter-widgets/controls",
          "model_name": "HBoxModel",
          "state": {
            "_view_name": "HBoxView",
            "_dom_classes": [],
            "_model_name": "HBoxModel",
            "_view_module": "@jupyter-widgets/controls",
            "_model_module_version": "1.5.0",
            "_view_count": null,
            "_view_module_version": "1.5.0",
            "box_style": "",
            "layout": "IPY_MODEL_39264bd2a93a45888afc10137d9f26c8",
            "_model_module": "@jupyter-widgets/controls",
            "children": [
              "IPY_MODEL_6657ac2f2c1f484a98a393c1c4102eb3",
              "IPY_MODEL_6df4a8e178ad458181b1005ce4c3e760"
            ]
          }
        },
        "39264bd2a93a45888afc10137d9f26c8": {
          "model_module": "@jupyter-widgets/base",
          "model_name": "LayoutModel",
          "state": {
            "_view_name": "LayoutView",
            "grid_template_rows": null,
            "right": null,
            "justify_content": null,
            "_view_module": "@jupyter-widgets/base",
            "overflow": null,
            "_model_module_version": "1.2.0",
            "_view_count": null,
            "flex_flow": null,
            "width": null,
            "min_width": null,
            "border": null,
            "align_items": null,
            "bottom": null,
            "_model_module": "@jupyter-widgets/base",
            "top": null,
            "grid_column": null,
            "overflow_y": null,
            "overflow_x": null,
            "grid_auto_flow": null,
            "grid_area": null,
            "grid_template_columns": null,
            "flex": null,
            "_model_name": "LayoutModel",
            "justify_items": null,
            "grid_row": null,
            "max_height": null,
            "align_content": null,
            "visibility": null,
            "align_self": null,
            "height": null,
            "min_height": null,
            "padding": null,
            "grid_auto_rows": null,
            "grid_gap": null,
            "max_width": null,
            "order": null,
            "_view_module_version": "1.2.0",
            "grid_template_areas": null,
            "object_position": null,
            "object_fit": null,
            "grid_auto_columns": null,
            "margin": null,
            "display": null,
            "left": null
          }
        },
        "6657ac2f2c1f484a98a393c1c4102eb3": {
          "model_module": "@jupyter-widgets/controls",
          "model_name": "FloatProgressModel",
          "state": {
            "_view_name": "ProgressView",
            "style": "IPY_MODEL_97dda20ea6304f98b930f52399ef6305",
            "_dom_classes": [],
            "description": "100%",
            "_model_name": "FloatProgressModel",
            "bar_style": "success",
            "max": 1,
            "_view_module": "@jupyter-widgets/controls",
            "_model_module_version": "1.5.0",
            "value": 1,
            "_view_count": null,
            "_view_module_version": "1.5.0",
            "orientation": "horizontal",
            "min": 0,
            "description_tooltip": null,
            "_model_module": "@jupyter-widgets/controls",
            "layout": "IPY_MODEL_9a55321fb9a14df3ab76aeaede0fa058"
          }
        },
        "6df4a8e178ad458181b1005ce4c3e760": {
          "model_module": "@jupyter-widgets/controls",
          "model_name": "HTMLModel",
          "state": {
            "_view_name": "HTMLView",
            "style": "IPY_MODEL_ca851d740f3e4c7f93d7bc91d4903011",
            "_dom_classes": [],
            "description": "",
            "_model_name": "HTMLModel",
            "placeholder": "​",
            "_view_module": "@jupyter-widgets/controls",
            "_model_module_version": "1.5.0",
            "value": " 1/1 [00:00&lt;00:00,  1.92it/s]",
            "_view_count": null,
            "_view_module_version": "1.5.0",
            "description_tooltip": null,
            "_model_module": "@jupyter-widgets/controls",
            "layout": "IPY_MODEL_f9e206ddda794795813d3b8e2069869f"
          }
        },
        "97dda20ea6304f98b930f52399ef6305": {
          "model_module": "@jupyter-widgets/controls",
          "model_name": "ProgressStyleModel",
          "state": {
            "_view_name": "StyleView",
            "_model_name": "ProgressStyleModel",
            "description_width": "initial",
            "_view_module": "@jupyter-widgets/base",
            "_model_module_version": "1.5.0",
            "_view_count": null,
            "_view_module_version": "1.2.0",
            "bar_color": null,
            "_model_module": "@jupyter-widgets/controls"
          }
        },
        "9a55321fb9a14df3ab76aeaede0fa058": {
          "model_module": "@jupyter-widgets/base",
          "model_name": "LayoutModel",
          "state": {
            "_view_name": "LayoutView",
            "grid_template_rows": null,
            "right": null,
            "justify_content": null,
            "_view_module": "@jupyter-widgets/base",
            "overflow": null,
            "_model_module_version": "1.2.0",
            "_view_count": null,
            "flex_flow": null,
            "width": null,
            "min_width": null,
            "border": null,
            "align_items": null,
            "bottom": null,
            "_model_module": "@jupyter-widgets/base",
            "top": null,
            "grid_column": null,
            "overflow_y": null,
            "overflow_x": null,
            "grid_auto_flow": null,
            "grid_area": null,
            "grid_template_columns": null,
            "flex": null,
            "_model_name": "LayoutModel",
            "justify_items": null,
            "grid_row": null,
            "max_height": null,
            "align_content": null,
            "visibility": null,
            "align_self": null,
            "height": null,
            "min_height": null,
            "padding": null,
            "grid_auto_rows": null,
            "grid_gap": null,
            "max_width": null,
            "order": null,
            "_view_module_version": "1.2.0",
            "grid_template_areas": null,
            "object_position": null,
            "object_fit": null,
            "grid_auto_columns": null,
            "margin": null,
            "display": null,
            "left": null
          }
        },
        "ca851d740f3e4c7f93d7bc91d4903011": {
          "model_module": "@jupyter-widgets/controls",
          "model_name": "DescriptionStyleModel",
          "state": {
            "_view_name": "StyleView",
            "_model_name": "DescriptionStyleModel",
            "description_width": "",
            "_view_module": "@jupyter-widgets/base",
            "_model_module_version": "1.5.0",
            "_view_count": null,
            "_view_module_version": "1.2.0",
            "_model_module": "@jupyter-widgets/controls"
          }
        },
        "f9e206ddda794795813d3b8e2069869f": {
          "model_module": "@jupyter-widgets/base",
          "model_name": "LayoutModel",
          "state": {
            "_view_name": "LayoutView",
            "grid_template_rows": null,
            "right": null,
            "justify_content": null,
            "_view_module": "@jupyter-widgets/base",
            "overflow": null,
            "_model_module_version": "1.2.0",
            "_view_count": null,
            "flex_flow": null,
            "width": null,
            "min_width": null,
            "border": null,
            "align_items": null,
            "bottom": null,
            "_model_module": "@jupyter-widgets/base",
            "top": null,
            "grid_column": null,
            "overflow_y": null,
            "overflow_x": null,
            "grid_auto_flow": null,
            "grid_area": null,
            "grid_template_columns": null,
            "flex": null,
            "_model_name": "LayoutModel",
            "justify_items": null,
            "grid_row": null,
            "max_height": null,
            "align_content": null,
            "visibility": null,
            "align_self": null,
            "height": null,
            "min_height": null,
            "padding": null,
            "grid_auto_rows": null,
            "grid_gap": null,
            "max_width": null,
            "order": null,
            "_view_module_version": "1.2.0",
            "grid_template_areas": null,
            "object_position": null,
            "object_fit": null,
            "grid_auto_columns": null,
            "margin": null,
            "display": null,
            "left": null
          }
        }
      }
    }
  },
  "cells": [
    {
      "cell_type": "markdown",
      "metadata": {
        "id": "view-in-github",
        "colab_type": "text"
      },
      "source": [
        "<a href=\"https://colab.research.google.com/github/Soumi7/TFNotebooks/blob/master/NER_Notebook_test1_(1).ipynb\" target=\"_parent\"><img src=\"https://colab.research.google.com/assets/colab-badge.svg\" alt=\"Open In Colab\"/></a>"
      ]
    },
    {
      "cell_type": "markdown",
      "metadata": {
        "id": "kYrgdLUIs184",
        "colab_type": "text"
      },
      "source": [
        "Mounted the drive here for getting the csv"
      ]
    },
    {
      "cell_type": "code",
      "metadata": {
        "id": "0K1lspmrLdEi",
        "colab_type": "code",
        "outputId": "a0b01c3b-8253-4d8a-b6ac-15ae927b02c0",
        "colab": {
          "base_uri": "https://localhost:8080/",
          "height": 35
        }
      },
      "source": [
        "from google.colab import drive\n",
        "drive.mount('/content/drive')"
      ],
      "execution_count": 0,
      "outputs": [
        {
          "output_type": "stream",
          "text": [
            "Drive already mounted at /content/drive; to attempt to forcibly remount, call drive.mount(\"/content/drive\", force_remount=True).\n"
          ],
          "name": "stdout"
        }
      ]
    },
    {
      "cell_type": "markdown",
      "metadata": {
        "id": "nHY0qDzWs-HW",
        "colab_type": "text"
      },
      "source": [
        "Next, we import Pandas to handle the csv."
      ]
    },
    {
      "cell_type": "code",
      "metadata": {
        "id": "wmRr1x15Ln22",
        "colab_type": "code",
        "colab": {}
      },
      "source": [
        "import pandas as pd\n",
        "df=pd.read_csv(\"drive/My Drive/Bert example tags expanded.csv\")"
      ],
      "execution_count": 0,
      "outputs": []
    },
    {
      "cell_type": "markdown",
      "metadata": {
        "id": "tOafkSS4tFwq",
        "colab_type": "text"
      },
      "source": [
        "## Visualizing the dataframe"
      ]
    },
    {
      "cell_type": "code",
      "metadata": {
        "id": "8czyQOHrMB-g",
        "colab_type": "code",
        "outputId": "aab4e0b8-0f56-43b2-be79-3b0bb1b293e1",
        "colab": {
          "base_uri": "https://localhost:8080/",
          "height": 238
        }
      },
      "source": [
        "df.head()"
      ],
      "execution_count": 0,
      "outputs": [
        {
          "output_type": "execute_result",
          "data": {
            "text/html": [
              "<div>\n",
              "<style scoped>\n",
              "    .dataframe tbody tr th:only-of-type {\n",
              "        vertical-align: middle;\n",
              "    }\n",
              "\n",
              "    .dataframe tbody tr th {\n",
              "        vertical-align: top;\n",
              "    }\n",
              "\n",
              "    .dataframe thead th {\n",
              "        text-align: right;\n",
              "    }\n",
              "</style>\n",
              "<table border=\"1\" class=\"dataframe\">\n",
              "  <thead>\n",
              "    <tr style=\"text-align: right;\">\n",
              "      <th></th>\n",
              "      <th>Text</th>\n",
              "      <th>Unnamed: 1</th>\n",
              "      <th>Unnamed: 2</th>\n",
              "      <th>Unnamed: 3</th>\n",
              "      <th>Unnamed: 4</th>\n",
              "      <th>Unnamed: 5</th>\n",
              "      <th>Unnamed: 6</th>\n",
              "      <th>Unnamed: 7</th>\n",
              "      <th>Unnamed: 8</th>\n",
              "      <th>Unnamed: 9</th>\n",
              "      <th>Unnamed: 10</th>\n",
              "      <th>Unnamed: 11</th>\n",
              "    </tr>\n",
              "  </thead>\n",
              "  <tbody>\n",
              "    <tr>\n",
              "      <th>0</th>\n",
              "      <td>Consumer Discretionary</td>\n",
              "      <td>B-sector</td>\n",
              "      <td>I-sector</td>\n",
              "      <td>NaN</td>\n",
              "      <td>NaN</td>\n",
              "      <td>NaN</td>\n",
              "      <td>NaN</td>\n",
              "      <td>NaN</td>\n",
              "      <td>NaN</td>\n",
              "      <td>NaN</td>\n",
              "      <td>NaN</td>\n",
              "      <td>NaN</td>\n",
              "    </tr>\n",
              "    <tr>\n",
              "      <th>1</th>\n",
              "      <td>Creditors</td>\n",
              "      <td>B-funda</td>\n",
              "      <td>NaN</td>\n",
              "      <td>NaN</td>\n",
              "      <td>NaN</td>\n",
              "      <td>NaN</td>\n",
              "      <td>NaN</td>\n",
              "      <td>NaN</td>\n",
              "      <td>NaN</td>\n",
              "      <td>NaN</td>\n",
              "      <td>NaN</td>\n",
              "      <td>NaN</td>\n",
              "    </tr>\n",
              "    <tr>\n",
              "      <th>2</th>\n",
              "      <td>Cos where ROE &gt; 15% and profit growth &gt; 20%</td>\n",
              "      <td>O</td>\n",
              "      <td>O</td>\n",
              "      <td>B-funda</td>\n",
              "      <td>operator</td>\n",
              "      <td>threshold</td>\n",
              "      <td>Join</td>\n",
              "      <td>B-funda</td>\n",
              "      <td>B-attr</td>\n",
              "      <td>operator</td>\n",
              "      <td>threshold</td>\n",
              "      <td>NaN</td>\n",
              "    </tr>\n",
              "    <tr>\n",
              "      <th>3</th>\n",
              "      <td>Tax rate</td>\n",
              "      <td>B-funda</td>\n",
              "      <td>I-funda</td>\n",
              "      <td>NaN</td>\n",
              "      <td>NaN</td>\n",
              "      <td>NaN</td>\n",
              "      <td>NaN</td>\n",
              "      <td>NaN</td>\n",
              "      <td>NaN</td>\n",
              "      <td>NaN</td>\n",
              "      <td>NaN</td>\n",
              "      <td>NaN</td>\n",
              "    </tr>\n",
              "    <tr>\n",
              "      <th>4</th>\n",
              "      <td>Cos where 2 year revenue growth &gt; 20%</td>\n",
              "      <td>O</td>\n",
              "      <td>O</td>\n",
              "      <td>TPQty</td>\n",
              "      <td>TPUnit</td>\n",
              "      <td>B-sector</td>\n",
              "      <td>B-attr</td>\n",
              "      <td>operator</td>\n",
              "      <td>threshold</td>\n",
              "      <td>NaN</td>\n",
              "      <td>NaN</td>\n",
              "      <td>NaN</td>\n",
              "    </tr>\n",
              "  </tbody>\n",
              "</table>\n",
              "</div>"
            ],
            "text/plain": [
              "                                          Text  ... Unnamed: 11\n",
              "0                       Consumer Discretionary  ...         NaN\n",
              "1                                    Creditors  ...         NaN\n",
              "2  Cos where ROE > 15% and profit growth > 20%  ...         NaN\n",
              "3                                     Tax rate  ...         NaN\n",
              "4        Cos where 2 year revenue growth > 20%  ...         NaN\n",
              "\n",
              "[5 rows x 12 columns]"
            ]
          },
          "metadata": {
            "tags": []
          },
          "execution_count": 74
        }
      ]
    },
    {
      "cell_type": "markdown",
      "metadata": {
        "id": "Uq7JZwAAtOUD",
        "colab_type": "text"
      },
      "source": [
        "## Creating a separate list for each sentence in dataframe"
      ]
    },
    {
      "cell_type": "code",
      "metadata": {
        "id": "PPEpsJ1eMGLX",
        "colab_type": "code",
        "outputId": "304b53ea-b65f-496d-a3dc-7c68b10e6786",
        "colab": {
          "base_uri": "https://localhost:8080/",
          "height": 233
        }
      },
      "source": [
        "Sentences=df['Text']\n",
        "Sentences"
      ],
      "execution_count": 0,
      "outputs": [
        {
          "output_type": "execute_result",
          "data": {
            "text/plain": [
              "0                           Consumer Discretionary\n",
              "1                                        Creditors\n",
              "2      Cos where ROE > 15% and profit growth > 20%\n",
              "3                                         Tax rate\n",
              "4            Cos where 2 year revenue growth > 20%\n",
              "                          ...                     \n",
              "100                Largest smallcap cos by revenue\n",
              "101       Midcap cos with highest quarterly growth\n",
              "102        EV / EBITDA of cos with mktcap > 100 cr\n",
              "103                Banks with ROE > 20% and PB < 2\n",
              "104             Nifty500 cos where EBIT > Interest\n",
              "Name: Text, Length: 105, dtype: object"
            ]
          },
          "metadata": {
            "tags": []
          },
          "execution_count": 75
        }
      ]
    },
    {
      "cell_type": "markdown",
      "metadata": {
        "id": "T74D9-01tUY6",
        "colab_type": "text"
      },
      "source": [
        "### We check out the columns in the dataset. The label columns are not labeled"
      ]
    },
    {
      "cell_type": "code",
      "metadata": {
        "id": "QSJyQjjnN2CK",
        "colab_type": "code",
        "outputId": "891b7927-96fe-4190-fbb5-938695a1deb9",
        "colab": {
          "base_uri": "https://localhost:8080/",
          "height": 89
        }
      },
      "source": [
        "df.columns"
      ],
      "execution_count": 0,
      "outputs": [
        {
          "output_type": "execute_result",
          "data": {
            "text/plain": [
              "Index(['Text', 'Unnamed: 1', 'Unnamed: 2', 'Unnamed: 3', 'Unnamed: 4',\n",
              "       'Unnamed: 5', 'Unnamed: 6', 'Unnamed: 7', 'Unnamed: 8', 'Unnamed: 9',\n",
              "       'Unnamed: 10', 'Unnamed: 11'],\n",
              "      dtype='object')"
            ]
          },
          "metadata": {
            "tags": []
          },
          "execution_count": 76
        }
      ]
    },
    {
      "cell_type": "markdown",
      "metadata": {
        "id": "_n1UYSgItdPh",
        "colab_type": "text"
      },
      "source": [
        "## We add all the label columns in the form of one string"
      ]
    },
    {
      "cell_type": "code",
      "metadata": {
        "id": "eyjQMjEyNN4R",
        "colab_type": "code",
        "colab": {}
      },
      "source": [
        "df['Labels'] = df['Unnamed: 1'].astype(str) +\" \"+ df['Unnamed: 2'].astype(str)+\" \"+ df['Unnamed: 3'].astype(str)+\" \"+ df['Unnamed: 4'].astype(str)+\" \"+ df['Unnamed: 5'].astype(str)+\" \"+ df['Unnamed: 6'].astype(str)+\" \"+ df['Unnamed: 7'].astype(str)+\" \"+ df['Unnamed: 8'].astype(str)+\" \"+ df['Unnamed: 9'].astype(str)+\" \"+ df['Unnamed: 10'].astype(str)+\" \"+ df['Unnamed: 11'].astype(str)"
      ],
      "execution_count": 0,
      "outputs": []
    },
    {
      "cell_type": "code",
      "metadata": {
        "id": "klrevnEuN_yJ",
        "colab_type": "code",
        "outputId": "54c159c4-cc97-4519-b061-0216a3d02008",
        "colab": {
          "base_uri": "https://localhost:8080/",
          "height": 210
        }
      },
      "source": [
        "df.head(3)"
      ],
      "execution_count": 0,
      "outputs": [
        {
          "output_type": "execute_result",
          "data": {
            "text/html": [
              "<div>\n",
              "<style scoped>\n",
              "    .dataframe tbody tr th:only-of-type {\n",
              "        vertical-align: middle;\n",
              "    }\n",
              "\n",
              "    .dataframe tbody tr th {\n",
              "        vertical-align: top;\n",
              "    }\n",
              "\n",
              "    .dataframe thead th {\n",
              "        text-align: right;\n",
              "    }\n",
              "</style>\n",
              "<table border=\"1\" class=\"dataframe\">\n",
              "  <thead>\n",
              "    <tr style=\"text-align: right;\">\n",
              "      <th></th>\n",
              "      <th>Text</th>\n",
              "      <th>Unnamed: 1</th>\n",
              "      <th>Unnamed: 2</th>\n",
              "      <th>Unnamed: 3</th>\n",
              "      <th>Unnamed: 4</th>\n",
              "      <th>Unnamed: 5</th>\n",
              "      <th>Unnamed: 6</th>\n",
              "      <th>Unnamed: 7</th>\n",
              "      <th>Unnamed: 8</th>\n",
              "      <th>Unnamed: 9</th>\n",
              "      <th>Unnamed: 10</th>\n",
              "      <th>Unnamed: 11</th>\n",
              "      <th>Labels</th>\n",
              "    </tr>\n",
              "  </thead>\n",
              "  <tbody>\n",
              "    <tr>\n",
              "      <th>0</th>\n",
              "      <td>Consumer Discretionary</td>\n",
              "      <td>B-sector</td>\n",
              "      <td>I-sector</td>\n",
              "      <td>NaN</td>\n",
              "      <td>NaN</td>\n",
              "      <td>NaN</td>\n",
              "      <td>NaN</td>\n",
              "      <td>NaN</td>\n",
              "      <td>NaN</td>\n",
              "      <td>NaN</td>\n",
              "      <td>NaN</td>\n",
              "      <td>NaN</td>\n",
              "      <td>B-sector I-sector nan nan nan nan nan nan nan ...</td>\n",
              "    </tr>\n",
              "    <tr>\n",
              "      <th>1</th>\n",
              "      <td>Creditors</td>\n",
              "      <td>B-funda</td>\n",
              "      <td>NaN</td>\n",
              "      <td>NaN</td>\n",
              "      <td>NaN</td>\n",
              "      <td>NaN</td>\n",
              "      <td>NaN</td>\n",
              "      <td>NaN</td>\n",
              "      <td>NaN</td>\n",
              "      <td>NaN</td>\n",
              "      <td>NaN</td>\n",
              "      <td>NaN</td>\n",
              "      <td>B-funda nan nan nan nan nan nan nan nan nan nan</td>\n",
              "    </tr>\n",
              "    <tr>\n",
              "      <th>2</th>\n",
              "      <td>Cos where ROE &gt; 15% and profit growth &gt; 20%</td>\n",
              "      <td>O</td>\n",
              "      <td>O</td>\n",
              "      <td>B-funda</td>\n",
              "      <td>operator</td>\n",
              "      <td>threshold</td>\n",
              "      <td>Join</td>\n",
              "      <td>B-funda</td>\n",
              "      <td>B-attr</td>\n",
              "      <td>operator</td>\n",
              "      <td>threshold</td>\n",
              "      <td>NaN</td>\n",
              "      <td>O O B-funda operator threshold Join B-funda B-...</td>\n",
              "    </tr>\n",
              "  </tbody>\n",
              "</table>\n",
              "</div>"
            ],
            "text/plain": [
              "                                          Text  ...                                             Labels\n",
              "0                       Consumer Discretionary  ...  B-sector I-sector nan nan nan nan nan nan nan ...\n",
              "1                                    Creditors  ...    B-funda nan nan nan nan nan nan nan nan nan nan\n",
              "2  Cos where ROE > 15% and profit growth > 20%  ...  O O B-funda operator threshold Join B-funda B-...\n",
              "\n",
              "[3 rows x 13 columns]"
            ]
          },
          "metadata": {
            "tags": []
          },
          "execution_count": 78
        }
      ]
    },
    {
      "cell_type": "code",
      "metadata": {
        "id": "ftSMDp8WOoXY",
        "colab_type": "code",
        "colab": {}
      },
      "source": [
        "df=df.drop(columns=['Unnamed: 1', 'Unnamed: 2', 'Unnamed: 3', 'Unnamed: 4',\n",
        "       'Unnamed: 5', 'Unnamed: 6', 'Unnamed: 7', 'Unnamed: 8', 'Unnamed: 9',\n",
        "       'Unnamed: 10', 'Unnamed: 11'],axis=1)"
      ],
      "execution_count": 0,
      "outputs": []
    },
    {
      "cell_type": "code",
      "metadata": {
        "id": "pIn3P37AO7gF",
        "colab_type": "code",
        "outputId": "333f2c93-21fa-4546-8659-86c97e12cff7",
        "colab": {
          "base_uri": "https://localhost:8080/",
          "height": 204
        }
      },
      "source": [
        "df.head()"
      ],
      "execution_count": 0,
      "outputs": [
        {
          "output_type": "execute_result",
          "data": {
            "text/html": [
              "<div>\n",
              "<style scoped>\n",
              "    .dataframe tbody tr th:only-of-type {\n",
              "        vertical-align: middle;\n",
              "    }\n",
              "\n",
              "    .dataframe tbody tr th {\n",
              "        vertical-align: top;\n",
              "    }\n",
              "\n",
              "    .dataframe thead th {\n",
              "        text-align: right;\n",
              "    }\n",
              "</style>\n",
              "<table border=\"1\" class=\"dataframe\">\n",
              "  <thead>\n",
              "    <tr style=\"text-align: right;\">\n",
              "      <th></th>\n",
              "      <th>Text</th>\n",
              "      <th>Labels</th>\n",
              "    </tr>\n",
              "  </thead>\n",
              "  <tbody>\n",
              "    <tr>\n",
              "      <th>0</th>\n",
              "      <td>Consumer Discretionary</td>\n",
              "      <td>B-sector I-sector nan nan nan nan nan nan nan ...</td>\n",
              "    </tr>\n",
              "    <tr>\n",
              "      <th>1</th>\n",
              "      <td>Creditors</td>\n",
              "      <td>B-funda nan nan nan nan nan nan nan nan nan nan</td>\n",
              "    </tr>\n",
              "    <tr>\n",
              "      <th>2</th>\n",
              "      <td>Cos where ROE &gt; 15% and profit growth &gt; 20%</td>\n",
              "      <td>O O B-funda operator threshold Join B-funda B-...</td>\n",
              "    </tr>\n",
              "    <tr>\n",
              "      <th>3</th>\n",
              "      <td>Tax rate</td>\n",
              "      <td>B-funda I-funda nan nan nan nan nan nan nan na...</td>\n",
              "    </tr>\n",
              "    <tr>\n",
              "      <th>4</th>\n",
              "      <td>Cos where 2 year revenue growth &gt; 20%</td>\n",
              "      <td>O O TPQty TPUnit B-sector B-attr operator thre...</td>\n",
              "    </tr>\n",
              "  </tbody>\n",
              "</table>\n",
              "</div>"
            ],
            "text/plain": [
              "                                          Text                                             Labels\n",
              "0                       Consumer Discretionary  B-sector I-sector nan nan nan nan nan nan nan ...\n",
              "1                                    Creditors    B-funda nan nan nan nan nan nan nan nan nan nan\n",
              "2  Cos where ROE > 15% and profit growth > 20%  O O B-funda operator threshold Join B-funda B-...\n",
              "3                                     Tax rate  B-funda I-funda nan nan nan nan nan nan nan na...\n",
              "4        Cos where 2 year revenue growth > 20%  O O TPQty TPUnit B-sector B-attr operator thre..."
            ]
          },
          "metadata": {
            "tags": []
          },
          "execution_count": 80
        }
      ]
    },
    {
      "cell_type": "code",
      "metadata": {
        "id": "zfrH3QvzO_FC",
        "colab_type": "code",
        "outputId": "0510b19c-6fbf-44e4-9c96-7a4adfdd13bc",
        "colab": {
          "base_uri": "https://localhost:8080/",
          "height": 233
        }
      },
      "source": [
        "Labels=df['Labels']\n",
        "Labels"
      ],
      "execution_count": 0,
      "outputs": [
        {
          "output_type": "execute_result",
          "data": {
            "text/plain": [
              "0      B-sector I-sector nan nan nan nan nan nan nan ...\n",
              "1        B-funda nan nan nan nan nan nan nan nan nan nan\n",
              "2      O O B-funda operator threshold Join B-funda B-...\n",
              "3      B-funda I-funda nan nan nan nan nan nan nan na...\n",
              "4      O O TPQty TPUnit B-sector B-attr operator thre...\n",
              "                             ...                        \n",
              "100    Sortby Capitalization O O B-funda nan nan nan ...\n",
              "101    Capitalization O O Sortby TPUnit B-attr nan na...\n",
              "102    B-funda O B-funda O O O B-funda operator thres...\n",
              "103    B-sector O B-funda operator threshold O B-fund...\n",
              "104    B-index O O B-funda operator B-funda nan nan n...\n",
              "Name: Labels, Length: 105, dtype: object"
            ]
          },
          "metadata": {
            "tags": []
          },
          "execution_count": 81
        }
      ]
    },
    {
      "cell_type": "code",
      "metadata": {
        "id": "0ARiVCy1QgoP",
        "colab_type": "code",
        "outputId": "7d6fb36a-3c74-454e-925f-577393e6b01b",
        "colab": {
          "base_uri": "https://localhost:8080/",
          "height": 35
        }
      },
      "source": [
        "Labels.shape"
      ],
      "execution_count": 0,
      "outputs": [
        {
          "output_type": "execute_result",
          "data": {
            "text/plain": [
              "(105,)"
            ]
          },
          "metadata": {
            "tags": []
          },
          "execution_count": 82
        }
      ]
    },
    {
      "cell_type": "code",
      "metadata": {
        "id": "ZKxYBgnbQmfZ",
        "colab_type": "code",
        "outputId": "e8797519-080e-4c92-98ab-5cdca5a3b7ec",
        "colab": {
          "base_uri": "https://localhost:8080/",
          "height": 35
        }
      },
      "source": [
        "Sentences.shape"
      ],
      "execution_count": 0,
      "outputs": [
        {
          "output_type": "execute_result",
          "data": {
            "text/plain": [
              "(105,)"
            ]
          },
          "metadata": {
            "tags": []
          },
          "execution_count": 83
        }
      ]
    },
    {
      "cell_type": "code",
      "metadata": {
        "id": "kOS7LEt9Txru",
        "colab_type": "code",
        "outputId": "ed62e3b5-7068-44e2-cba0-fce1988700b4",
        "colab": {
          "base_uri": "https://localhost:8080/",
          "height": 35
        }
      },
      "source": [
        "len(Labels)"
      ],
      "execution_count": 0,
      "outputs": [
        {
          "output_type": "execute_result",
          "data": {
            "text/plain": [
              "105"
            ]
          },
          "metadata": {
            "tags": []
          },
          "execution_count": 84
        }
      ]
    },
    {
      "cell_type": "code",
      "metadata": {
        "id": "0wB0gf97Tx1b",
        "colab_type": "code",
        "outputId": "51432c4b-e64e-49a3-f70d-23001d74ef03",
        "colab": {
          "base_uri": "https://localhost:8080/",
          "height": 35
        }
      },
      "source": [
        "len(Sentences)"
      ],
      "execution_count": 0,
      "outputs": [
        {
          "output_type": "execute_result",
          "data": {
            "text/plain": [
              "105"
            ]
          },
          "metadata": {
            "tags": []
          },
          "execution_count": 85
        }
      ]
    },
    {
      "cell_type": "markdown",
      "metadata": {
        "id": "Pj_4S0tmtmCm",
        "colab_type": "text"
      },
      "source": [
        "# Generating Traindata"
      ]
    },
    {
      "cell_type": "code",
      "metadata": {
        "id": "ewSlTzi5MtxO",
        "colab_type": "code",
        "outputId": "811b7b2e-6f42-46fc-8e71-483a851fc4a8",
        "colab": {
          "base_uri": "https://localhost:8080/",
          "height": 1000
        }
      },
      "source": [
        "traindata=[]\n",
        "for i in range(0,len(Sentences[:85])):\n",
        "  wordslist=Sentences[i].split(\" \")\n",
        "  labelslist=Labels[i].split(\" \")\n",
        "  \n",
        "\n",
        "  for j in range(0,len(wordslist[:85])):\n",
        "    #print(wordslist[j],labelslist[j])\n",
        "    traindata.append([i,wordslist[j],labelslist[j]])\n",
        "  \n",
        "traindata"
      ],
      "execution_count": 0,
      "outputs": [
        {
          "output_type": "execute_result",
          "data": {
            "text/plain": [
              "[[0, 'Consumer', 'B-sector'],\n",
              " [0, 'Discretionary', 'I-sector'],\n",
              " [1, 'Creditors', 'B-funda'],\n",
              " [2, 'Cos', 'O'],\n",
              " [2, 'where', 'O'],\n",
              " [2, 'ROE', 'B-funda'],\n",
              " [2, '>', 'operator'],\n",
              " [2, '15%', 'threshold'],\n",
              " [2, 'and', 'Join'],\n",
              " [2, 'profit', 'B-funda'],\n",
              " [2, 'growth', 'B-attr'],\n",
              " [2, '>', 'operator'],\n",
              " [2, '20%', 'threshold'],\n",
              " [3, 'Tax', 'B-funda'],\n",
              " [3, 'rate', 'I-funda'],\n",
              " [4, 'Cos', 'O'],\n",
              " [4, 'where', 'O'],\n",
              " [4, '2', 'TPQty'],\n",
              " [4, 'year', 'TPUnit'],\n",
              " [4, 'revenue', 'B-sector'],\n",
              " [4, 'growth', 'B-attr'],\n",
              " [4, '>', 'operator'],\n",
              " [4, '20%', 'threshold'],\n",
              " [5, 'Operating', 'B-funda'],\n",
              " [5, 'profit', 'I-funda'],\n",
              " [6, 'Rev', 'B-funda'],\n",
              " [6, 'CAGR', 'B-attr'],\n",
              " [6, 'of', 'O'],\n",
              " [6, 'NIFTY', 'B-index'],\n",
              " [6, 'cos', 'O'],\n",
              " [7, 'Net', 'B-funda'],\n",
              " [7, 'Debt', 'I-'],\n",
              " [7, '/', 'funda'],\n",
              " [7, 'EBITDA', 'O'],\n",
              " [7, 'for', 'B-funda'],\n",
              " [7, 'Tata', 'O'],\n",
              " [7, 'Steel', 'B-security'],\n",
              " [7, 'JSW', 'I-security'],\n",
              " [8, 'Top', 'Sortby'],\n",
              " [8, '5', 'Number'],\n",
              " [8, 'IT', 'Sector'],\n",
              " [8, 'cos', 'O'],\n",
              " [8, 'by', 'O'],\n",
              " [8, 'revenue', 'B-funda'],\n",
              " [8, 'growth', 'B-attr'],\n",
              " [9, 'Loan', 'B-funda'],\n",
              " [9, 'book', 'I-funda'],\n",
              " [10, 'Deposits', 'B-funda'],\n",
              " [11, 'Plot', 'O'],\n",
              " [11, 'bank', 'B-sector'],\n",
              " [11, 'NIM', 'B-funda'],\n",
              " [11, 'interest', 'B-eco'],\n",
              " [11, 'rate', 'I-eco'],\n",
              " [11, 'for', 'O'],\n",
              " [11, 'Apr', 'TPMonth'],\n",
              " [11, '2015', 'TPYr'],\n",
              " [11, 'to', 'O'],\n",
              " [11, 'Mar', 'TPMonth'],\n",
              " [11, '2019', 'TPYr'],\n",
              " [12, 'Fixed', 'B-funda'],\n",
              " [12, 'asset', 'I-funda'],\n",
              " [12, 'turnover', 'I-funda'],\n",
              " [13, 'Cash', 'B-funda'],\n",
              " [13, 'from', 'I-funda'],\n",
              " [13, 'operations', 'I-funda'],\n",
              " [14, 'Fwd', 'B-attr'],\n",
              " [14, 'PE', 'I-funda'],\n",
              " [14, 'of', 'O'],\n",
              " [14, 'Tobacco', 'B-sector'],\n",
              " [14, 'FMCG', 'B-sector'],\n",
              " [14, 'Liquor', 'B-sector'],\n",
              " [14, 'cos', 'O'],\n",
              " [15, 'Debtor', 'B-funda'],\n",
              " [15, 'days', 'I-funda'],\n",
              " [16, 'Fastest', 'Sortby'],\n",
              " [16, 'growing', 'B-attr'],\n",
              " [16, 'cement', 'B-sector'],\n",
              " [16, 'cos', 'O'],\n",
              " [17, 'Fwd', 'B-funda'],\n",
              " [17, 'PE', 'I-funda'],\n",
              " [18, 'Net', 'B-funda'],\n",
              " [18, 'fixed', 'I-funda'],\n",
              " [18, 'assets', 'I-funda'],\n",
              " [19, 'FCF', 'B-funda'],\n",
              " [20, 'List', 'O'],\n",
              " [20, 'of', 'O'],\n",
              " [20, 'cos', 'O'],\n",
              " [20, 'with', 'O'],\n",
              " [20, 'highest', 'Sortby'],\n",
              " [20, 'revenue', 'B-funda'],\n",
              " [20, 'CAGR', 'B-attr'],\n",
              " [20, 'sector', 'O'],\n",
              " [20, 'wise', 'O'],\n",
              " [21, 'Real', 'B-sector'],\n",
              " [21, 'Estate', 'I-sector'],\n",
              " [22, 'What', 'O'],\n",
              " [22, 'is', 'O'],\n",
              " [22, 'inventory', 'B-funda'],\n",
              " [22, 'days', 'I-funda'],\n",
              " [22, 'for', 'O'],\n",
              " [22, 'jewellers', 'B-sector'],\n",
              " [23, 'Operating', 'B-funda'],\n",
              " [23, 'margin', 'I-funda'],\n",
              " [24, 'PBT', 'B-funda'],\n",
              " [24, 'margin', 'I-funda'],\n",
              " [25, 'Industrials', 'B-sector'],\n",
              " [26, 'Cash', 'B-funda'],\n",
              " [26, 'and', 'I-funda'],\n",
              " [26, 'equivalents', 'I-funda'],\n",
              " [27, 'PB', 'B-funda'],\n",
              " [27, 'vs', 'O'],\n",
              " [27, 'RoE', 'B-funda'],\n",
              " [27, 'of', 'O'],\n",
              " [27, 'utilities', 'B-sector'],\n",
              " [27, 'for', 'O'],\n",
              " [27, 'past', 'O'],\n",
              " [27, '10', 'TPQty'],\n",
              " [27, 'yrs', 'TPUnit'],\n",
              " [28, 'Depreciation', 'B-funda'],\n",
              " [29, 'Total', 'B-funda'],\n",
              " [29, 'current', 'I-funda'],\n",
              " [29, 'liabilities', 'I-funda'],\n",
              " [30, 'Total', 'B-funda'],\n",
              " [30, 'current', 'I-funda'],\n",
              " [30, 'assets', 'I-funda'],\n",
              " [31, 'Creditor', 'B-funda'],\n",
              " [31, 'days', 'I-funda'],\n",
              " [32, 'EBITDA', 'B-funda'],\n",
              " [32, 'margin', 'I-funda'],\n",
              " [33, 'Largest', 'Sortby'],\n",
              " [33, 'oil', 'B-sector'],\n",
              " [33, '&', 'I-sector'],\n",
              " [33, 'gas', 'I-sector'],\n",
              " [33, 'companies', 'O'],\n",
              " [34, 'Total', 'B-funda'],\n",
              " [34, 'liabilities', 'I-funda'],\n",
              " [35, 'Utilities', 'B-sector'],\n",
              " [36, 'Sensex', 'B-index'],\n",
              " [36, 'vs', 'O'],\n",
              " [36, 'consumer', 'B-sector'],\n",
              " [36, 'stocks', 'O'],\n",
              " [36, 'revenue', 'B-funda'],\n",
              " [36, 'growth', 'B-attr'],\n",
              " [37, 'EBIT', 'B-funda'],\n",
              " [38, 'ROCE', 'B-funda'],\n",
              " [39, 'Intangible', 'B-funda'],\n",
              " [39, 'assets', 'I-funda'],\n",
              " [40, 'Inventory', 'B-funda'],\n",
              " [41, 'Total', 'B-funda'],\n",
              " [41, 'assets', 'I-funda'],\n",
              " [42, 'Gross', 'B-funda'],\n",
              " [42, 'profit', 'I-funda'],\n",
              " [43, 'IT', 'B-sector'],\n",
              " [43, 'cos', 'O'],\n",
              " [43, 'where', 'O'],\n",
              " [43, 'EBITDA', 'B-funda'],\n",
              " [43, 'margin', 'I-funda'],\n",
              " [43, '>', 'operator'],\n",
              " [43, '16%', 'threshold'],\n",
              " [44, '5', 'TPQty'],\n",
              " [44, 'yr', 'TPUnit'],\n",
              " [44, 'rev', 'B-funda'],\n",
              " [44, 'profit', 'B-funda'],\n",
              " [44, 'growth', 'B-attr'],\n",
              " [44, 'of', 'O'],\n",
              " [44, 'ferrous', 'B-sector'],\n",
              " [44, 'non-ferrous', 'B-sector'],\n",
              " [44, 'vs', 'O'],\n",
              " [44, 'steel', 'B-eco'],\n",
              " [44, 'price', 'I-eco'],\n",
              " [45, 'Price', 'B-funda'],\n",
              " [45, 'performance', 'I-funda'],\n",
              " [45, 'of', 'O'],\n",
              " [45, 'NIFTY', 'B-index'],\n",
              " [45, 'between', 'O'],\n",
              " [45, 'Apr', 'TPMonth'],\n",
              " [45, 'to', 'O'],\n",
              " [45, 'Dec', 'TPMonth'],\n",
              " [45, '2018', 'TPYr'],\n",
              " [46, 'Capex', 'B-funda'],\n",
              " [47, 'IT', 'B-sector'],\n",
              " [47, 'cos', 'O'],\n",
              " [47, 'with', 'O'],\n",
              " [47, 'highest', 'Sortby'],\n",
              " [47, 'FCF', 'B-funda'],\n",
              " [47, 'yield', 'I-funda'],\n",
              " [48, 'Average', 'B-attr'],\n",
              " [48, 'operating', 'B-funda'],\n",
              " [48, 'margin', 'I-funda'],\n",
              " [48, 'for', 'O'],\n",
              " [48, 'industrial', 'B-sector'],\n",
              " [48, 'companies', 'O'],\n",
              " [49, 'Taxes', 'B-funda'],\n",
              " [50, 'PBT', 'B-funda'],\n",
              " [51, 'Revenue', 'B-funda'],\n",
              " [52, 'Networth', 'B-funda'],\n",
              " [53, 'EBIT', 'B-funda'],\n",
              " [53, 'margin', 'I-funda'],\n",
              " [54, 'PAT', 'B-funda'],\n",
              " [55, 'Financials', 'B-sector'],\n",
              " [56, 'Valuation', 'B-funda'],\n",
              " [56, 'of', 'O'],\n",
              " [56, 'consumer', 'B-sector'],\n",
              " [56, 'discretionary', 'I-sector'],\n",
              " [56, 'cos', 'O'],\n",
              " [56, 'vs', 'O'],\n",
              " [56, 'GDP', 'B-eco'],\n",
              " [56, 'growth', 'I-eco'],\n",
              " [57, 'Rev', 'B-funda'],\n",
              " [57, 'CAGR', 'B-attr'],\n",
              " [57, 'of', 'O'],\n",
              " [57, 'cos', 'O'],\n",
              " [57, 'sector-wise', 'O'],\n",
              " [57, '5', 'TPQty'],\n",
              " [57, 'year', 'TPUnit'],\n",
              " [58, 'Output', 'O'],\n",
              " [58, 'EBITDA', 'B-funda'],\n",
              " [58, 'margin', 'I-funda'],\n",
              " [58, 'for', 'O'],\n",
              " [58, 'consumer', 'B-sector'],\n",
              " [58, 'stocks', 'O'],\n",
              " [59, 'Gross', 'B-funda'],\n",
              " [59, 'fixed', 'I-funda'],\n",
              " [59, 'assets', 'I-funda'],\n",
              " [60, 'Return', 'B-funda'],\n",
              " [60, 'of', 'O'],\n",
              " [60, 'crude', 'B-eco'],\n",
              " [60, 'in', 'O'],\n",
              " [60, 'January', 'TPMonth'],\n",
              " [60, '2019', 'TPYr'],\n",
              " [61, '5', 'TPQty'],\n",
              " [61, 'yr', 'TPUnit'],\n",
              " [61, 'EBITDA', 'B-funda'],\n",
              " [61, 'CAGR', 'B-attr'],\n",
              " [61, 'of', 'O'],\n",
              " [61, 'metals', 'B-sector'],\n",
              " [61, 'cos', 'O'],\n",
              " [62, 'Revenue', 'B-funda'],\n",
              " [62, 'EBITDA', 'B-funda'],\n",
              " [62, 'and', 'O'],\n",
              " [62, 'PAT', 'B-funda'],\n",
              " [62, 'growth', 'B-attr'],\n",
              " [62, 'for', 'O'],\n",
              " [62, 'Sensex', 'B-index'],\n",
              " [62, 'cos', 'O'],\n",
              " [63, 'Consumer', 'B-sector'],\n",
              " [63, 'Staples', 'I-sector'],\n",
              " [64, 'Sales', 'B-funda'],\n",
              " [64, 'growth', 'B-attr'],\n",
              " [64, 'of', 'O'],\n",
              " [64, 'NIFTY', 'B-index'],\n",
              " [64, 'cos', 'O'],\n",
              " [64, 'in', 'O'],\n",
              " [64, 'third', 'TPRef'],\n",
              " [64, 'quarter', 'TPUnit'],\n",
              " [65, 'Communication', 'B-sector'],\n",
              " [65, 'Services', 'I-sector'],\n",
              " [66, 'Gross', 'B-funda'],\n",
              " [66, 'margin', 'I-funda'],\n",
              " [67, 'Information', 'B-sector'],\n",
              " [67, 'Technology', 'I-sector'],\n",
              " [68, 'EBITDA', 'B-funda'],\n",
              " [69, 'EBITDA', 'B-funda'],\n",
              " [69, 'margins', 'I-funda'],\n",
              " [69, 'of', 'O'],\n",
              " [69, 'Tata', 'B-security'],\n",
              " [69, 'Steel', 'I-security'],\n",
              " [69, 'ferrous', 'B-sector'],\n",
              " [69, 'stocks', 'O'],\n",
              " [70, 'Net', 'B-funda'],\n",
              " [70, 'profit', 'I-funda'],\n",
              " [71, 'Energy', 'B-sector'],\n",
              " [71, 'company', 'O'],\n",
              " [71, 'stock', 'B-funda'],\n",
              " [71, 'return', 'I-funda'],\n",
              " [71, 'vs', 'O'],\n",
              " [71, 'oil', 'B-eco'],\n",
              " [71, 'price', 'I-eco'],\n",
              " [72, 'Total', 'B-funda'],\n",
              " [72, 'long', 'I-funda'],\n",
              " [72, 'term', 'I-funda'],\n",
              " [72, 'debt', 'I-funda'],\n",
              " [73, 'Materials', 'B-sector'],\n",
              " [74, 'Asset', 'B-funda'],\n",
              " [74, 'turnover', 'I-funda'],\n",
              " [74, 'for', 'O'],\n",
              " [74, 'capital', 'B-sector'],\n",
              " [74, 'goods', 'I-sector'],\n",
              " [74, 'cos', 'O'],\n",
              " [75, 'PAT', 'B-funda'],\n",
              " [75, 'margin', 'I-funda'],\n",
              " [76, 'Plot', 'O'],\n",
              " [76, 'bank', 'B-sector'],\n",
              " [76, 'NIM', 'B-funda'],\n",
              " [76, 'interest', 'B-eco'],\n",
              " [76, 'rate', 'I-eco'],\n",
              " [76, 'for', 'O'],\n",
              " [76, '10', 'TPQty'],\n",
              " [76, 'yrs', 'TPUnit'],\n",
              " [77, 'Energy', 'B-sector'],\n",
              " [78, 'TTM', 'B-funda'],\n",
              " [78, 'PE', 'I-funda'],\n",
              " [79, 'In', 'O'],\n",
              " [79, 'midcaps', 'Capitalization'],\n",
              " [79, 'which', 'O'],\n",
              " [79, 'sectors', 'O'],\n",
              " [79, 'grew', 'B-attr'],\n",
              " [79, 'fastest', 'Sortby'],\n",
              " [79, 'last', 'O'],\n",
              " [79, 'qtr', 'TPUnit'],\n",
              " [80, 'Which', 'O'],\n",
              " [80, 'co', 'O'],\n",
              " [80, 'has', 'O'],\n",
              " [80, 'highest', 'Sortby'],\n",
              " [80, 'PAT', 'B-funda'],\n",
              " [80, 'margin', 'I-funda'],\n",
              " [80, 'in', 'O'],\n",
              " [80, 'financials', 'B-sector'],\n",
              " [81, 'Bank', 'B-eco'],\n",
              " [81, 'credit', 'I-eco'],\n",
              " [81, 'growth', 'I-eco'],\n",
              " [81, 'vs', 'O'],\n",
              " [81, 'GDP', 'B-eco'],\n",
              " [81, 'growth', 'I-eco'],\n",
              " [82, 'PBT', 'B-funda'],\n",
              " [82, 'margins', 'I-funda'],\n",
              " [82, 'for', 'O'],\n",
              " [82, 'finance', 'B-sector'],\n",
              " [82, 'cos', 'O'],\n",
              " [82, 'last', 'O'],\n",
              " [82, '2', 'TPQty'],\n",
              " [82, 'years', 'TPUnit'],\n",
              " [83, 'NIM', 'B-funda'],\n",
              " [84, 'Asset', 'B-funda'],\n",
              " [84, 'turnover', 'I-funda']]"
            ]
          },
          "metadata": {
            "tags": []
          },
          "execution_count": 86
        }
      ]
    },
    {
      "cell_type": "code",
      "metadata": {
        "id": "Q6oxhE7CUyMl",
        "colab_type": "code",
        "outputId": "a3674697-faa0-4ee8-a286-df962d07e2e5",
        "colab": {
          "base_uri": "https://localhost:8080/",
          "height": 395
        }
      },
      "source": [
        "Sentences[85:106]"
      ],
      "execution_count": 0,
      "outputs": [
        {
          "output_type": "execute_result",
          "data": {
            "text/plain": [
              "85                                       Short term debt\n",
              "86                                              Networth\n",
              "87                            Fastest revenue growth cos\n",
              "88                                  Other earning assets\n",
              "89                                           Health Care\n",
              "90                                                   ROE\n",
              "91                Valuation of consumer staples vs crude\n",
              "92                                        Debt to equity\n",
              "93                                               Debtors\n",
              "94                                        Inventory days\n",
              "95                              Highest CASA ratio banks\n",
              "96                Pharma cos with highest asset turnover\n",
              "97                              EBITDA growth for IT cos\n",
              "98                 Qtr EBITDA growth for real estate cos\n",
              "99     Highest PAT growth and ROE for consumer discre...\n",
              "100                      Largest smallcap cos by revenue\n",
              "101             Midcap cos with highest quarterly growth\n",
              "102              EV / EBITDA of cos with mktcap > 100 cr\n",
              "103                      Banks with ROE > 20% and PB < 2\n",
              "104                   Nifty500 cos where EBIT > Interest\n",
              "Name: Text, dtype: object"
            ]
          },
          "metadata": {
            "tags": []
          },
          "execution_count": 87
        }
      ]
    },
    {
      "cell_type": "markdown",
      "metadata": {
        "id": "saByOwMptyx-",
        "colab_type": "text"
      },
      "source": [
        "# Generating Test Data"
      ]
    },
    {
      "cell_type": "code",
      "metadata": {
        "id": "jDdYTGYTURxv",
        "colab_type": "code",
        "outputId": "3f9098af-fe0d-40be-eb49-42e3887ad73d",
        "colab": {
          "base_uri": "https://localhost:8080/",
          "height": 1000
        }
      },
      "source": [
        "testdata=[]\n",
        "for i in range(85,105):\n",
        "  wordslist=Sentences[i].split(\" \")\n",
        "  labelslist=Labels[i].split(\" \")\n",
        "  \n",
        "\n",
        "  for j in range(0,len(wordslist)):\n",
        "    #print(wordslist[j],labelslist[j])\n",
        "    testdata.append([i-85,wordslist[j],labelslist[j]])\n",
        "  \n",
        "testdata"
      ],
      "execution_count": 0,
      "outputs": [
        {
          "output_type": "execute_result",
          "data": {
            "text/plain": [
              "[[0, 'Short', 'B-funda'],\n",
              " [0, 'term', 'I-funda'],\n",
              " [0, 'debt', 'I-funda'],\n",
              " [1, 'Networth', 'B-funda'],\n",
              " [2, 'Fastest', 'Sortby'],\n",
              " [2, 'revenue', 'B-funda'],\n",
              " [2, 'growth', 'B-attr'],\n",
              " [2, 'cos', 'O'],\n",
              " [3, 'Other', 'B-funda'],\n",
              " [3, 'earning', 'I-funda'],\n",
              " [3, 'assets', 'I-funda'],\n",
              " [4, 'Health', 'B-sector'],\n",
              " [4, 'Care', 'I-sector'],\n",
              " [5, 'ROE', 'B-funda'],\n",
              " [6, 'Valuation', 'B-funda'],\n",
              " [6, 'of', 'O'],\n",
              " [6, 'consumer', 'B-sector'],\n",
              " [6, 'staples', 'I-sector'],\n",
              " [6, 'vs', 'O'],\n",
              " [6, 'crude', 'B-eco'],\n",
              " [7, 'Debt', 'B-funda'],\n",
              " [7, 'to', 'I-funda'],\n",
              " [7, 'equity', 'I-funda'],\n",
              " [8, 'Debtors', 'B-funda'],\n",
              " [9, 'Inventory', 'B-funda'],\n",
              " [9, 'days', 'I-funda'],\n",
              " [10, 'Highest', 'Sortby'],\n",
              " [10, 'CASA', 'B-funda'],\n",
              " [10, 'ratio', 'I-funda'],\n",
              " [10, 'banks', 'B-sector'],\n",
              " [11, 'Pharma', 'B-sector'],\n",
              " [11, 'cos', 'O'],\n",
              " [11, 'with', 'O'],\n",
              " [11, 'highest', 'Sortby'],\n",
              " [11, 'asset', 'B-funda'],\n",
              " [11, 'turnover', 'I-funda'],\n",
              " [12, 'EBITDA', 'B-funda'],\n",
              " [12, 'growth', 'B-attr'],\n",
              " [12, 'for', 'O'],\n",
              " [12, 'IT', 'B-sector'],\n",
              " [12, 'cos', 'O'],\n",
              " [13, 'Qtr', 'TPUnit'],\n",
              " [13, 'EBITDA', 'B-sector'],\n",
              " [13, 'growth', 'B-attr'],\n",
              " [13, 'for', 'O'],\n",
              " [13, 'real', 'B-sector'],\n",
              " [13, 'estate', 'I-sector'],\n",
              " [13, 'cos', 'O'],\n",
              " [14, 'Highest', 'Sortby'],\n",
              " [14, 'PAT', 'B-funda'],\n",
              " [14, 'growth', 'B-attr'],\n",
              " [14, 'and', 'O'],\n",
              " [14, 'ROE', 'B-funda'],\n",
              " [14, 'for', 'O'],\n",
              " [14, 'consumer', 'B-sector'],\n",
              " [14, 'discretionary', 'I-sector'],\n",
              " [14, 'cos', 'O'],\n",
              " [15, 'Largest', 'Sortby'],\n",
              " [15, 'smallcap', 'Capitalization'],\n",
              " [15, 'cos', 'O'],\n",
              " [15, 'by', 'O'],\n",
              " [15, 'revenue', 'B-funda'],\n",
              " [16, 'Midcap', 'Capitalization'],\n",
              " [16, 'cos', 'O'],\n",
              " [16, 'with', 'O'],\n",
              " [16, 'highest', 'Sortby'],\n",
              " [16, 'quarterly', 'TPUnit'],\n",
              " [16, 'growth', 'B-attr'],\n",
              " [17, 'EV', 'B-funda'],\n",
              " [17, '/', 'O'],\n",
              " [17, 'EBITDA', 'B-funda'],\n",
              " [17, 'of', 'O'],\n",
              " [17, 'cos', 'O'],\n",
              " [17, 'with', 'O'],\n",
              " [17, 'mktcap', 'B-funda'],\n",
              " [17, '>', 'operator'],\n",
              " [17, '100', 'threshold'],\n",
              " [17, 'cr', 'O'],\n",
              " [18, 'Banks', 'B-sector'],\n",
              " [18, 'with', 'O'],\n",
              " [18, 'ROE', 'B-funda'],\n",
              " [18, '>', 'operator'],\n",
              " [18, '20%', 'threshold'],\n",
              " [18, 'and', 'O'],\n",
              " [18, 'PB', 'B-funda'],\n",
              " [18, '<', 'operator'],\n",
              " [18, '2', 'threshold'],\n",
              " [19, 'Nifty500', 'B-index'],\n",
              " [19, 'cos', 'O'],\n",
              " [19, 'where', 'O'],\n",
              " [19, 'EBIT', 'B-funda'],\n",
              " [19, '>', 'operator'],\n",
              " [19, 'Interest', 'B-funda']]"
            ]
          },
          "metadata": {
            "tags": []
          },
          "execution_count": 88
        }
      ]
    },
    {
      "cell_type": "markdown",
      "metadata": {
        "id": "OxaXug8ht0pS",
        "colab_type": "text"
      },
      "source": [
        "## Installing simple transformers library"
      ]
    },
    {
      "cell_type": "code",
      "metadata": {
        "id": "qYpdOt8-TMlr",
        "colab_type": "code",
        "outputId": "1c2047d1-0827-410d-9464-ae9fb9d9f75c",
        "colab": {
          "base_uri": "https://localhost:8080/",
          "height": 593
        }
      },
      "source": [
        "pip install simpletransformers"
      ],
      "execution_count": 0,
      "outputs": [
        {
          "output_type": "stream",
          "text": [
            "Requirement already satisfied: simpletransformers in /usr/local/lib/python3.6/dist-packages (0.32.1)\n",
            "Requirement already satisfied: seqeval in /usr/local/lib/python3.6/dist-packages (from simpletransformers) (0.0.12)\n",
            "Requirement already satisfied: tqdm in /usr/local/lib/python3.6/dist-packages (from simpletransformers) (4.41.1)\n",
            "Requirement already satisfied: tokenizers in /usr/local/lib/python3.6/dist-packages (from simpletransformers) (0.7.0)\n",
            "Requirement already satisfied: pandas in /usr/local/lib/python3.6/dist-packages (from simpletransformers) (1.0.3)\n",
            "Requirement already satisfied: tensorboardx in /usr/local/lib/python3.6/dist-packages (from simpletransformers) (2.0)\n",
            "Requirement already satisfied: requests in /usr/local/lib/python3.6/dist-packages (from simpletransformers) (2.23.0)\n",
            "Requirement already satisfied: scipy in /usr/local/lib/python3.6/dist-packages (from simpletransformers) (1.4.1)\n",
            "Requirement already satisfied: numpy in /usr/local/lib/python3.6/dist-packages (from simpletransformers) (1.18.4)\n",
            "Requirement already satisfied: scikit-learn in /usr/local/lib/python3.6/dist-packages (from simpletransformers) (0.22.2.post1)\n",
            "Requirement already satisfied: transformers>=2.9.1 in /usr/local/lib/python3.6/dist-packages (from simpletransformers) (2.10.0)\n",
            "Requirement already satisfied: regex in /usr/local/lib/python3.6/dist-packages (from simpletransformers) (2019.12.20)\n",
            "Requirement already satisfied: Keras>=2.2.4 in /usr/local/lib/python3.6/dist-packages (from seqeval->simpletransformers) (2.3.1)\n",
            "Requirement already satisfied: pytz>=2017.2 in /usr/local/lib/python3.6/dist-packages (from pandas->simpletransformers) (2018.9)\n",
            "Requirement already satisfied: python-dateutil>=2.6.1 in /usr/local/lib/python3.6/dist-packages (from pandas->simpletransformers) (2.8.1)\n",
            "Requirement already satisfied: six in /usr/local/lib/python3.6/dist-packages (from tensorboardx->simpletransformers) (1.12.0)\n",
            "Requirement already satisfied: protobuf>=3.8.0 in /usr/local/lib/python3.6/dist-packages (from tensorboardx->simpletransformers) (3.10.0)\n",
            "Requirement already satisfied: idna<3,>=2.5 in /usr/local/lib/python3.6/dist-packages (from requests->simpletransformers) (2.9)\n",
            "Requirement already satisfied: certifi>=2017.4.17 in /usr/local/lib/python3.6/dist-packages (from requests->simpletransformers) (2020.4.5.1)\n",
            "Requirement already satisfied: urllib3!=1.25.0,!=1.25.1,<1.26,>=1.21.1 in /usr/local/lib/python3.6/dist-packages (from requests->simpletransformers) (1.24.3)\n",
            "Requirement already satisfied: chardet<4,>=3.0.2 in /usr/local/lib/python3.6/dist-packages (from requests->simpletransformers) (3.0.4)\n",
            "Requirement already satisfied: joblib>=0.11 in /usr/local/lib/python3.6/dist-packages (from scikit-learn->simpletransformers) (0.15.1)\n",
            "Requirement already satisfied: dataclasses; python_version < \"3.7\" in /usr/local/lib/python3.6/dist-packages (from transformers>=2.9.1->simpletransformers) (0.7)\n",
            "Requirement already satisfied: sentencepiece in /usr/local/lib/python3.6/dist-packages (from transformers>=2.9.1->simpletransformers) (0.1.91)\n",
            "Requirement already satisfied: sacremoses in /usr/local/lib/python3.6/dist-packages (from transformers>=2.9.1->simpletransformers) (0.0.43)\n",
            "Requirement already satisfied: filelock in /usr/local/lib/python3.6/dist-packages (from transformers>=2.9.1->simpletransformers) (3.0.12)\n",
            "Requirement already satisfied: pyyaml in /usr/local/lib/python3.6/dist-packages (from Keras>=2.2.4->seqeval->simpletransformers) (3.13)\n",
            "Requirement already satisfied: keras-applications>=1.0.6 in /usr/local/lib/python3.6/dist-packages (from Keras>=2.2.4->seqeval->simpletransformers) (1.0.8)\n",
            "Requirement already satisfied: keras-preprocessing>=1.0.5 in /usr/local/lib/python3.6/dist-packages (from Keras>=2.2.4->seqeval->simpletransformers) (1.1.2)\n",
            "Requirement already satisfied: h5py in /usr/local/lib/python3.6/dist-packages (from Keras>=2.2.4->seqeval->simpletransformers) (2.10.0)\n",
            "Requirement already satisfied: setuptools in /usr/local/lib/python3.6/dist-packages (from protobuf>=3.8.0->tensorboardx->simpletransformers) (46.4.0)\n",
            "Requirement already satisfied: click in /usr/local/lib/python3.6/dist-packages (from sacremoses->transformers>=2.9.1->simpletransformers) (7.1.2)\n"
          ],
          "name": "stdout"
        }
      ]
    },
    {
      "cell_type": "code",
      "metadata": {
        "id": "M83MYmdXQls5",
        "colab_type": "code",
        "colab": {}
      },
      "source": [
        "from simpletransformers.ner import NERModel\n",
        "import logging\n",
        "\n",
        "logging.basicConfig(level=logging.INFO)\n",
        "transformers_logger = logging.getLogger(\"transformers\")\n",
        "transformers_logger.setLevel(logging.WARNING)"
      ],
      "execution_count": 0,
      "outputs": []
    },
    {
      "cell_type": "code",
      "metadata": {
        "id": "sMoDd_ciTXQQ",
        "colab_type": "code",
        "colab": {}
      },
      "source": [
        "train_df = pd.DataFrame(traindata, columns=['sentence_id', 'words', 'labels'])"
      ],
      "execution_count": 0,
      "outputs": []
    },
    {
      "cell_type": "markdown",
      "metadata": {
        "id": "o_O7Ogi3uC71",
        "colab_type": "text"
      },
      "source": [
        ""
      ]
    },
    {
      "cell_type": "code",
      "metadata": {
        "id": "mF1B8GDBVVB-",
        "colab_type": "code",
        "colab": {}
      },
      "source": [
        "test_df = pd.DataFrame(testdata, columns=['sentence_id', 'words', 'labels'])"
      ],
      "execution_count": 0,
      "outputs": []
    },
    {
      "cell_type": "markdown",
      "metadata": {
        "id": "cIpfQt7zuAHe",
        "colab_type": "text"
      },
      "source": [
        "# Creating and training Model"
      ]
    },
    {
      "cell_type": "code",
      "metadata": {
        "id": "Uoz3ahS4Veo2",
        "colab_type": "code",
        "colab": {}
      },
      "source": [
        "model = NERModel('bert', 'bert-base-cased', \n",
        "                 labels=[\"B-sector\",\"I-sector\",\"B-funda\",\"O\",\"operator\",\"threshold\",\"Join\",\"B-attr\",\"I-funda\",\"TPQty\",\"TPUnit\",\"Sortby\", \"B-eco\",\"I-eco\",\"B-index\",\"Capitalization\",\"I-\",\"funda\",\"B-security\",'I-security','Number','Sector','TPMonth','TPYr','TPRef'],\n",
        "args={'overwrite_output_dir': True, 'reprocess_input_data': True}, use_cuda=False)"
      ],
      "execution_count": 0,
      "outputs": []
    },
    {
      "cell_type": "code",
      "metadata": {
        "id": "fKZ8i-_VpfGH",
        "colab_type": "code",
        "outputId": "ebfb94c7-69a6-44d9-e9f2-a0d8b32bdfd4",
        "colab": {
          "base_uri": "https://localhost:8080/",
          "height": 259,
          "referenced_widgets": [
            "635bcf14f3af45eb9302758f81a2afd3",
            "347ad31fb96b4b5185234a1d5bad71d9",
            "1912669130da43dfb0d15a8661c41a8c",
            "554534d892984d82b0935b850ade4b14",
            "4add66aa9c9a4d319097f4f841278d55",
            "baaaa155c28843908fe2355ba521b783",
            "ee7f52c22e8745b9ab720514aa0d6af3",
            "8e1f1e8fe0114f87a14ab7c6dc28230a",
            "3fd10ae2bc944044845b332c3f5fe0ea",
            "1dbfafcecf7f430e90bb17c99528570f",
            "9c5ea8a1ebd54dff91fc525f359fc4cf",
            "b0026afc84f946349859ebdb52d3600a",
            "447775083cdf49719822792befdd17e7",
            "a2ddc2e1284a4c7e8edd1c32a605b362",
            "b6875ce2ae724abb82b83035472758fa",
            "9df7fef79e7e4233bfd15633f0ce04e4",
            "51e9fef4cd544aa1a8c5eb5051a76dae",
            "d19d19b7f26d43c0a5720b22f83cbc2e",
            "d85d026b295e41f181917ae9519f08f1",
            "9e02a9bac7db4c22be6c63e2c506fc3c",
            "ff137b8397be4efa886586c98864a04e",
            "8b6a97f773014f11aaff3fc7ce93b155",
            "3fc58859461d4803bca176fddf06989c",
            "3abb74969f9d49d18937ff8d31eb6721"
          ]
        }
      },
      "source": [
        "model.train_model(train_df)"
      ],
      "execution_count": 0,
      "outputs": [
        {
          "output_type": "stream",
          "text": [
            "INFO:simpletransformers.ner.ner_model: Converting to features started.\n"
          ],
          "name": "stderr"
        },
        {
          "output_type": "display_data",
          "data": {
            "application/vnd.jupyter.widget-view+json": {
              "model_id": "635bcf14f3af45eb9302758f81a2afd3",
              "version_minor": 0,
              "version_major": 2
            },
            "text/plain": [
              "HBox(children=(FloatProgress(value=0.0, max=85.0), HTML(value='')))"
            ]
          },
          "metadata": {
            "tags": []
          }
        },
        {
          "output_type": "stream",
          "text": [
            "\n"
          ],
          "name": "stdout"
        },
        {
          "output_type": "display_data",
          "data": {
            "application/vnd.jupyter.widget-view+json": {
              "model_id": "3fd10ae2bc944044845b332c3f5fe0ea",
              "version_minor": 0,
              "version_major": 2
            },
            "text/plain": [
              "HBox(children=(FloatProgress(value=0.0, description='Epoch', max=1.0, style=ProgressStyle(description_width='i…"
            ]
          },
          "metadata": {
            "tags": []
          }
        },
        {
          "output_type": "display_data",
          "data": {
            "application/vnd.jupyter.widget-view+json": {
              "model_id": "51e9fef4cd544aa1a8c5eb5051a76dae",
              "version_minor": 0,
              "version_major": 2
            },
            "text/plain": [
              "HBox(children=(FloatProgress(value=0.0, description='Current iteration', max=11.0, style=ProgressStyle(descrip…"
            ]
          },
          "metadata": {
            "tags": []
          }
        },
        {
          "output_type": "stream",
          "text": [
            "Running loss: 2.572795\n"
          ],
          "name": "stdout"
        },
        {
          "output_type": "stream",
          "text": [
            "/usr/local/lib/python3.6/dist-packages/torch/optim/lr_scheduler.py:200: UserWarning: Please also save or load the state of the optimzer when saving or loading the scheduler.\n",
            "  warnings.warn(SAVE_STATE_WARNING, UserWarning)\n"
          ],
          "name": "stderr"
        },
        {
          "output_type": "stream",
          "text": [
            "\n"
          ],
          "name": "stdout"
        },
        {
          "output_type": "stream",
          "text": [
            "INFO:simpletransformers.ner.ner_model: Training of bert model complete. Saved to outputs/.\n"
          ],
          "name": "stderr"
        }
      ]
    },
    {
      "cell_type": "markdown",
      "metadata": {
        "id": "KxpR9PPguEwT",
        "colab_type": "text"
      },
      "source": [
        "# Evaluating model performance. This will be improved after adding cuda support which I am working on."
      ]
    },
    {
      "cell_type": "code",
      "metadata": {
        "id": "Iz6RCF7MrtWg",
        "colab_type": "code",
        "outputId": "c8616b1c-cb6c-415c-9c79-f7a1176ef4a9",
        "colab": {
          "base_uri": "https://localhost:8080/",
          "height": 153,
          "referenced_widgets": [
            "e3ecd26364e2404783fe21b583aa56ee",
            "432abeb3c6fe4ab9a76e6c19885c35ac",
            "4c93a1377d5148ed928be92f5fdca8bd",
            "82dfd83caff147ed926198319fe6320c",
            "34890495d8d04ed1936df86e29b82cda",
            "cd96b3e03d9c47dd9eaa65b5952fe5a2",
            "07eea5c7a56046e98284a6ce0020fc14",
            "41de5997d0b14b4893f214281dc6cf25",
            "962f6439604341708981df2e5568640f",
            "78969239125b4b98a18cbe999bfacd99",
            "d611b74f3f464d70908021f457aae799",
            "53f00684158a4521afec9bd860a59522",
            "c5ef8109a88b4152873f68f325059920",
            "1ce98bcbc06f4d68abf77a570a06f8b3",
            "33cb1aa0b616460a9a388aebf5a757a9",
            "13fbf588af8044b1b3dffa265f58cedb"
          ]
        }
      },
      "source": [
        "result, model_outputs, predictions = model.eval_model(test_df)"
      ],
      "execution_count": 0,
      "outputs": [
        {
          "output_type": "stream",
          "text": [
            "INFO:simpletransformers.ner.ner_model: Converting to features started.\n"
          ],
          "name": "stderr"
        },
        {
          "output_type": "display_data",
          "data": {
            "application/vnd.jupyter.widget-view+json": {
              "model_id": "e3ecd26364e2404783fe21b583aa56ee",
              "version_minor": 0,
              "version_major": 2
            },
            "text/plain": [
              "HBox(children=(FloatProgress(value=0.0, max=20.0), HTML(value='')))"
            ]
          },
          "metadata": {
            "tags": []
          }
        },
        {
          "output_type": "stream",
          "text": [
            "\n"
          ],
          "name": "stdout"
        },
        {
          "output_type": "display_data",
          "data": {
            "application/vnd.jupyter.widget-view+json": {
              "model_id": "962f6439604341708981df2e5568640f",
              "version_minor": 0,
              "version_major": 2
            },
            "text/plain": [
              "HBox(children=(FloatProgress(value=0.0, max=3.0), HTML(value='')))"
            ]
          },
          "metadata": {
            "tags": []
          }
        },
        {
          "output_type": "stream",
          "text": [
            "INFO:simpletransformers.ner.ner_model:{'eval_loss': 2.429192304611206, 'precision': 0.5333333333333333, 'recall': 0.14545454545454545, 'f1_score': 0.2285714285714286}\n"
          ],
          "name": "stderr"
        },
        {
          "output_type": "stream",
          "text": [
            "\n"
          ],
          "name": "stdout"
        }
      ]
    },
    {
      "cell_type": "markdown",
      "metadata": {
        "id": "QYpz7EaBuRFM",
        "colab_type": "text"
      },
      "source": [
        "# Check the prediction on any sentence here. In place of \"Tax Rate\" enter any arbitrary sentence."
      ]
    },
    {
      "cell_type": "code",
      "metadata": {
        "id": "UhpK0M9YsPng",
        "colab_type": "code",
        "outputId": "d5b45317-228a-40e1-c1ea-14f20be4c1a1",
        "colab": {
          "base_uri": "https://localhost:8080/",
          "height": 153,
          "referenced_widgets": [
            "4a561c0bc88f4754873af0e66ae35b24",
            "188eb2e98aaa4c55ba0befb832b350ce",
            "6056f61062f14c19bb8cd00f09fa62a0",
            "afcc38d6a5b14b9081b7811ef1e7c3d5",
            "e4f27adb83d34edeb329a0f4f0b26dbf",
            "c51fa373eba14a089c6068f406b6d7b1",
            "7475c384111e49a78908327c31a145e7",
            "60158c8df22a4754af55be44ec54f0b0",
            "f22fa580efda46d9bba97bc474f7b021",
            "39264bd2a93a45888afc10137d9f26c8",
            "6657ac2f2c1f484a98a393c1c4102eb3",
            "6df4a8e178ad458181b1005ce4c3e760",
            "97dda20ea6304f98b930f52399ef6305",
            "9a55321fb9a14df3ab76aeaede0fa058",
            "ca851d740f3e4c7f93d7bc91d4903011",
            "f9e206ddda794795813d3b8e2069869f"
          ]
        }
      },
      "source": [
        "predictions, raw_outputs = model.predict([\"Tax Rate\"])\n",
        "\n",
        "print(predictions)"
      ],
      "execution_count": 0,
      "outputs": [
        {
          "output_type": "stream",
          "text": [
            "INFO:simpletransformers.ner.ner_model: Converting to features started.\n"
          ],
          "name": "stderr"
        },
        {
          "output_type": "display_data",
          "data": {
            "application/vnd.jupyter.widget-view+json": {
              "model_id": "4a561c0bc88f4754873af0e66ae35b24",
              "version_minor": 0,
              "version_major": 2
            },
            "text/plain": [
              "HBox(children=(FloatProgress(value=0.0, max=1.0), HTML(value='')))"
            ]
          },
          "metadata": {
            "tags": []
          }
        },
        {
          "output_type": "stream",
          "text": [
            "\n"
          ],
          "name": "stdout"
        },
        {
          "output_type": "display_data",
          "data": {
            "application/vnd.jupyter.widget-view+json": {
              "model_id": "f22fa580efda46d9bba97bc474f7b021",
              "version_minor": 0,
              "version_major": 2
            },
            "text/plain": [
              "HBox(children=(FloatProgress(value=0.0, max=1.0), HTML(value='')))"
            ]
          },
          "metadata": {
            "tags": []
          }
        },
        {
          "output_type": "stream",
          "text": [
            "\n",
            "[[{'Tax': 'B-funda'}, {'Rate': 'I-funda'}]]\n"
          ],
          "name": "stdout"
        }
      ]
    }
  ]
}