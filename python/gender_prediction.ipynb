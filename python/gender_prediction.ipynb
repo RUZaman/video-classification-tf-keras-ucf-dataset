{
  "nbformat": 4,
  "nbformat_minor": 0,
  "metadata": {
    "kernelspec": {
      "display_name": "Python 3",
      "language": "python",
      "name": "python3"
    },
    "language_info": {
      "codemirror_mode": {
        "name": "ipython",
        "version": 3
      },
      "file_extension": ".py",
      "mimetype": "text/x-python",
      "name": "python",
      "nbconvert_exporter": "python",
      "pygments_lexer": "ipython3",
      "version": "3.6.4"
    },
    "colab": {
      "name": "gender_prediction.ipynb",
      "provenance": [],
      "toc_visible": true
    }
  },
  "cells": [
    {
      "cell_type": "code",
      "metadata": {
        "id": "jsDKalf9rBWH"
      },
      "source": [
        "import scipy.io\n",
        "import numpy as np\n",
        "import pandas as pd\n",
        "from datetime import datetime, timedelta\n",
        "\n",
        "import tensorflow as tf\n",
        "\n",
        "import keras\n",
        "from keras.preprocessing import image\n",
        "from keras.callbacks import ModelCheckpoint,EarlyStopping\n",
        "from keras.layers import Dense, Activation, Dropout, Flatten, Input, Convolution2D, ZeroPadding2D, MaxPooling2D, Activation\n",
        "from keras.layers import Conv2D, AveragePooling2D\n",
        "from keras.models import Model, Sequential\n",
        "\n",
        "from sklearn.model_selection import train_test_split\n",
        "\n",
        "from keras import metrics\n",
        "\n",
        "from keras.models import model_from_json\n",
        "import matplotlib.pyplot as plt"
      ],
      "execution_count": 1,
      "outputs": []
    },
    {
      "cell_type": "code",
      "metadata": {
        "id": "fxFX6QYMrBWS"
      },
      "source": [
        "#https://data.vision.ee.ethz.ch/cvl/rrothe/imdb-wiki/\n",
        "# mat = scipy.io.loadmat('wiki_crop/wiki.mat')"
      ],
      "execution_count": 3,
      "outputs": []
    },
    {
      "cell_type": "code",
      "metadata": {
        "id": "iiLTDuOqrBWT"
      },
      "source": [
        "# columns = [\"dob\", \"photo_taken\", \"full_path\", \"gender\", \"name\", \"face_location\", \"face_score\", \"second_face_score\"]"
      ],
      "execution_count": null,
      "outputs": []
    },
    {
      "cell_type": "code",
      "metadata": {
        "id": "yK27SwinrBWT"
      },
      "source": [
        "# instances = mat['wiki'][0][0][0].shape[1]\n",
        "\n",
        "# df = pd.DataFrame(index = range(0,instances), columns = columns)"
      ],
      "execution_count": null,
      "outputs": []
    },
    {
      "cell_type": "code",
      "metadata": {
        "id": "hZSM5-IfrBWU"
      },
      "source": [
        "# for i in mat:\n",
        "#     if i == \"wiki\":\n",
        "#         current_array = mat[i][0][0]\n",
        "#         for j in range(len(current_array)):\n",
        "#             #print(columns[j],\": \",current_array[j])\n",
        "#             df[columns[j]] = pd.DataFrame(current_array[j][0])"
      ],
      "execution_count": null,
      "outputs": []
    },
    {
      "cell_type": "code",
      "metadata": {
        "id": "5IaO-XN-rBWU"
      },
      "source": [
        "# df.head()"
      ],
      "execution_count": null,
      "outputs": []
    },
    {
      "cell_type": "code",
      "metadata": {
        "id": "F8NGruN9rBWV"
      },
      "source": [
        "# #remove pictures does not include face\n",
        "# df = df[df['face_score'] != -np.inf]\n",
        "\n",
        "# #some pictures include more than one face, remove them\n",
        "# df = df[df['second_face_score'].isna()]\n",
        "\n",
        "# #check threshold\n",
        "# df = df[df['face_score'] >= 3]\n",
        "\n",
        "# #some records do not have a gender information\n",
        "# df = df[~df['gender'].isna()]"
      ],
      "execution_count": null,
      "outputs": []
    },
    {
      "cell_type": "code",
      "metadata": {
        "id": "tbsqPdnnrBWV"
      },
      "source": [
        "# df = df.drop(columns = ['dob','photo_taken','name','face_score','second_face_score','face_location'])"
      ],
      "execution_count": null,
      "outputs": []
    },
    {
      "cell_type": "code",
      "metadata": {
        "id": "QKjDMacJrBWW"
      },
      "source": [
        "# df.head()"
      ],
      "execution_count": null,
      "outputs": []
    },
    {
      "cell_type": "code",
      "metadata": {
        "id": "xxskc6B5rBWW"
      },
      "source": [
        "# histogram = df['gender'].hist(bins=df['gender'].nunique())"
      ],
      "execution_count": null,
      "outputs": []
    },
    {
      "cell_type": "code",
      "metadata": {
        "id": "0uuXN83vrBWX"
      },
      "source": [
        "# df['gender'].value_counts().sort_index()\n",
        "# #0: woman, 1: man"
      ],
      "execution_count": null,
      "outputs": []
    },
    {
      "cell_type": "code",
      "metadata": {
        "id": "BM5lpW5SrBWX"
      },
      "source": [
        " classes = 2 #man woman\n",
        "# print(\"number of output classes: \",classes)"
      ],
      "execution_count": 8,
      "outputs": []
    },
    {
      "cell_type": "code",
      "metadata": {
        "id": "sonLJZsmrBWY"
      },
      "source": [
        "# target_size = (224, 224)\n",
        "\n",
        "# def getImagePixels(image_path):\n",
        "#     img = image.load_img(\"wiki_crop/%s\" % image_path[0], grayscale=False, target_size=target_size)\n",
        "#     x = image.img_to_array(img).reshape(1, -1)[0]\n",
        "#     #x = preprocess_input(x)\n",
        "#     return x"
      ],
      "execution_count": null,
      "outputs": []
    },
    {
      "cell_type": "code",
      "metadata": {
        "id": "R7tzDyhirBWY"
      },
      "source": [
        "# df['pixels'] = df['full_path'].apply(getImagePixels)"
      ],
      "execution_count": null,
      "outputs": []
    },
    {
      "cell_type": "code",
      "metadata": {
        "id": "02uYXHfLrBWZ"
      },
      "source": [
        "# df.head()"
      ],
      "execution_count": null,
      "outputs": []
    },
    {
      "cell_type": "code",
      "metadata": {
        "id": "hlyKGvmrrBWZ"
      },
      "source": [
        "# target = df['gender'].values\n",
        "# target_classes = keras.utils.to_categorical(target, classes)"
      ],
      "execution_count": null,
      "outputs": []
    },
    {
      "cell_type": "code",
      "metadata": {
        "id": "vozP5nhdrBWZ"
      },
      "source": [
        "# #features = df['pixels'].values\n",
        "# features = []\n",
        "\n",
        "# for i in range(0, df.shape[0]):\n",
        "#     features.append(df['pixels'].values[i])\n",
        "\n",
        "# features = np.array(features)\n",
        "# features = features.reshape(features.shape[0], 224, 224, 3)"
      ],
      "execution_count": null,
      "outputs": []
    },
    {
      "cell_type": "code",
      "metadata": {
        "id": "85wq4JHYrBWa"
      },
      "source": [
        "# features.shape"
      ],
      "execution_count": null,
      "outputs": []
    },
    {
      "cell_type": "code",
      "metadata": {
        "id": "xqFNzibprBWa"
      },
      "source": [
        "# features /= 255 #normalize in [0, 1]"
      ],
      "execution_count": null,
      "outputs": []
    },
    {
      "cell_type": "code",
      "metadata": {
        "id": "AkdbhBMhrBWa"
      },
      "source": [
        "# train_x, test_x, train_y, test_y = train_test_split(features, target_classes, test_size=0.30)"
      ],
      "execution_count": null,
      "outputs": []
    },
    {
      "cell_type": "code",
      "metadata": {
        "id": "c01lvYv1rBWa"
      },
      "source": [
        "#VGG-Face model\n",
        "model = Sequential()\n",
        "model.add(ZeroPadding2D((1,1),input_shape=(224,224, 3)))\n",
        "model.add(Convolution2D(64, (3, 3), activation='relu'))\n",
        "model.add(ZeroPadding2D((1,1)))\n",
        "model.add(Convolution2D(64, (3, 3), activation='relu'))\n",
        "model.add(MaxPooling2D((2,2), strides=(2,2)))\n",
        " \n",
        "model.add(ZeroPadding2D((1,1)))\n",
        "model.add(Convolution2D(128, (3, 3), activation='relu'))\n",
        "model.add(ZeroPadding2D((1,1)))\n",
        "model.add(Convolution2D(128, (3, 3), activation='relu'))\n",
        "model.add(MaxPooling2D((2,2), strides=(2,2)))\n",
        " \n",
        "model.add(ZeroPadding2D((1,1)))\n",
        "model.add(Convolution2D(256, (3, 3), activation='relu'))\n",
        "model.add(ZeroPadding2D((1,1)))\n",
        "model.add(Convolution2D(256, (3, 3), activation='relu'))\n",
        "model.add(ZeroPadding2D((1,1)))\n",
        "model.add(Convolution2D(256, (3, 3), activation='relu'))\n",
        "model.add(MaxPooling2D((2,2), strides=(2,2)))\n",
        " \n",
        "model.add(ZeroPadding2D((1,1)))\n",
        "model.add(Convolution2D(512, (3, 3), activation='relu'))\n",
        "model.add(ZeroPadding2D((1,1)))\n",
        "model.add(Convolution2D(512, (3, 3), activation='relu'))\n",
        "model.add(ZeroPadding2D((1,1)))\n",
        "model.add(Convolution2D(512, (3, 3), activation='relu'))\n",
        "model.add(MaxPooling2D((2,2), strides=(2,2)))\n",
        " \n",
        "model.add(ZeroPadding2D((1,1)))\n",
        "model.add(Convolution2D(512, (3, 3), activation='relu'))\n",
        "model.add(ZeroPadding2D((1,1)))\n",
        "model.add(Convolution2D(512, (3, 3), activation='relu'))\n",
        "model.add(ZeroPadding2D((1,1)))\n",
        "model.add(Convolution2D(512, (3, 3), activation='relu'))\n",
        "model.add(MaxPooling2D((2,2), strides=(2,2)))\n",
        " \n",
        "model.add(Convolution2D(4096, (7, 7), activation='relu'))\n",
        "model.add(Dropout(0.5))\n",
        "model.add(Convolution2D(4096, (1, 1), activation='relu'))\n",
        "model.add(Dropout(0.5))\n",
        "model.add(Convolution2D(2622, (1, 1)))\n",
        "model.add(Flatten())\n",
        "model.add(Activation('softmax'))"
      ],
      "execution_count": 4,
      "outputs": []
    },
    {
      "cell_type": "code",
      "metadata": {
        "id": "z0mgDg6u5FtP",
        "outputId": "e3cba76c-c7c1-4d26-8325-9cfdc5e85fa0",
        "colab": {
          "base_uri": "https://localhost:8080/"
        }
      },
      "source": [
        "from google.colab import drive\n",
        "drive.mount('/content/drive')"
      ],
      "execution_count": 5,
      "outputs": [
        {
          "output_type": "stream",
          "text": [
            "Mounted at /content/drive\n"
          ],
          "name": "stdout"
        }
      ]
    },
    {
      "cell_type": "code",
      "metadata": {
        "id": "AJp9flgLrBWb"
      },
      "source": [
        "#pre-trained weights of vgg-face model. \n",
        "#you can find it here: https://drive.google.com/file/d/1CPSeum3HpopfomUEK1gybeuIVoeJT_Eo/view?usp=sharing\n",
        "#related blog post: https://sefiks.com/2018/08/06/deep-face-recognition-with-keras/\n",
        "model.load_weights('/content/drive/My Drive/vgg_face_weights.h5')"
      ],
      "execution_count": 6,
      "outputs": []
    },
    {
      "cell_type": "code",
      "metadata": {
        "id": "BHNAebr5rBWc"
      },
      "source": [
        "#freeze all layers of VGG-Face except last 7 one\n",
        "for layer in model.layers[:-7]:\n",
        "    layer.trainable = False\n",
        "\n",
        "base_model_output = Sequential()\n",
        "base_model_output = Convolution2D(classes, (1, 1), name='predictions')(model.layers[-4].output)\n",
        "base_model_output = Flatten()(base_model_output)\n",
        "base_model_output = Activation('softmax')(base_model_output)\n",
        "\n",
        "gender_model = Model(inputs=model.input, outputs=base_model_output)"
      ],
      "execution_count": 9,
      "outputs": []
    },
    {
      "cell_type": "code",
      "metadata": {
        "id": "vsnnUwl5rBWd"
      },
      "source": [
        "#check trainable layers\n",
        "if False:\n",
        "    for layer in model.layers:\n",
        "        print(layer, layer.trainable)\n",
        "    \n",
        "    print(\"------------------------\")\n",
        "    for layer in age_model.layers:\n",
        "        print(layer, layer.trainable)"
      ],
      "execution_count": 10,
      "outputs": []
    },
    {
      "cell_type": "code",
      "metadata": {
        "id": "jWg9-7yUrBWd"
      },
      "source": [
        "sgd = keras.optimizers.SGD(lr=1e-3, decay=1e-6, momentum=0.9, nesterov=True)\n",
        "\n",
        "gender_model.compile(loss='categorical_crossentropy'\n",
        "                  , optimizer=keras.optimizers.Adam()\n",
        "                  #, optimizer = sgd\n",
        "                  , metrics=['accuracy']\n",
        "                 )"
      ],
      "execution_count": 11,
      "outputs": []
    },
    {
      "cell_type": "code",
      "metadata": {
        "id": "rvRCxpBsrBWe"
      },
      "source": [
        "checkpointer = ModelCheckpoint(\n",
        "    filepath='/content/drive/My Drive/classification_gender_model.hdf5'\n",
        "    , monitor = \"val_loss\"\n",
        "    , verbose=1\n",
        "    , save_best_only=True\n",
        "    , mode = 'auto'\n",
        ")"
      ],
      "execution_count": 24,
      "outputs": []
    },
    {
      "cell_type": "code",
      "metadata": {
        "id": "gK5zzaK4rBWe"
      },
      "source": [
        "scores = []"
      ],
      "execution_count": 25,
      "outputs": []
    },
    {
      "cell_type": "code",
      "metadata": {
        "scrolled": true,
        "id": "ro663S5hrBWe"
      },
      "source": [
        "enableFit = False\n",
        "\n",
        "if enableFit:\n",
        "    epochs = 250\n",
        "    batch_size = 256\n",
        "\n",
        "    for i in range(epochs):\n",
        "        print(\"epoch \",i)\n",
        "        \n",
        "        ix_train = np.random.choice(train_x.shape[0], size=batch_size)\n",
        "        \n",
        "        score = gender_model.fit(\n",
        "            train_x[ix_train], train_y[ix_train]\n",
        "            , epochs=1\n",
        "            , validation_data=(test_x, test_y)\n",
        "            , callbacks=[checkpointer]\n",
        "        )\n",
        "        \n",
        "        scores.append(score)\n",
        "        \n",
        "        from keras.models import load_model\n",
        "        gender_model = load_model(\"classification_gender_model.hdf5\")\n",
        "        \n",
        "        gender_model.save_weights('gender_model_weights.h5')\n",
        "        \n",
        "else:\n",
        "    #pre-trained weights for gender prediction: https://drive.google.com/file/d/1wUXRVlbsni2FN9-jkS_f4UTUrm1bRLyk/view?usp=sharing\n",
        "    gender_model.load_weights(\"/content/drive/My Drive/gender_model_weights.h5\")"
      ],
      "execution_count": 26,
      "outputs": []
    },
    {
      "cell_type": "code",
      "metadata": {
        "id": "6Cc9eosDrBWf"
      },
      "source": [
        "# val_loss_change = []; loss_change = []\n",
        "# for i in range(0, len(scores)):\n",
        "#     val_loss_change.append(scores[i].history['val_loss'])\n",
        "#     loss_change.append(scores[i].history['loss'])\n",
        "\n",
        "# plt.plot(val_loss_change, label='val_loss')\n",
        "# plt.plot(loss_change, label='train_loss')\n",
        "# plt.legend(loc='upper right')\n",
        "# plt.show()"
      ],
      "execution_count": 16,
      "outputs": []
    },
    {
      "cell_type": "code",
      "metadata": {
        "id": "fCclBM_y5BFE"
      },
      "source": [
        ""
      ],
      "execution_count": null,
      "outputs": []
    },
    {
      "cell_type": "markdown",
      "metadata": {
        "id": "fFP7LeZhrBWf"
      },
      "source": [
        "# Testing model on the testing set"
      ]
    },
    {
      "cell_type": "code",
      "metadata": {
        "id": "01ybAa2brBWg",
        "outputId": "bdc5ed0e-eac0-41c9-d08a-24b434c8e47b",
        "colab": {
          "base_uri": "https://localhost:8080/",
          "height": 183
        }
      },
      "source": [
        "#loss and accuracy on validation set\n",
        "gender_model.evaluate(test_x, test_y, verbose=1)"
      ],
      "execution_count": 27,
      "outputs": [
        {
          "output_type": "error",
          "ename": "NameError",
          "evalue": "ignored",
          "traceback": [
            "\u001b[0;31m---------------------------------------------------------------------------\u001b[0m",
            "\u001b[0;31mNameError\u001b[0m                                 Traceback (most recent call last)",
            "\u001b[0;32m<ipython-input-27-6d86ac8fa316>\u001b[0m in \u001b[0;36m<module>\u001b[0;34m()\u001b[0m\n\u001b[1;32m      1\u001b[0m \u001b[0;31m#loss and accuracy on validation set\u001b[0m\u001b[0;34m\u001b[0m\u001b[0;34m\u001b[0m\u001b[0;34m\u001b[0m\u001b[0m\n\u001b[0;32m----> 2\u001b[0;31m \u001b[0mgender_model\u001b[0m\u001b[0;34m.\u001b[0m\u001b[0mevaluate\u001b[0m\u001b[0;34m(\u001b[0m\u001b[0mtest_x\u001b[0m\u001b[0;34m,\u001b[0m \u001b[0mtest_y\u001b[0m\u001b[0;34m,\u001b[0m \u001b[0mverbose\u001b[0m\u001b[0;34m=\u001b[0m\u001b[0;36m1\u001b[0m\u001b[0;34m)\u001b[0m\u001b[0;34m\u001b[0m\u001b[0;34m\u001b[0m\u001b[0m\n\u001b[0m",
            "\u001b[0;31mNameError\u001b[0m: name 'test_x' is not defined"
          ]
        }
      ]
    },
    {
      "cell_type": "code",
      "metadata": {
        "id": "o5Czd6JlrBWg",
        "outputId": "52e8a910-4bf2-4b17-9696-5b2dcf1110b3",
        "colab": {
          "base_uri": "https://localhost:8080/",
          "height": 166
        }
      },
      "source": [
        "predictions = gender_model.predict(test_x)"
      ],
      "execution_count": 28,
      "outputs": [
        {
          "output_type": "error",
          "ename": "NameError",
          "evalue": "ignored",
          "traceback": [
            "\u001b[0;31m---------------------------------------------------------------------------\u001b[0m",
            "\u001b[0;31mNameError\u001b[0m                                 Traceback (most recent call last)",
            "\u001b[0;32m<ipython-input-28-b976f9a754dd>\u001b[0m in \u001b[0;36m<module>\u001b[0;34m()\u001b[0m\n\u001b[0;32m----> 1\u001b[0;31m \u001b[0mpredictions\u001b[0m \u001b[0;34m=\u001b[0m \u001b[0mgender_model\u001b[0m\u001b[0;34m.\u001b[0m\u001b[0mpredict\u001b[0m\u001b[0;34m(\u001b[0m\u001b[0mtest_x\u001b[0m\u001b[0;34m)\u001b[0m\u001b[0;34m\u001b[0m\u001b[0;34m\u001b[0m\u001b[0m\n\u001b[0m",
            "\u001b[0;31mNameError\u001b[0m: name 'test_x' is not defined"
          ]
        }
      ]
    },
    {
      "cell_type": "code",
      "metadata": {
        "id": "aBlhJ8CHrBWg"
      },
      "source": [
        "from sklearn.metrics import classification_report, confusion_matrix\n",
        "\n",
        "pred_list = []; actual_list = []\n",
        "\n",
        "for i in predictions:\n",
        "    pred_list.append(np.argmax(i))\n",
        "\n",
        "for i in test_y: \n",
        "    actual_list.append(np.argmax(i))\n",
        "\n",
        "confusion_matrix(actual_list, pred_list)"
      ],
      "execution_count": null,
      "outputs": []
    },
    {
      "cell_type": "markdown",
      "metadata": {
        "id": "04_ztIcvrBWh"
      },
      "source": [
        "# Testing model\n",
        "\n",
        "Feed an image to find the gender"
      ]
    },
    {
      "cell_type": "code",
      "metadata": {
        "id": "o0EU9haqrBWh"
      },
      "source": [
        "from keras.preprocessing import image\n",
        "from keras.preprocessing.image import ImageDataGenerator"
      ],
      "execution_count": 29,
      "outputs": []
    },
    {
      "cell_type": "code",
      "metadata": {
        "id": "5spV8TvyrBWh"
      },
      "source": [
        "def loadImage(filepath):\n",
        "    test_img = image.load_img(filepath, target_size=(224, 224))\n",
        "    test_img = image.img_to_array(test_img)\n",
        "    test_img = np.expand_dims(test_img, axis = 0)\n",
        "    test_img /= 255\n",
        "    return test_img"
      ],
      "execution_count": 30,
      "outputs": []
    },
    {
      "cell_type": "code",
      "metadata": {
        "id": "1sea0yASrBWh"
      },
      "source": [
        "picture = \"/content/WhatsApp Image 2021-05-10 at 9.10.58 PM.jpeg\"\n",
        "\n",
        "prediction = gender_model.predict(loadImage(picture))"
      ],
      "execution_count": 39,
      "outputs": []
    },
    {
      "cell_type": "code",
      "metadata": {
        "id": "PXfszTB8rBWi",
        "outputId": "ab707ab2-8967-426c-b9be-0c63f94e3962",
        "colab": {
          "base_uri": "https://localhost:8080/",
          "height": 287
        }
      },
      "source": [
        "img = image.load_img(picture)#, target_size=(224, 224))\n",
        "plt.imshow(img)\n",
        "plt.show()\n",
        "\n",
        "gender = \"Man\" if np.argmax(prediction) == 1 else \"Woman\"\n",
        "\n",
        "print(\"gender: \", gender)"
      ],
      "execution_count": 40,
      "outputs": [
        {
          "output_type": "display_data",
          "data": {
            "image/png": "[encoded data removed]",
            "text/plain": [
              "<Figure size 432x288 with 1 Axes>"
            ]
          },
          "metadata": {
            "tags": [],
            "needs_background": "light"
          }
        },
        {
          "output_type": "stream",
          "text": [
            "gender:  Man\n"
          ],
          "name": "stdout"
        }
      ]
    },
    {
      "cell_type": "code",
      "metadata": {
        "id": "jbYykoNNrBWi"
      },
      "source": [
        ""
      ],
      "execution_count": null,
      "outputs": []
    }
  ]
}